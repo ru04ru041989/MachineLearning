{
 "cells": [
  {
   "cell_type": "markdown",
   "metadata": {},
   "source": [
    "# 1.  Data Understanding"
   ]
  },
  {
   "cell_type": "markdown",
   "metadata": {},
   "source": [
    "##  1.1 Set up background  "
   ]
  },
  {
   "cell_type": "markdown",
   "metadata": {},
   "source": [
    "### 1.1.1 Import Libraries Modules \n",
    "(for data analysis)"
   ]
  },
  {
   "cell_type": "code",
   "execution_count": 4,
   "metadata": {},
   "outputs": [],
   "source": [
    "# importing data analysis \n",
    "import numpy as np\n",
    "import pandas as pd"
   ]
  },
  {
   "cell_type": "code",
   "execution_count": 5,
   "metadata": {},
   "outputs": [],
   "source": [
    "# Visualisation\n",
    "import matplotlib as mpl\n",
    "import matplotlib.pyplot as plt\n",
    "import matplotlib.pylab as pylab\n",
    "import seaborn as sns\n",
    "\n",
    "# Configure visualisations\n",
    "%matplotlib inline\n",
    "mpl.style.use( 'ggplot' )\n",
    "sns.set_style( 'white' )\n",
    "pylab.rcParams[ 'figure.figsize' ] = 8 , 6"
   ]
  },
  {
   "cell_type": "markdown",
   "metadata": {},
   "source": [
    "### 1.1.2 Set up helper Function"
   ]
  },
  {
   "cell_type": "code",
   "execution_count": 3,
   "metadata": {},
   "outputs": [],
   "source": [
    "def plot_histograms( df , variables , n_rows , n_cols ):\n",
    "    fig = plt.figure( figsize = ( 16 , 12 ) )\n",
    "    for i, var_name in enumerate( variables ):\n",
    "        ax=fig.add_subplot( n_rows , n_cols , i+1 )\n",
    "        df[ var_name ].hist( bins=10 , ax=ax )\n",
    "        ax.set_title( 'Skew: ' + str( round( float( df[ var_name ].skew() ) , ) ) ) # + ' ' + var_name ) #var_name+\" Distribution\")\n",
    "        ax.set_xticklabels( [] , visible=False )\n",
    "        ax.set_yticklabels( [] , visible=False )\n",
    "    fig.tight_layout()  # Improves appearance a bit.\n",
    "    plt.show()\n",
    "\n",
    "def plot_distribution( df , var , target , **kwargs ):\n",
    "    row = kwargs.get( 'row' , None )\n",
    "    col = kwargs.get( 'col' , None )\n",
    "    facet = sns.FacetGrid( df , hue=target , aspect=4 , row = row , col = col )\n",
    "    facet.map( sns.kdeplot , var , shade= True )\n",
    "    facet.set( xlim=( 0 , df[ var ].max() ) )\n",
    "    facet.add_legend()\n",
    "\n",
    "def plot_categories( df , cat , target , **kwargs ):\n",
    "    row = kwargs.get( 'row' , None )\n",
    "    col = kwargs.get( 'col' , None )\n",
    "    facet = sns.FacetGrid( df , row = row , col = col )\n",
    "    facet.map( sns.barplot , cat , target )\n",
    "    facet.add_legend()\n",
    "\n",
    "def plot_correlation_map( df ):\n",
    "    corr = df.corr()\n",
    "    _ , ax = plt.subplots( figsize =( 12 , 10 ) )\n",
    "    cmap = sns.diverging_palette( 220 , 10 , as_cmap = True )\n",
    "    _ = sns.heatmap(\n",
    "        corr, \n",
    "        cmap = cmap,\n",
    "        square=True, \n",
    "        cbar_kws={ 'shrink' : .9 }, \n",
    "        ax=ax, \n",
    "        annot = True, \n",
    "        annot_kws = { 'fontsize' : 12 }\n",
    "    )\n",
    "\n",
    "def describe_more( df ):\n",
    "    var = [] ; l = [] ; t = []\n",
    "    for x in df:\n",
    "        var.append( x )\n",
    "        l.append( len( pd.value_counts( df[ x ] ) ) )\n",
    "        t.append( df[ x ].dtypes )\n",
    "    levels = pd.DataFrame( { 'Variable' : var , 'Levels' : l , 'Datatype' : t } )\n",
    "    levels.sort_values( by = 'Levels' , inplace = True )\n",
    "    return levels\n",
    "\n",
    "def plot_variable_importance( X , y ):\n",
    "    tree = DecisionTreeClassifier( random_state = 99 )\n",
    "    tree.fit( X , y )\n",
    "    plot_model_var_imp( tree , X , y )\n",
    "    \n",
    "def plot_model_var_imp( model , X , y ):\n",
    "    imp = pd.DataFrame( \n",
    "        model.feature_importances_  , \n",
    "        columns = [ 'Importance' ] , \n",
    "        index = X.columns \n",
    "    )\n",
    "    imp = imp.sort_values( [ 'Importance' ] , ascending = True )\n",
    "    imp[ : 10 ].plot( kind = 'barh' )\n",
    "    print (model.score( X , y ))\n"
   ]
  },
  {
   "cell_type": "markdown",
   "metadata": {},
   "source": [
    "## 1.2 Loading data"
   ]
  },
  {
   "cell_type": "code",
   "execution_count": 6,
   "metadata": {},
   "outputs": [],
   "source": [
    "train_df = pd.read_csv('train.csv')\n",
    "test_df = pd.read_csv('test.csv')"
   ]
  },
  {
   "cell_type": "markdown",
   "metadata": {},
   "source": [
    "Variable Description:\n",
    "\n",
    "> Survived: Survived (1) or died (0)  \n",
    "> Pclass: Passenger's class  \n",
    "> Name: Passenger's name  \n",
    "> Sex: Passenger's sex  \n",
    "> Age: Passenger's age  \n",
    "> SibSp: Number of siblings/spouses aboard  \n",
    "> Parch: Number of parents/children aboard  \n",
    "> Ticket: Ticket number  \n",
    "> Fare: Fare  \n",
    "> Cabin: Cabin  \n",
    "> Embarked: Port of embarkation  "
   ]
  },
  {
   "cell_type": "markdown",
   "metadata": {},
   "source": [
    "### + peak the data"
   ]
  },
  {
   "cell_type": "code",
   "execution_count": 7,
   "metadata": {},
   "outputs": [
    {
     "data": {
      "text/html": [
       "<div>\n",
       "<style scoped>\n",
       "    .dataframe tbody tr th:only-of-type {\n",
       "        vertical-align: middle;\n",
       "    }\n",
       "\n",
       "    .dataframe tbody tr th {\n",
       "        vertical-align: top;\n",
       "    }\n",
       "\n",
       "    .dataframe thead th {\n",
       "        text-align: right;\n",
       "    }\n",
       "</style>\n",
       "<table border=\"1\" class=\"dataframe\">\n",
       "  <thead>\n",
       "    <tr style=\"text-align: right;\">\n",
       "      <th></th>\n",
       "      <th>PassengerId</th>\n",
       "      <th>Survived</th>\n",
       "      <th>Pclass</th>\n",
       "      <th>Name</th>\n",
       "      <th>Sex</th>\n",
       "      <th>Age</th>\n",
       "      <th>SibSp</th>\n",
       "      <th>Parch</th>\n",
       "      <th>Ticket</th>\n",
       "      <th>Fare</th>\n",
       "      <th>Cabin</th>\n",
       "      <th>Embarked</th>\n",
       "    </tr>\n",
       "  </thead>\n",
       "  <tbody>\n",
       "    <tr>\n",
       "      <th>0</th>\n",
       "      <td>1</td>\n",
       "      <td>0</td>\n",
       "      <td>3</td>\n",
       "      <td>Braund, Mr. Owen Harris</td>\n",
       "      <td>male</td>\n",
       "      <td>22.0</td>\n",
       "      <td>1</td>\n",
       "      <td>0</td>\n",
       "      <td>A/5 21171</td>\n",
       "      <td>7.2500</td>\n",
       "      <td>NaN</td>\n",
       "      <td>S</td>\n",
       "    </tr>\n",
       "    <tr>\n",
       "      <th>1</th>\n",
       "      <td>2</td>\n",
       "      <td>1</td>\n",
       "      <td>1</td>\n",
       "      <td>Cumings, Mrs. John Bradley (Florence Briggs Th...</td>\n",
       "      <td>female</td>\n",
       "      <td>38.0</td>\n",
       "      <td>1</td>\n",
       "      <td>0</td>\n",
       "      <td>PC 17599</td>\n",
       "      <td>71.2833</td>\n",
       "      <td>C85</td>\n",
       "      <td>C</td>\n",
       "    </tr>\n",
       "    <tr>\n",
       "      <th>2</th>\n",
       "      <td>3</td>\n",
       "      <td>1</td>\n",
       "      <td>3</td>\n",
       "      <td>Heikkinen, Miss. Laina</td>\n",
       "      <td>female</td>\n",
       "      <td>26.0</td>\n",
       "      <td>0</td>\n",
       "      <td>0</td>\n",
       "      <td>STON/O2. 3101282</td>\n",
       "      <td>7.9250</td>\n",
       "      <td>NaN</td>\n",
       "      <td>S</td>\n",
       "    </tr>\n",
       "    <tr>\n",
       "      <th>3</th>\n",
       "      <td>4</td>\n",
       "      <td>1</td>\n",
       "      <td>1</td>\n",
       "      <td>Futrelle, Mrs. Jacques Heath (Lily May Peel)</td>\n",
       "      <td>female</td>\n",
       "      <td>35.0</td>\n",
       "      <td>1</td>\n",
       "      <td>0</td>\n",
       "      <td>113803</td>\n",
       "      <td>53.1000</td>\n",
       "      <td>C123</td>\n",
       "      <td>S</td>\n",
       "    </tr>\n",
       "    <tr>\n",
       "      <th>4</th>\n",
       "      <td>5</td>\n",
       "      <td>0</td>\n",
       "      <td>3</td>\n",
       "      <td>Allen, Mr. William Henry</td>\n",
       "      <td>male</td>\n",
       "      <td>35.0</td>\n",
       "      <td>0</td>\n",
       "      <td>0</td>\n",
       "      <td>373450</td>\n",
       "      <td>8.0500</td>\n",
       "      <td>NaN</td>\n",
       "      <td>S</td>\n",
       "    </tr>\n",
       "  </tbody>\n",
       "</table>\n",
       "</div>"
      ],
      "text/plain": [
       "   PassengerId  Survived  Pclass  \\\n",
       "0            1         0       3   \n",
       "1            2         1       1   \n",
       "2            3         1       3   \n",
       "3            4         1       1   \n",
       "4            5         0       3   \n",
       "\n",
       "                                                Name     Sex   Age  SibSp  \\\n",
       "0                            Braund, Mr. Owen Harris    male  22.0      1   \n",
       "1  Cumings, Mrs. John Bradley (Florence Briggs Th...  female  38.0      1   \n",
       "2                             Heikkinen, Miss. Laina  female  26.0      0   \n",
       "3       Futrelle, Mrs. Jacques Heath (Lily May Peel)  female  35.0      1   \n",
       "4                           Allen, Mr. William Henry    male  35.0      0   \n",
       "\n",
       "   Parch            Ticket     Fare Cabin Embarked  \n",
       "0      0         A/5 21171   7.2500   NaN        S  \n",
       "1      0          PC 17599  71.2833   C85        C  \n",
       "2      0  STON/O2. 3101282   7.9250   NaN        S  \n",
       "3      0            113803  53.1000  C123        S  \n",
       "4      0            373450   8.0500   NaN        S  "
      ]
     },
     "execution_count": 7,
     "metadata": {},
     "output_type": "execute_result"
    }
   ],
   "source": [
    "train_df.head()"
   ]
  },
  {
   "cell_type": "code",
   "execution_count": 8,
   "metadata": {
    "scrolled": true
   },
   "outputs": [
    {
     "name": "stdout",
     "output_type": "stream",
     "text": [
      "<class 'pandas.core.frame.DataFrame'>\n",
      "RangeIndex: 891 entries, 0 to 890\n",
      "Data columns (total 12 columns):\n",
      "PassengerId    891 non-null int64\n",
      "Survived       891 non-null int64\n",
      "Pclass         891 non-null int64\n",
      "Name           891 non-null object\n",
      "Sex            891 non-null object\n",
      "Age            714 non-null float64\n",
      "SibSp          891 non-null int64\n",
      "Parch          891 non-null int64\n",
      "Ticket         891 non-null object\n",
      "Fare           891 non-null float64\n",
      "Cabin          204 non-null object\n",
      "Embarked       889 non-null object\n",
      "dtypes: float64(2), int64(5), object(5)\n",
      "memory usage: 83.6+ KB\n"
     ]
    }
   ],
   "source": [
    "train_df.info()"
   ]
  },
  {
   "cell_type": "code",
   "execution_count": 8,
   "metadata": {},
   "outputs": [
    {
     "data": {
      "text/html": [
       "<div>\n",
       "<style scoped>\n",
       "    .dataframe tbody tr th:only-of-type {\n",
       "        vertical-align: middle;\n",
       "    }\n",
       "\n",
       "    .dataframe tbody tr th {\n",
       "        vertical-align: top;\n",
       "    }\n",
       "\n",
       "    .dataframe thead th {\n",
       "        text-align: right;\n",
       "    }\n",
       "</style>\n",
       "<table border=\"1\" class=\"dataframe\">\n",
       "  <thead>\n",
       "    <tr style=\"text-align: right;\">\n",
       "      <th></th>\n",
       "      <th>PassengerId</th>\n",
       "      <th>Survived</th>\n",
       "      <th>Pclass</th>\n",
       "      <th>Age</th>\n",
       "      <th>SibSp</th>\n",
       "      <th>Parch</th>\n",
       "      <th>Fare</th>\n",
       "    </tr>\n",
       "  </thead>\n",
       "  <tbody>\n",
       "    <tr>\n",
       "      <th>count</th>\n",
       "      <td>891.000000</td>\n",
       "      <td>891.000000</td>\n",
       "      <td>891.000000</td>\n",
       "      <td>714.000000</td>\n",
       "      <td>891.000000</td>\n",
       "      <td>891.000000</td>\n",
       "      <td>891.000000</td>\n",
       "    </tr>\n",
       "    <tr>\n",
       "      <th>mean</th>\n",
       "      <td>446.000000</td>\n",
       "      <td>0.383838</td>\n",
       "      <td>2.308642</td>\n",
       "      <td>29.699118</td>\n",
       "      <td>0.523008</td>\n",
       "      <td>0.381594</td>\n",
       "      <td>32.204208</td>\n",
       "    </tr>\n",
       "    <tr>\n",
       "      <th>std</th>\n",
       "      <td>257.353842</td>\n",
       "      <td>0.486592</td>\n",
       "      <td>0.836071</td>\n",
       "      <td>14.526497</td>\n",
       "      <td>1.102743</td>\n",
       "      <td>0.806057</td>\n",
       "      <td>49.693429</td>\n",
       "    </tr>\n",
       "    <tr>\n",
       "      <th>min</th>\n",
       "      <td>1.000000</td>\n",
       "      <td>0.000000</td>\n",
       "      <td>1.000000</td>\n",
       "      <td>0.420000</td>\n",
       "      <td>0.000000</td>\n",
       "      <td>0.000000</td>\n",
       "      <td>0.000000</td>\n",
       "    </tr>\n",
       "    <tr>\n",
       "      <th>25%</th>\n",
       "      <td>223.500000</td>\n",
       "      <td>0.000000</td>\n",
       "      <td>2.000000</td>\n",
       "      <td>20.125000</td>\n",
       "      <td>0.000000</td>\n",
       "      <td>0.000000</td>\n",
       "      <td>7.910400</td>\n",
       "    </tr>\n",
       "    <tr>\n",
       "      <th>50%</th>\n",
       "      <td>446.000000</td>\n",
       "      <td>0.000000</td>\n",
       "      <td>3.000000</td>\n",
       "      <td>28.000000</td>\n",
       "      <td>0.000000</td>\n",
       "      <td>0.000000</td>\n",
       "      <td>14.454200</td>\n",
       "    </tr>\n",
       "    <tr>\n",
       "      <th>75%</th>\n",
       "      <td>668.500000</td>\n",
       "      <td>1.000000</td>\n",
       "      <td>3.000000</td>\n",
       "      <td>38.000000</td>\n",
       "      <td>1.000000</td>\n",
       "      <td>0.000000</td>\n",
       "      <td>31.000000</td>\n",
       "    </tr>\n",
       "    <tr>\n",
       "      <th>max</th>\n",
       "      <td>891.000000</td>\n",
       "      <td>1.000000</td>\n",
       "      <td>3.000000</td>\n",
       "      <td>80.000000</td>\n",
       "      <td>8.000000</td>\n",
       "      <td>6.000000</td>\n",
       "      <td>512.329200</td>\n",
       "    </tr>\n",
       "  </tbody>\n",
       "</table>\n",
       "</div>"
      ],
      "text/plain": [
       "       PassengerId    Survived      Pclass         Age       SibSp  \\\n",
       "count   891.000000  891.000000  891.000000  714.000000  891.000000   \n",
       "mean    446.000000    0.383838    2.308642   29.699118    0.523008   \n",
       "std     257.353842    0.486592    0.836071   14.526497    1.102743   \n",
       "min       1.000000    0.000000    1.000000    0.420000    0.000000   \n",
       "25%     223.500000    0.000000    2.000000   20.125000    0.000000   \n",
       "50%     446.000000    0.000000    3.000000   28.000000    0.000000   \n",
       "75%     668.500000    1.000000    3.000000   38.000000    1.000000   \n",
       "max     891.000000    1.000000    3.000000   80.000000    8.000000   \n",
       "\n",
       "            Parch        Fare  \n",
       "count  891.000000  891.000000  \n",
       "mean     0.381594   32.204208  \n",
       "std      0.806057   49.693429  \n",
       "min      0.000000    0.000000  \n",
       "25%      0.000000    7.910400  \n",
       "50%      0.000000   14.454200  \n",
       "75%      0.000000   31.000000  \n",
       "max      6.000000  512.329200  "
      ]
     },
     "execution_count": 8,
     "metadata": {},
     "output_type": "execute_result"
    }
   ],
   "source": [
    "# describe the nurmatic column\n",
    "train_df.describe()"
   ]
  },
  {
   "cell_type": "code",
   "execution_count": 9,
   "metadata": {},
   "outputs": [
    {
     "data": {
      "text/html": [
       "<div>\n",
       "<style scoped>\n",
       "    .dataframe tbody tr th:only-of-type {\n",
       "        vertical-align: middle;\n",
       "    }\n",
       "\n",
       "    .dataframe tbody tr th {\n",
       "        vertical-align: top;\n",
       "    }\n",
       "\n",
       "    .dataframe thead th {\n",
       "        text-align: right;\n",
       "    }\n",
       "</style>\n",
       "<table border=\"1\" class=\"dataframe\">\n",
       "  <thead>\n",
       "    <tr style=\"text-align: right;\">\n",
       "      <th></th>\n",
       "      <th>Name</th>\n",
       "      <th>Sex</th>\n",
       "      <th>Ticket</th>\n",
       "      <th>Cabin</th>\n",
       "      <th>Embarked</th>\n",
       "    </tr>\n",
       "  </thead>\n",
       "  <tbody>\n",
       "    <tr>\n",
       "      <th>count</th>\n",
       "      <td>891</td>\n",
       "      <td>891</td>\n",
       "      <td>891</td>\n",
       "      <td>204</td>\n",
       "      <td>889</td>\n",
       "    </tr>\n",
       "    <tr>\n",
       "      <th>unique</th>\n",
       "      <td>891</td>\n",
       "      <td>2</td>\n",
       "      <td>681</td>\n",
       "      <td>147</td>\n",
       "      <td>3</td>\n",
       "    </tr>\n",
       "    <tr>\n",
       "      <th>top</th>\n",
       "      <td>Allum, Mr. Owen George</td>\n",
       "      <td>male</td>\n",
       "      <td>CA. 2343</td>\n",
       "      <td>B96 B98</td>\n",
       "      <td>S</td>\n",
       "    </tr>\n",
       "    <tr>\n",
       "      <th>freq</th>\n",
       "      <td>1</td>\n",
       "      <td>577</td>\n",
       "      <td>7</td>\n",
       "      <td>4</td>\n",
       "      <td>644</td>\n",
       "    </tr>\n",
       "  </tbody>\n",
       "</table>\n",
       "</div>"
      ],
      "text/plain": [
       "                          Name   Sex    Ticket    Cabin Embarked\n",
       "count                      891   891       891      204      889\n",
       "unique                     891     2       681      147        3\n",
       "top     Allum, Mr. Owen George  male  CA. 2343  B96 B98        S\n",
       "freq                         1   577         7        4      644"
      ]
     },
     "execution_count": 9,
     "metadata": {},
     "output_type": "execute_result"
    }
   ],
   "source": [
    "# describe object type\n",
    "train_df.describe(include= ['O'])"
   ]
  },
  {
   "cell_type": "markdown",
   "metadata": {},
   "source": [
    "## 1.3 Visualizing Data  \n",
    "+ for observation, so that we can know which should be the predictor"
   ]
  },
  {
   "cell_type": "markdown",
   "metadata": {},
   "source": [
    "### 1.3.1 For categorical, ordinal or discrete type:  \n",
    "+ group the x factor, to see the mean of the predict factor\n",
    "> table  \n",
    "> boxplot"
   ]
  },
  {
   "cell_type": "code",
   "execution_count": 10,
   "metadata": {},
   "outputs": [],
   "source": [
    "# use function\n",
    "def show_mean(x, y):\n",
    "    return train_df[[x, y]].groupby([x]).mean().sort_values(by = y)"
   ]
  },
  {
   "cell_type": "code",
   "execution_count": 11,
   "metadata": {},
   "outputs": [
    {
     "data": {
      "text/html": [
       "<div>\n",
       "<style scoped>\n",
       "    .dataframe tbody tr th:only-of-type {\n",
       "        vertical-align: middle;\n",
       "    }\n",
       "\n",
       "    .dataframe tbody tr th {\n",
       "        vertical-align: top;\n",
       "    }\n",
       "\n",
       "    .dataframe thead th {\n",
       "        text-align: right;\n",
       "    }\n",
       "</style>\n",
       "<table border=\"1\" class=\"dataframe\">\n",
       "  <thead>\n",
       "    <tr style=\"text-align: right;\">\n",
       "      <th></th>\n",
       "      <th>Survived</th>\n",
       "    </tr>\n",
       "    <tr>\n",
       "      <th>Embarked</th>\n",
       "      <th></th>\n",
       "    </tr>\n",
       "  </thead>\n",
       "  <tbody>\n",
       "    <tr>\n",
       "      <th>S</th>\n",
       "      <td>0.336957</td>\n",
       "    </tr>\n",
       "    <tr>\n",
       "      <th>Q</th>\n",
       "      <td>0.389610</td>\n",
       "    </tr>\n",
       "    <tr>\n",
       "      <th>C</th>\n",
       "      <td>0.553571</td>\n",
       "    </tr>\n",
       "  </tbody>\n",
       "</table>\n",
       "</div>"
      ],
      "text/plain": [
       "          Survived\n",
       "Embarked          \n",
       "S         0.336957\n",
       "Q         0.389610\n",
       "C         0.553571"
      ]
     },
     "execution_count": 11,
     "metadata": {},
     "output_type": "execute_result"
    }
   ],
   "source": [
    "show_mean('Embarked','Survived')"
   ]
  },
  {
   "cell_type": "code",
   "execution_count": 12,
   "metadata": {},
   "outputs": [
    {
     "data": {
      "text/html": [
       "<div>\n",
       "<style scoped>\n",
       "    .dataframe tbody tr th:only-of-type {\n",
       "        vertical-align: middle;\n",
       "    }\n",
       "\n",
       "    .dataframe tbody tr th {\n",
       "        vertical-align: top;\n",
       "    }\n",
       "\n",
       "    .dataframe thead th {\n",
       "        text-align: right;\n",
       "    }\n",
       "</style>\n",
       "<table border=\"1\" class=\"dataframe\">\n",
       "  <thead>\n",
       "    <tr style=\"text-align: right;\">\n",
       "      <th></th>\n",
       "      <th>Survived</th>\n",
       "    </tr>\n",
       "    <tr>\n",
       "      <th>Sex</th>\n",
       "      <th></th>\n",
       "    </tr>\n",
       "  </thead>\n",
       "  <tbody>\n",
       "    <tr>\n",
       "      <th>male</th>\n",
       "      <td>0.188908</td>\n",
       "    </tr>\n",
       "    <tr>\n",
       "      <th>female</th>\n",
       "      <td>0.742038</td>\n",
       "    </tr>\n",
       "  </tbody>\n",
       "</table>\n",
       "</div>"
      ],
      "text/plain": [
       "        Survived\n",
       "Sex             \n",
       "male    0.188908\n",
       "female  0.742038"
      ]
     },
     "execution_count": 12,
     "metadata": {},
     "output_type": "execute_result"
    }
   ],
   "source": [
    "show_mean('Sex','Survived')"
   ]
  },
  {
   "cell_type": "code",
   "execution_count": 13,
   "metadata": {},
   "outputs": [
    {
     "data": {
      "text/html": [
       "<div>\n",
       "<style scoped>\n",
       "    .dataframe tbody tr th:only-of-type {\n",
       "        vertical-align: middle;\n",
       "    }\n",
       "\n",
       "    .dataframe tbody tr th {\n",
       "        vertical-align: top;\n",
       "    }\n",
       "\n",
       "    .dataframe thead th {\n",
       "        text-align: right;\n",
       "    }\n",
       "</style>\n",
       "<table border=\"1\" class=\"dataframe\">\n",
       "  <thead>\n",
       "    <tr style=\"text-align: right;\">\n",
       "      <th></th>\n",
       "      <th>Survived</th>\n",
       "    </tr>\n",
       "    <tr>\n",
       "      <th>SibSp</th>\n",
       "      <th></th>\n",
       "    </tr>\n",
       "  </thead>\n",
       "  <tbody>\n",
       "    <tr>\n",
       "      <th>5</th>\n",
       "      <td>0.000000</td>\n",
       "    </tr>\n",
       "    <tr>\n",
       "      <th>8</th>\n",
       "      <td>0.000000</td>\n",
       "    </tr>\n",
       "    <tr>\n",
       "      <th>4</th>\n",
       "      <td>0.166667</td>\n",
       "    </tr>\n",
       "    <tr>\n",
       "      <th>3</th>\n",
       "      <td>0.250000</td>\n",
       "    </tr>\n",
       "    <tr>\n",
       "      <th>0</th>\n",
       "      <td>0.345395</td>\n",
       "    </tr>\n",
       "    <tr>\n",
       "      <th>2</th>\n",
       "      <td>0.464286</td>\n",
       "    </tr>\n",
       "    <tr>\n",
       "      <th>1</th>\n",
       "      <td>0.535885</td>\n",
       "    </tr>\n",
       "  </tbody>\n",
       "</table>\n",
       "</div>"
      ],
      "text/plain": [
       "       Survived\n",
       "SibSp          \n",
       "5      0.000000\n",
       "8      0.000000\n",
       "4      0.166667\n",
       "3      0.250000\n",
       "0      0.345395\n",
       "2      0.464286\n",
       "1      0.535885"
      ]
     },
     "execution_count": 13,
     "metadata": {},
     "output_type": "execute_result"
    }
   ],
   "source": [
    "show_mean('SibSp','Survived')"
   ]
  },
  {
   "cell_type": "code",
   "execution_count": 14,
   "metadata": {},
   "outputs": [
    {
     "data": {
      "text/plain": [
       "<matplotlib.axes._subplots.AxesSubplot at 0x22382123fd0>"
      ]
     },
     "execution_count": 14,
     "metadata": {},
     "output_type": "execute_result"
    },
    {
     "data": {
      "image/png": "[encoded data removed]",
      "text/plain": [
       "<Figure size 432x288 with 1 Axes>"
      ]
     },
     "metadata": {},
     "output_type": "display_data"
    }
   ],
   "source": [
    "sns.barplot(x = \"Embarked\", y = \"Survived\", hue = \"Sex\", data = train_df)"
   ]
  },
  {
   "cell_type": "markdown",
   "metadata": {},
   "source": [
    "### 1.3.2 For numerical features:  \n",
    "+ histogram chart\n",
    "+ coorelation map"
   ]
  },
  {
   "cell_type": "code",
   "execution_count": 15,
   "metadata": {},
   "outputs": [],
   "source": [
    "# hist function\n",
    "def hist_plot(df, x, target, row = 0):\n",
    "    if row == 0:\n",
    "        plot_distribution( df , var = x , target = target  )\n",
    "    else:\n",
    "        plot_distribution( df , var = x , target = target , row = row )"
   ]
  },
  {
   "cell_type": "code",
   "execution_count": 16,
   "metadata": {},
   "outputs": [
    {
     "data": {
      "image/png": "[encoded data removed]",
      "text/plain": [
       "<Figure size 918.75x432 with 2 Axes>"
      ]
     },
     "metadata": {},
     "output_type": "display_data"
    }
   ],
   "source": [
    "hist_plot(train_df, 'Age', 'Survived', 'Sex')"
   ]
  },
  {
   "cell_type": "code",
   "execution_count": 17,
   "metadata": {},
   "outputs": [
    {
     "data": {
      "image/png": "[encoded data removed]",
      "text/plain": [
       "<Figure size 918.75x216 with 1 Axes>"
      ]
     },
     "metadata": {},
     "output_type": "display_data"
    }
   ],
   "source": [
    "hist_plot(train_df, 'Fare', 'Survived')"
   ]
  },
  {
   "cell_type": "code",
   "execution_count": 18,
   "metadata": {},
   "outputs": [
    {
     "data": {
      "image/png": "[encoded data removed]",
      "text/plain": [
       "<Figure size 864x720 with 2 Axes>"
      ]
     },
     "metadata": {},
     "output_type": "display_data"
    }
   ],
   "source": [
    "select_feature = ['Survived', 'Age', 'SibSp', 'Parch', 'Fare']\n",
    "plot_correlation_map( train_df[select_feature] )"
   ]
  },
  {
   "cell_type": "markdown",
   "metadata": {},
   "source": [
    " ------"
   ]
  },
  {
   "cell_type": "markdown",
   "metadata": {},
   "source": [
    "# 2. Wrangle data/ Data preparation"
   ]
  },
  {
   "cell_type": "markdown",
   "metadata": {},
   "source": [
    "- Write as a function/ or combine two data set and using for loop, so that can apply on train and test set\n",
    "- Step:   \n",
    "-- (Dropping features which do not want to including in final analys... to speed up, but not necessary)   \n",
    "--  Dealing with NA values  \n",
    "-- Creating new feature (combine, modify some of current features)  \n",
    "--  Dependands on the ML model wants to apply:  \n",
    "> Transforming feature (eg. categorical variables > numeric variables, numeric > logical groups....)  \n",
    "\n",
    " -- (Dropping data, to make data frame clear, can do this at any point) "
   ]
  },
  {
   "cell_type": "code",
   "execution_count": 83,
   "metadata": {},
   "outputs": [],
   "source": [
    "# just reload data againg for easiler restart point\n",
    "train_df = pd.read_csv('train.csv')\n",
    "test_df = pd.read_csv('test.csv')"
   ]
  },
  {
   "cell_type": "markdown",
   "metadata": {},
   "source": [
    "## 2.1 Fill miss value"
   ]
  },
  {
   "cell_type": "markdown",
   "metadata": {},
   "source": [
    "### 2.1.1 Example\n",
    "+ for Age and Fare  \n",
    "> keep numerical type:  \n",
    "> + add features 'Age_fill_mean' and 'Fare_fill_median'   \n",
    "> \n",
    "> transform to category:  \n",
    "> + add feature 'Age_bin' and 'Fare_bin'  \n",
    "  \n",
    "+ for Cabin\n",
    "> NaN > unknow  \n",
    "\n",
    "+ for Embarked\n",
    "> NaN > most common occurance"
   ]
  },
  {
   "cell_type": "markdown",
   "metadata": {},
   "source": [
    "+ Option 1: Drop the data  \n",
    "> if the sample size is large  \n",
    "> be sure that the values are missing at random\n",
    "\n",
    "+ Option 2: Imputation\n",
    "\n",
    "> for categorical :   \n",
    ">> if the miss is a lot, then add another unknow categorical  \n",
    ">> if only few miss, maybe just add the most common occurance\n",
    "\n",
    "> for numerical :  \n",
    ">> mean / median imputation  \n",
    ">> convert to category \n",
    ">> multiple imputation (using multiple regression to imputation this value by other feature)"
   ]
  },
  {
   "cell_type": "code",
   "execution_count": 9,
   "metadata": {},
   "outputs": [],
   "source": [
    "# use function\n",
    "def deal_na(df):    \n",
    "    df['Age_fill'] = df['Age'].fillna(df['Age'].mean())\n",
    "    df['Fare_fill'] = df['Fare'].fillna(df['Fare'].median())\n",
    "    \n",
    "    df['Cabin'] = df['Cabin'].fillna('Unknow')\n",
    "    \n",
    "    freq_port = df['Embarked'].dropna().mode()[0]  # get the most common occurance\n",
    "    df['Embarked'] = df['Embarked'].fillna(freq_port)\n",
    "    return df"
   ]
  },
  {
   "cell_type": "code",
   "execution_count": 10,
   "metadata": {},
   "outputs": [
    {
     "data": {
      "text/html": [
       "<div>\n",
       "<style scoped>\n",
       "    .dataframe tbody tr th:only-of-type {\n",
       "        vertical-align: middle;\n",
       "    }\n",
       "\n",
       "    .dataframe tbody tr th {\n",
       "        vertical-align: top;\n",
       "    }\n",
       "\n",
       "    .dataframe thead th {\n",
       "        text-align: right;\n",
       "    }\n",
       "</style>\n",
       "<table border=\"1\" class=\"dataframe\">\n",
       "  <thead>\n",
       "    <tr style=\"text-align: right;\">\n",
       "      <th></th>\n",
       "      <th>PassengerId</th>\n",
       "      <th>Survived</th>\n",
       "      <th>Pclass</th>\n",
       "      <th>Name</th>\n",
       "      <th>Sex</th>\n",
       "      <th>Age</th>\n",
       "      <th>SibSp</th>\n",
       "      <th>Parch</th>\n",
       "      <th>Ticket</th>\n",
       "      <th>Fare</th>\n",
       "      <th>Cabin</th>\n",
       "      <th>Embarked</th>\n",
       "      <th>Age_fill</th>\n",
       "      <th>Fare_fill</th>\n",
       "    </tr>\n",
       "  </thead>\n",
       "  <tbody>\n",
       "    <tr>\n",
       "      <th>0</th>\n",
       "      <td>1</td>\n",
       "      <td>0</td>\n",
       "      <td>3</td>\n",
       "      <td>Braund, Mr. Owen Harris</td>\n",
       "      <td>male</td>\n",
       "      <td>22.0</td>\n",
       "      <td>1</td>\n",
       "      <td>0</td>\n",
       "      <td>A/5 21171</td>\n",
       "      <td>7.2500</td>\n",
       "      <td>Unknow</td>\n",
       "      <td>S</td>\n",
       "      <td>22.0</td>\n",
       "      <td>7.2500</td>\n",
       "    </tr>\n",
       "    <tr>\n",
       "      <th>1</th>\n",
       "      <td>2</td>\n",
       "      <td>1</td>\n",
       "      <td>1</td>\n",
       "      <td>Cumings, Mrs. John Bradley (Florence Briggs Th...</td>\n",
       "      <td>female</td>\n",
       "      <td>38.0</td>\n",
       "      <td>1</td>\n",
       "      <td>0</td>\n",
       "      <td>PC 17599</td>\n",
       "      <td>71.2833</td>\n",
       "      <td>C85</td>\n",
       "      <td>C</td>\n",
       "      <td>38.0</td>\n",
       "      <td>71.2833</td>\n",
       "    </tr>\n",
       "    <tr>\n",
       "      <th>2</th>\n",
       "      <td>3</td>\n",
       "      <td>1</td>\n",
       "      <td>3</td>\n",
       "      <td>Heikkinen, Miss. Laina</td>\n",
       "      <td>female</td>\n",
       "      <td>26.0</td>\n",
       "      <td>0</td>\n",
       "      <td>0</td>\n",
       "      <td>STON/O2. 3101282</td>\n",
       "      <td>7.9250</td>\n",
       "      <td>Unknow</td>\n",
       "      <td>S</td>\n",
       "      <td>26.0</td>\n",
       "      <td>7.9250</td>\n",
       "    </tr>\n",
       "  </tbody>\n",
       "</table>\n",
       "</div>"
      ],
      "text/plain": [
       "   PassengerId  Survived  Pclass  \\\n",
       "0            1         0       3   \n",
       "1            2         1       1   \n",
       "2            3         1       3   \n",
       "\n",
       "                                                Name     Sex   Age  SibSp  \\\n",
       "0                            Braund, Mr. Owen Harris    male  22.0      1   \n",
       "1  Cumings, Mrs. John Bradley (Florence Briggs Th...  female  38.0      1   \n",
       "2                             Heikkinen, Miss. Laina  female  26.0      0   \n",
       "\n",
       "   Parch            Ticket     Fare   Cabin Embarked  Age_fill  Fare_fill  \n",
       "0      0         A/5 21171   7.2500  Unknow        S      22.0     7.2500  \n",
       "1      0          PC 17599  71.2833     C85        C      38.0    71.2833  \n",
       "2      0  STON/O2. 3101282   7.9250  Unknow        S      26.0     7.9250  "
      ]
     },
     "execution_count": 10,
     "metadata": {},
     "output_type": "execute_result"
    }
   ],
   "source": [
    "# apply to the data set\n",
    "train_df = deal_na(train_df)\n",
    "test_df = deal_na(test_df)\n",
    "\n",
    "train_df.head(3)"
   ]
  },
  {
   "cell_type": "markdown",
   "metadata": {},
   "source": [
    "## 2.2 Creating new feature"
   ]
  },
  {
   "cell_type": "markdown",
   "metadata": {},
   "source": [
    "### 2.2.1 Example of extracting string from a feature and modify it\n",
    "+ Creating 'Title' feature  \n",
    "++ extract from 'Name' feature  \n",
    "++ display now feature by using crosstab function  \n",
    "++ simplify/ classify the new feature\n",
    "++ transform feature"
   ]
  },
  {
   "cell_type": "code",
   "execution_count": 11,
   "metadata": {},
   "outputs": [],
   "source": [
    "# function of creat 'Title' feature\n",
    "def add_title(df):\n",
    "    df['Title'] = df.Name.str.extract(' ([A-Za-z]+)\\.', expand = False)\n",
    "    return df"
   ]
  },
  {
   "cell_type": "code",
   "execution_count": 12,
   "metadata": {},
   "outputs": [
    {
     "data": {
      "text/html": [
       "<div>\n",
       "<style scoped>\n",
       "    .dataframe tbody tr th:only-of-type {\n",
       "        vertical-align: middle;\n",
       "    }\n",
       "\n",
       "    .dataframe tbody tr th {\n",
       "        vertical-align: top;\n",
       "    }\n",
       "\n",
       "    .dataframe thead th {\n",
       "        text-align: right;\n",
       "    }\n",
       "</style>\n",
       "<table border=\"1\" class=\"dataframe\">\n",
       "  <thead>\n",
       "    <tr style=\"text-align: right;\">\n",
       "      <th>Sex</th>\n",
       "      <th>female</th>\n",
       "      <th>male</th>\n",
       "    </tr>\n",
       "    <tr>\n",
       "      <th>Title</th>\n",
       "      <th></th>\n",
       "      <th></th>\n",
       "    </tr>\n",
       "  </thead>\n",
       "  <tbody>\n",
       "    <tr>\n",
       "      <th>Capt</th>\n",
       "      <td>0</td>\n",
       "      <td>1</td>\n",
       "    </tr>\n",
       "    <tr>\n",
       "      <th>Col</th>\n",
       "      <td>0</td>\n",
       "      <td>2</td>\n",
       "    </tr>\n",
       "    <tr>\n",
       "      <th>Countess</th>\n",
       "      <td>1</td>\n",
       "      <td>0</td>\n",
       "    </tr>\n",
       "    <tr>\n",
       "      <th>Don</th>\n",
       "      <td>0</td>\n",
       "      <td>1</td>\n",
       "    </tr>\n",
       "    <tr>\n",
       "      <th>Dr</th>\n",
       "      <td>1</td>\n",
       "      <td>6</td>\n",
       "    </tr>\n",
       "    <tr>\n",
       "      <th>Jonkheer</th>\n",
       "      <td>0</td>\n",
       "      <td>1</td>\n",
       "    </tr>\n",
       "    <tr>\n",
       "      <th>Lady</th>\n",
       "      <td>1</td>\n",
       "      <td>0</td>\n",
       "    </tr>\n",
       "    <tr>\n",
       "      <th>Major</th>\n",
       "      <td>0</td>\n",
       "      <td>2</td>\n",
       "    </tr>\n",
       "    <tr>\n",
       "      <th>Master</th>\n",
       "      <td>0</td>\n",
       "      <td>40</td>\n",
       "    </tr>\n",
       "    <tr>\n",
       "      <th>Miss</th>\n",
       "      <td>182</td>\n",
       "      <td>0</td>\n",
       "    </tr>\n",
       "    <tr>\n",
       "      <th>Mlle</th>\n",
       "      <td>2</td>\n",
       "      <td>0</td>\n",
       "    </tr>\n",
       "    <tr>\n",
       "      <th>Mme</th>\n",
       "      <td>1</td>\n",
       "      <td>0</td>\n",
       "    </tr>\n",
       "    <tr>\n",
       "      <th>Mr</th>\n",
       "      <td>0</td>\n",
       "      <td>517</td>\n",
       "    </tr>\n",
       "    <tr>\n",
       "      <th>Mrs</th>\n",
       "      <td>125</td>\n",
       "      <td>0</td>\n",
       "    </tr>\n",
       "    <tr>\n",
       "      <th>Ms</th>\n",
       "      <td>1</td>\n",
       "      <td>0</td>\n",
       "    </tr>\n",
       "    <tr>\n",
       "      <th>Rev</th>\n",
       "      <td>0</td>\n",
       "      <td>6</td>\n",
       "    </tr>\n",
       "    <tr>\n",
       "      <th>Sir</th>\n",
       "      <td>0</td>\n",
       "      <td>1</td>\n",
       "    </tr>\n",
       "  </tbody>\n",
       "</table>\n",
       "</div>"
      ],
      "text/plain": [
       "Sex       female  male\n",
       "Title                 \n",
       "Capt           0     1\n",
       "Col            0     2\n",
       "Countess       1     0\n",
       "Don            0     1\n",
       "Dr             1     6\n",
       "Jonkheer       0     1\n",
       "Lady           1     0\n",
       "Major          0     2\n",
       "Master         0    40\n",
       "Miss         182     0\n",
       "Mlle           2     0\n",
       "Mme            1     0\n",
       "Mr             0   517\n",
       "Mrs          125     0\n",
       "Ms             1     0\n",
       "Rev            0     6\n",
       "Sir            0     1"
      ]
     },
     "execution_count": 12,
     "metadata": {},
     "output_type": "execute_result"
    }
   ],
   "source": [
    "# apply this function on both dataset, and use crosstab to look at the result\n",
    "train_df = add_title(train_df)\n",
    "test_df = add_title(test_df)\n",
    "\n",
    "pd.crosstab(train_df['Title'], train_df['Sex'])"
   ]
  },
  {
   "cell_type": "code",
   "execution_count": 13,
   "metadata": {},
   "outputs": [],
   "source": [
    "# create function to simply these title (usig replace function)\n",
    "def title_replace(df):\n",
    "    df['Title'] = df['Title'].replace(['Lady', 'Countess','Capt', 'Col',\\\n",
    "     'Don', 'Dr', 'Major', 'Rev', 'Sir', 'Jonkheer', 'Dona'], 'Rare')\n",
    "\n",
    "    df['Title'] = df['Title'].replace('Mlle', 'Miss')\n",
    "    df['Title'] = df['Title'].replace('Ms', 'Miss')\n",
    "    df['Title'] = df['Title'].replace('Mme', 'Mrs')\n",
    "    \n",
    "    return df"
   ]
  },
  {
   "cell_type": "code",
   "execution_count": 14,
   "metadata": {},
   "outputs": [
    {
     "data": {
      "text/html": [
       "<div>\n",
       "<style scoped>\n",
       "    .dataframe tbody tr th:only-of-type {\n",
       "        vertical-align: middle;\n",
       "    }\n",
       "\n",
       "    .dataframe tbody tr th {\n",
       "        vertical-align: top;\n",
       "    }\n",
       "\n",
       "    .dataframe thead th {\n",
       "        text-align: right;\n",
       "    }\n",
       "</style>\n",
       "<table border=\"1\" class=\"dataframe\">\n",
       "  <thead>\n",
       "    <tr style=\"text-align: right;\">\n",
       "      <th></th>\n",
       "      <th>Survived</th>\n",
       "    </tr>\n",
       "    <tr>\n",
       "      <th>Title</th>\n",
       "      <th></th>\n",
       "    </tr>\n",
       "  </thead>\n",
       "  <tbody>\n",
       "    <tr>\n",
       "      <th>Master</th>\n",
       "      <td>0.575000</td>\n",
       "    </tr>\n",
       "    <tr>\n",
       "      <th>Miss</th>\n",
       "      <td>0.702703</td>\n",
       "    </tr>\n",
       "    <tr>\n",
       "      <th>Mr</th>\n",
       "      <td>0.156673</td>\n",
       "    </tr>\n",
       "    <tr>\n",
       "      <th>Mrs</th>\n",
       "      <td>0.793651</td>\n",
       "    </tr>\n",
       "    <tr>\n",
       "      <th>Rare</th>\n",
       "      <td>0.347826</td>\n",
       "    </tr>\n",
       "  </tbody>\n",
       "</table>\n",
       "</div>"
      ],
      "text/plain": [
       "        Survived\n",
       "Title           \n",
       "Master  0.575000\n",
       "Miss    0.702703\n",
       "Mr      0.156673\n",
       "Mrs     0.793651\n",
       "Rare    0.347826"
      ]
     },
     "execution_count": 14,
     "metadata": {},
     "output_type": "execute_result"
    }
   ],
   "source": [
    "# apply on both data set and look the resulr\n",
    "train_df = title_replace(train_df)\n",
    "test_df = title_replace(test_df)\n",
    "\n",
    "train_df[['Title', 'Survived']].groupby(['Title']).mean()"
   ]
  },
  {
   "cell_type": "markdown",
   "metadata": {},
   "source": [
    "+ transform the feature or wait till everything is done then transform with buildin function"
   ]
  },
  {
   "cell_type": "code",
   "execution_count": 15,
   "metadata": {},
   "outputs": [],
   "source": [
    "# creat a function to convert/ transform the feature\n",
    "# from categorical to ordinal\n",
    "def title_convert(df):\n",
    "    title_mapping = {\"Mr\": 1, \"Miss\": 2, \"Mrs\": 3, \"Master\": 4, \"Rare\": 5}\n",
    "    df['Title_ord'] = df['Title']\n",
    "    df['Title_ord'] = df['Title_ord'].map(title_mapping)\n",
    "    df['Title_ord'] = df['Title_ord'].fillna(0)\n",
    "    return df"
   ]
  },
  {
   "cell_type": "code",
   "execution_count": 16,
   "metadata": {},
   "outputs": [
    {
     "data": {
      "text/html": [
       "<div>\n",
       "<style scoped>\n",
       "    .dataframe tbody tr th:only-of-type {\n",
       "        vertical-align: middle;\n",
       "    }\n",
       "\n",
       "    .dataframe tbody tr th {\n",
       "        vertical-align: top;\n",
       "    }\n",
       "\n",
       "    .dataframe thead th {\n",
       "        text-align: right;\n",
       "    }\n",
       "</style>\n",
       "<table border=\"1\" class=\"dataframe\">\n",
       "  <thead>\n",
       "    <tr style=\"text-align: right;\">\n",
       "      <th></th>\n",
       "      <th>PassengerId</th>\n",
       "      <th>Survived</th>\n",
       "      <th>Pclass</th>\n",
       "      <th>Name</th>\n",
       "      <th>Sex</th>\n",
       "      <th>Age</th>\n",
       "      <th>SibSp</th>\n",
       "      <th>Parch</th>\n",
       "      <th>Ticket</th>\n",
       "      <th>Fare</th>\n",
       "      <th>Cabin</th>\n",
       "      <th>Embarked</th>\n",
       "      <th>Age_fill</th>\n",
       "      <th>Fare_fill</th>\n",
       "      <th>Title</th>\n",
       "      <th>Title_ord</th>\n",
       "    </tr>\n",
       "  </thead>\n",
       "  <tbody>\n",
       "    <tr>\n",
       "      <th>0</th>\n",
       "      <td>1</td>\n",
       "      <td>0</td>\n",
       "      <td>3</td>\n",
       "      <td>Braund, Mr. Owen Harris</td>\n",
       "      <td>male</td>\n",
       "      <td>22.0</td>\n",
       "      <td>1</td>\n",
       "      <td>0</td>\n",
       "      <td>A/5 21171</td>\n",
       "      <td>7.2500</td>\n",
       "      <td>Unknow</td>\n",
       "      <td>S</td>\n",
       "      <td>22.0</td>\n",
       "      <td>7.2500</td>\n",
       "      <td>Mr</td>\n",
       "      <td>1</td>\n",
       "    </tr>\n",
       "    <tr>\n",
       "      <th>1</th>\n",
       "      <td>2</td>\n",
       "      <td>1</td>\n",
       "      <td>1</td>\n",
       "      <td>Cumings, Mrs. John Bradley (Florence Briggs Th...</td>\n",
       "      <td>female</td>\n",
       "      <td>38.0</td>\n",
       "      <td>1</td>\n",
       "      <td>0</td>\n",
       "      <td>PC 17599</td>\n",
       "      <td>71.2833</td>\n",
       "      <td>C85</td>\n",
       "      <td>C</td>\n",
       "      <td>38.0</td>\n",
       "      <td>71.2833</td>\n",
       "      <td>Mrs</td>\n",
       "      <td>3</td>\n",
       "    </tr>\n",
       "    <tr>\n",
       "      <th>2</th>\n",
       "      <td>3</td>\n",
       "      <td>1</td>\n",
       "      <td>3</td>\n",
       "      <td>Heikkinen, Miss. Laina</td>\n",
       "      <td>female</td>\n",
       "      <td>26.0</td>\n",
       "      <td>0</td>\n",
       "      <td>0</td>\n",
       "      <td>STON/O2. 3101282</td>\n",
       "      <td>7.9250</td>\n",
       "      <td>Unknow</td>\n",
       "      <td>S</td>\n",
       "      <td>26.0</td>\n",
       "      <td>7.9250</td>\n",
       "      <td>Miss</td>\n",
       "      <td>2</td>\n",
       "    </tr>\n",
       "  </tbody>\n",
       "</table>\n",
       "</div>"
      ],
      "text/plain": [
       "   PassengerId  Survived  Pclass  \\\n",
       "0            1         0       3   \n",
       "1            2         1       1   \n",
       "2            3         1       3   \n",
       "\n",
       "                                                Name     Sex   Age  SibSp  \\\n",
       "0                            Braund, Mr. Owen Harris    male  22.0      1   \n",
       "1  Cumings, Mrs. John Bradley (Florence Briggs Th...  female  38.0      1   \n",
       "2                             Heikkinen, Miss. Laina  female  26.0      0   \n",
       "\n",
       "   Parch            Ticket     Fare   Cabin Embarked  Age_fill  Fare_fill  \\\n",
       "0      0         A/5 21171   7.2500  Unknow        S      22.0     7.2500   \n",
       "1      0          PC 17599  71.2833     C85        C      38.0    71.2833   \n",
       "2      0  STON/O2. 3101282   7.9250  Unknow        S      26.0     7.9250   \n",
       "\n",
       "  Title  Title_ord  \n",
       "0    Mr          1  \n",
       "1   Mrs          3  \n",
       "2  Miss          2  "
      ]
     },
     "execution_count": 16,
     "metadata": {},
     "output_type": "execute_result"
    }
   ],
   "source": [
    "# apply to both dataset, look the result\n",
    "train_df = title_convert(train_df)\n",
    "test_df = title_convert(test_df)\n",
    "\n",
    "train_df.head(3)"
   ]
  },
  {
   "cell_type": "markdown",
   "metadata": {},
   "source": [
    "### 2.2.2 Example of combining existing features   \n",
    "+ create new feature: FamilySize, IsAlone \n",
    "> FamilySize: combines Parch and SibSp  \n",
    "> IsAlone: if FamilySize = 1"
   ]
  },
  {
   "cell_type": "code",
   "execution_count": 17,
   "metadata": {},
   "outputs": [],
   "source": [
    "# function\n",
    "def ct_FamilySize(df):\n",
    "    df['FamilySize'] = df['SibSp'] + df['Parch'] + 1 # to count self\n",
    "    \n",
    "    df['IsAlone'] = 0\n",
    "    df.loc[df['FamilySize'] == 1, 'IsAlone'] = 1\n",
    "    return df"
   ]
  },
  {
   "cell_type": "code",
   "execution_count": 18,
   "metadata": {},
   "outputs": [
    {
     "data": {
      "text/html": [
       "<div>\n",
       "<style scoped>\n",
       "    .dataframe tbody tr th:only-of-type {\n",
       "        vertical-align: middle;\n",
       "    }\n",
       "\n",
       "    .dataframe tbody tr th {\n",
       "        vertical-align: top;\n",
       "    }\n",
       "\n",
       "    .dataframe thead th {\n",
       "        text-align: right;\n",
       "    }\n",
       "</style>\n",
       "<table border=\"1\" class=\"dataframe\">\n",
       "  <thead>\n",
       "    <tr style=\"text-align: right;\">\n",
       "      <th></th>\n",
       "      <th>Survived</th>\n",
       "    </tr>\n",
       "    <tr>\n",
       "      <th>IsAlone</th>\n",
       "      <th></th>\n",
       "    </tr>\n",
       "  </thead>\n",
       "  <tbody>\n",
       "    <tr>\n",
       "      <th>0</th>\n",
       "      <td>0.505650</td>\n",
       "    </tr>\n",
       "    <tr>\n",
       "      <th>1</th>\n",
       "      <td>0.303538</td>\n",
       "    </tr>\n",
       "  </tbody>\n",
       "</table>\n",
       "</div>"
      ],
      "text/plain": [
       "         Survived\n",
       "IsAlone          \n",
       "0        0.505650\n",
       "1        0.303538"
      ]
     },
     "execution_count": 18,
     "metadata": {},
     "output_type": "execute_result"
    }
   ],
   "source": [
    "# apply function, display\n",
    "train_df = ct_FamilySize(train_df)\n",
    "test_df = ct_FamilySize(test_df)\n",
    "\n",
    "train_df[['IsAlone', 'Survived']].groupby(['IsAlone']).mean()"
   ]
  },
  {
   "cell_type": "markdown",
   "metadata": {},
   "source": [
    "## 2.3 Dropping"
   ]
  },
  {
   "cell_type": "markdown",
   "metadata": {},
   "source": [
    "### 2.3.1 Example\n",
    "Drop 'Name, 'PassengerId' and 'Ticket'  \n",
    "ps. save the ID for test_set in case needed afterward"
   ]
  },
  {
   "cell_type": "code",
   "execution_count": 19,
   "metadata": {},
   "outputs": [],
   "source": [
    "test_id = test_df['PassengerId'].copy()\n",
    "\n",
    "train_df = train_df.drop(['Name', 'PassengerId', 'Ticket'], axis=1)\n",
    "test_df = test_df.drop(['Name', 'PassengerId', 'Ticket'], axis=1)"
   ]
  },
  {
   "cell_type": "code",
   "execution_count": 20,
   "metadata": {},
   "outputs": [
    {
     "data": {
      "text/html": [
       "<div>\n",
       "<style scoped>\n",
       "    .dataframe tbody tr th:only-of-type {\n",
       "        vertical-align: middle;\n",
       "    }\n",
       "\n",
       "    .dataframe tbody tr th {\n",
       "        vertical-align: top;\n",
       "    }\n",
       "\n",
       "    .dataframe thead th {\n",
       "        text-align: right;\n",
       "    }\n",
       "</style>\n",
       "<table border=\"1\" class=\"dataframe\">\n",
       "  <thead>\n",
       "    <tr style=\"text-align: right;\">\n",
       "      <th></th>\n",
       "      <th>Survived</th>\n",
       "      <th>Pclass</th>\n",
       "      <th>Sex</th>\n",
       "      <th>Age</th>\n",
       "      <th>SibSp</th>\n",
       "      <th>Parch</th>\n",
       "      <th>Fare</th>\n",
       "      <th>Cabin</th>\n",
       "      <th>Embarked</th>\n",
       "      <th>Age_fill</th>\n",
       "      <th>Fare_fill</th>\n",
       "      <th>Title</th>\n",
       "      <th>Title_ord</th>\n",
       "      <th>FamilySize</th>\n",
       "      <th>IsAlone</th>\n",
       "    </tr>\n",
       "  </thead>\n",
       "  <tbody>\n",
       "    <tr>\n",
       "      <th>0</th>\n",
       "      <td>0</td>\n",
       "      <td>3</td>\n",
       "      <td>male</td>\n",
       "      <td>22.0</td>\n",
       "      <td>1</td>\n",
       "      <td>0</td>\n",
       "      <td>7.2500</td>\n",
       "      <td>Unknow</td>\n",
       "      <td>S</td>\n",
       "      <td>22.0</td>\n",
       "      <td>7.2500</td>\n",
       "      <td>Mr</td>\n",
       "      <td>1</td>\n",
       "      <td>2</td>\n",
       "      <td>0</td>\n",
       "    </tr>\n",
       "    <tr>\n",
       "      <th>1</th>\n",
       "      <td>1</td>\n",
       "      <td>1</td>\n",
       "      <td>female</td>\n",
       "      <td>38.0</td>\n",
       "      <td>1</td>\n",
       "      <td>0</td>\n",
       "      <td>71.2833</td>\n",
       "      <td>C85</td>\n",
       "      <td>C</td>\n",
       "      <td>38.0</td>\n",
       "      <td>71.2833</td>\n",
       "      <td>Mrs</td>\n",
       "      <td>3</td>\n",
       "      <td>2</td>\n",
       "      <td>0</td>\n",
       "    </tr>\n",
       "    <tr>\n",
       "      <th>2</th>\n",
       "      <td>1</td>\n",
       "      <td>3</td>\n",
       "      <td>female</td>\n",
       "      <td>26.0</td>\n",
       "      <td>0</td>\n",
       "      <td>0</td>\n",
       "      <td>7.9250</td>\n",
       "      <td>Unknow</td>\n",
       "      <td>S</td>\n",
       "      <td>26.0</td>\n",
       "      <td>7.9250</td>\n",
       "      <td>Miss</td>\n",
       "      <td>2</td>\n",
       "      <td>1</td>\n",
       "      <td>1</td>\n",
       "    </tr>\n",
       "  </tbody>\n",
       "</table>\n",
       "</div>"
      ],
      "text/plain": [
       "   Survived  Pclass     Sex   Age  SibSp  Parch     Fare   Cabin Embarked  \\\n",
       "0         0       3    male  22.0      1      0   7.2500  Unknow        S   \n",
       "1         1       1  female  38.0      1      0  71.2833     C85        C   \n",
       "2         1       3  female  26.0      0      0   7.9250  Unknow        S   \n",
       "\n",
       "   Age_fill  Fare_fill Title  Title_ord  FamilySize  IsAlone  \n",
       "0      22.0     7.2500    Mr          1           2        0  \n",
       "1      38.0    71.2833   Mrs          3           2        0  \n",
       "2      26.0     7.9250  Miss          2           1        1  "
      ]
     },
     "execution_count": 20,
     "metadata": {},
     "output_type": "execute_result"
    }
   ],
   "source": [
    "train_df.head(3)"
   ]
  },
  {
   "cell_type": "code",
   "execution_count": 21,
   "metadata": {},
   "outputs": [
    {
     "data": {
      "text/plain": [
       "0    892\n",
       "1    893\n",
       "2    894\n",
       "3    895\n",
       "4    896\n",
       "Name: PassengerId, dtype: int64"
      ]
     },
     "execution_count": 21,
     "metadata": {},
     "output_type": "execute_result"
    }
   ],
   "source": [
    "test_id[:5]"
   ]
  },
  {
   "cell_type": "markdown",
   "metadata": {},
   "source": [
    "## 2.4 Transform Data"
   ]
  },
  {
   "cell_type": "markdown",
   "metadata": {},
   "source": [
    "Depend on what kind of ML want to use"
   ]
  },
  {
   "cell_type": "markdown",
   "metadata": {},
   "source": [
    "### 2.4.1 Example \n",
    "\n",
    "+ create another sets of data and all the feature in it are category variable  \n",
    "> Age as: 'Baby', 'Child', 'Teenager', 'Student', 'Young Adult', 'Adult', 'Senior'  \n",
    "> Fare as: '1_quartile', '2_quartile', '3_quartile', '4_quartile'  "
   ]
  },
  {
   "cell_type": "code",
   "execution_count": 22,
   "metadata": {},
   "outputs": [],
   "source": [
    "# functions\n",
    "def simplify_ages(df, col_name):\n",
    "    bins = (min(df[col_name])-1, 5, 12, 18, 25, 35, 60,  max(df[col_name]))\n",
    "    group_names = ['Baby', 'Child', 'Teenager', 'Student', 'Young Adult', 'Adult', 'Senior']\n",
    "    categories = pd.cut(df[col_name], bins, labels = group_names)\n",
    "    df[col_name] = categories\n",
    "    return df\n",
    "\n",
    "def simplify_fare(df, col_name):\n",
    "    bins = (min(df[col_name])-1, 8, 15, 31,  max(df[col_name]))\n",
    "    group_names = ['1_quartile', '2_quartile', '3_quartile', '4_quartile']\n",
    "    categories = pd.cut(df[col_name], bins, labels = group_names)\n",
    "    df[col_name] = categories\n",
    "    return df\n",
    "\n",
    "def simpify_familysize(df, col_name):\n",
    "    bins = (0,1.5, 4, max(df[col_name]))\n",
    "    group_names = ['Single', 'Small', 'Large']\n",
    "    categories = pd.cut(df[col_name], bins, labels = group_names)\n",
    "    df[col_name] = categories\n",
    "    return df\n",
    "\n",
    "# create new data set and apply them with the function above\n",
    "def ct_category_df(df):\n",
    "    try:\n",
    "        select_col = ['Survived', 'Pclass','Sex','Age_fill','Fare_fill','Embarked','Title', 'IsAlone']\n",
    "        new_df = df[select_col].copy()\n",
    "    except:\n",
    "        select_col = ['Pclass','Sex','Age_fill','Fare_fill','Embarked','Title', 'IsAlone']\n",
    "        new_df = df[select_col].copy()\n",
    "    new_df = new_df.rename(columns = {'Age_fill': 'Age', 'Fare_fill': 'Fare'})\n",
    "    return new_df\n",
    "\n",
    "# main function\n",
    "def transform_features(df):\n",
    "    new_df = ct_category_df(df)\n",
    "    new_df = simplify_ages(new_df, 'Age')\n",
    "    new_df = simplify_fare(new_df, \"Fare\")\n",
    "    #new_df = simpify_familysize(new_df, 'FamilySize')\n",
    "    return new_df"
   ]
  },
  {
   "cell_type": "code",
   "execution_count": 23,
   "metadata": {},
   "outputs": [
    {
     "data": {
      "text/html": [
       "<div>\n",
       "<style scoped>\n",
       "    .dataframe tbody tr th:only-of-type {\n",
       "        vertical-align: middle;\n",
       "    }\n",
       "\n",
       "    .dataframe tbody tr th {\n",
       "        vertical-align: top;\n",
       "    }\n",
       "\n",
       "    .dataframe thead th {\n",
       "        text-align: right;\n",
       "    }\n",
       "</style>\n",
       "<table border=\"1\" class=\"dataframe\">\n",
       "  <thead>\n",
       "    <tr style=\"text-align: right;\">\n",
       "      <th></th>\n",
       "      <th>Survived</th>\n",
       "      <th>Pclass</th>\n",
       "      <th>Sex</th>\n",
       "      <th>Age</th>\n",
       "      <th>Fare</th>\n",
       "      <th>Embarked</th>\n",
       "      <th>Title</th>\n",
       "      <th>IsAlone</th>\n",
       "    </tr>\n",
       "  </thead>\n",
       "  <tbody>\n",
       "    <tr>\n",
       "      <th>0</th>\n",
       "      <td>0</td>\n",
       "      <td>3</td>\n",
       "      <td>male</td>\n",
       "      <td>Student</td>\n",
       "      <td>1_quartile</td>\n",
       "      <td>S</td>\n",
       "      <td>Mr</td>\n",
       "      <td>0</td>\n",
       "    </tr>\n",
       "    <tr>\n",
       "      <th>1</th>\n",
       "      <td>1</td>\n",
       "      <td>1</td>\n",
       "      <td>female</td>\n",
       "      <td>Adult</td>\n",
       "      <td>4_quartile</td>\n",
       "      <td>C</td>\n",
       "      <td>Mrs</td>\n",
       "      <td>0</td>\n",
       "    </tr>\n",
       "    <tr>\n",
       "      <th>2</th>\n",
       "      <td>1</td>\n",
       "      <td>3</td>\n",
       "      <td>female</td>\n",
       "      <td>Young Adult</td>\n",
       "      <td>1_quartile</td>\n",
       "      <td>S</td>\n",
       "      <td>Miss</td>\n",
       "      <td>1</td>\n",
       "    </tr>\n",
       "  </tbody>\n",
       "</table>\n",
       "</div>"
      ],
      "text/plain": [
       "   Survived  Pclass     Sex          Age        Fare Embarked Title  IsAlone\n",
       "0         0       3    male      Student  1_quartile        S    Mr        0\n",
       "1         1       1  female        Adult  4_quartile        C   Mrs        0\n",
       "2         1       3  female  Young Adult  1_quartile        S  Miss        1"
      ]
     },
     "execution_count": 23,
     "metadata": {},
     "output_type": "execute_result"
    }
   ],
   "source": [
    "category_train_df = transform_features(train_df)\n",
    "category_test_df = transform_features(test_df)\n",
    "\n",
    "# now all the features are category typy\n",
    "category_train_df.head(3)"
   ]
  },
  {
   "cell_type": "markdown",
   "metadata": {},
   "source": [
    "+ Final Encoding\n",
    "> The last part of the preprocessing phase is to normalize labels.  \n",
    "> The LabelEncoder in Scikit-learn will convert each unique string value into a number, making out data more flexible for various algorithms."
   ]
  },
  {
   "cell_type": "code",
   "execution_count": 24,
   "metadata": {},
   "outputs": [],
   "source": [
    "from sklearn import preprocessing\n",
    "\n",
    "def encode_features(df):\n",
    "    features = ['Sex','Age', 'Fare', 'Embarked', 'Title']\n",
    "    df_temp = df[features].copy()\n",
    "    \n",
    "    for feature in features:\n",
    "        le = preprocessing.LabelEncoder()\n",
    "        le = le.fit(df_temp[feature])\n",
    "        df[feature] = le.transform(df[feature])\n",
    "    return df"
   ]
  },
  {
   "cell_type": "code",
   "execution_count": 25,
   "metadata": {},
   "outputs": [],
   "source": [
    "# apply the function\n",
    "category_train_df = encode_features(category_train_df)\n",
    "category_test_df = encode_features(category_test_df)"
   ]
  },
  {
   "cell_type": "code",
   "execution_count": 26,
   "metadata": {},
   "outputs": [
    {
     "data": {
      "text/html": [
       "<div>\n",
       "<style scoped>\n",
       "    .dataframe tbody tr th:only-of-type {\n",
       "        vertical-align: middle;\n",
       "    }\n",
       "\n",
       "    .dataframe tbody tr th {\n",
       "        vertical-align: top;\n",
       "    }\n",
       "\n",
       "    .dataframe thead th {\n",
       "        text-align: right;\n",
       "    }\n",
       "</style>\n",
       "<table border=\"1\" class=\"dataframe\">\n",
       "  <thead>\n",
       "    <tr style=\"text-align: right;\">\n",
       "      <th></th>\n",
       "      <th>Survived</th>\n",
       "      <th>Pclass</th>\n",
       "      <th>Sex</th>\n",
       "      <th>Age</th>\n",
       "      <th>Fare</th>\n",
       "      <th>Embarked</th>\n",
       "      <th>Title</th>\n",
       "      <th>IsAlone</th>\n",
       "    </tr>\n",
       "  </thead>\n",
       "  <tbody>\n",
       "    <tr>\n",
       "      <th>0</th>\n",
       "      <td>0</td>\n",
       "      <td>3</td>\n",
       "      <td>1</td>\n",
       "      <td>4</td>\n",
       "      <td>0</td>\n",
       "      <td>2</td>\n",
       "      <td>2</td>\n",
       "      <td>0</td>\n",
       "    </tr>\n",
       "    <tr>\n",
       "      <th>1</th>\n",
       "      <td>1</td>\n",
       "      <td>1</td>\n",
       "      <td>0</td>\n",
       "      <td>0</td>\n",
       "      <td>3</td>\n",
       "      <td>0</td>\n",
       "      <td>3</td>\n",
       "      <td>0</td>\n",
       "    </tr>\n",
       "    <tr>\n",
       "      <th>2</th>\n",
       "      <td>1</td>\n",
       "      <td>3</td>\n",
       "      <td>0</td>\n",
       "      <td>6</td>\n",
       "      <td>0</td>\n",
       "      <td>2</td>\n",
       "      <td>1</td>\n",
       "      <td>1</td>\n",
       "    </tr>\n",
       "  </tbody>\n",
       "</table>\n",
       "</div>"
      ],
      "text/plain": [
       "   Survived  Pclass  Sex  Age  Fare  Embarked  Title  IsAlone\n",
       "0         0       3    1    4     0         2      2        0\n",
       "1         1       1    0    0     3         0      3        0\n",
       "2         1       3    0    6     0         2      1        1"
      ]
     },
     "execution_count": 26,
     "metadata": {},
     "output_type": "execute_result"
    }
   ],
   "source": [
    "# look at result\n",
    "category_train_df.head(3)"
   ]
  },
  {
   "cell_type": "code",
   "execution_count": 27,
   "metadata": {
    "scrolled": true
   },
   "outputs": [
    {
     "data": {
      "text/html": [
       "<div>\n",
       "<style scoped>\n",
       "    .dataframe tbody tr th:only-of-type {\n",
       "        vertical-align: middle;\n",
       "    }\n",
       "\n",
       "    .dataframe tbody tr th {\n",
       "        vertical-align: top;\n",
       "    }\n",
       "\n",
       "    .dataframe thead th {\n",
       "        text-align: right;\n",
       "    }\n",
       "</style>\n",
       "<table border=\"1\" class=\"dataframe\">\n",
       "  <thead>\n",
       "    <tr style=\"text-align: right;\">\n",
       "      <th></th>\n",
       "      <th>Pclass</th>\n",
       "      <th>Sex</th>\n",
       "      <th>Age</th>\n",
       "      <th>Fare</th>\n",
       "      <th>Embarked</th>\n",
       "      <th>Title</th>\n",
       "      <th>IsAlone</th>\n",
       "    </tr>\n",
       "  </thead>\n",
       "  <tbody>\n",
       "    <tr>\n",
       "      <th>0</th>\n",
       "      <td>3</td>\n",
       "      <td>1</td>\n",
       "      <td>6</td>\n",
       "      <td>0</td>\n",
       "      <td>1</td>\n",
       "      <td>2</td>\n",
       "      <td>1</td>\n",
       "    </tr>\n",
       "    <tr>\n",
       "      <th>1</th>\n",
       "      <td>3</td>\n",
       "      <td>0</td>\n",
       "      <td>0</td>\n",
       "      <td>0</td>\n",
       "      <td>2</td>\n",
       "      <td>3</td>\n",
       "      <td>0</td>\n",
       "    </tr>\n",
       "    <tr>\n",
       "      <th>2</th>\n",
       "      <td>2</td>\n",
       "      <td>1</td>\n",
       "      <td>3</td>\n",
       "      <td>1</td>\n",
       "      <td>1</td>\n",
       "      <td>2</td>\n",
       "      <td>1</td>\n",
       "    </tr>\n",
       "  </tbody>\n",
       "</table>\n",
       "</div>"
      ],
      "text/plain": [
       "   Pclass  Sex  Age  Fare  Embarked  Title  IsAlone\n",
       "0       3    1    6     0         1      2        1\n",
       "1       3    0    0     0         2      3        0\n",
       "2       2    1    3     1         1      2        1"
      ]
     },
     "execution_count": 27,
     "metadata": {},
     "output_type": "execute_result"
    }
   ],
   "source": [
    "category_test_df.head(3)"
   ]
  },
  {
   "cell_type": "markdown",
   "metadata": {},
   "source": [
    "  ------"
   ]
  },
  {
   "cell_type": "markdown",
   "metadata": {},
   "source": [
    "# 3. Modeling and Prediction"
   ]
  },
  {
   "cell_type": "code",
   "execution_count": 29,
   "metadata": {},
   "outputs": [
    {
     "name": "stderr",
     "output_type": "stream",
     "text": [
      "C:\\Users\\ru04r\\Anaconda3\\lib\\site-packages\\sklearn\\cross_validation.py:41: DeprecationWarning: This module was deprecated in version 0.18 in favor of the model_selection module into which all the refactored classes and functions are moved. Also note that the interface of the new CV iterators are different from that of this module. This module will be removed in 0.20.\n",
      "  \"This module will be removed in 0.20.\", DeprecationWarning)\n"
     ]
    }
   ],
   "source": [
    "# importing ML modules\n",
    "# Modelling Algorithms\n",
    "from sklearn.tree import DecisionTreeClassifier\n",
    "from sklearn.linear_model import LogisticRegression\n",
    "from sklearn.neighbors import KNeighborsClassifier\n",
    "from sklearn.naive_bayes import GaussianNB\n",
    "from sklearn.svm import SVC, LinearSVC\n",
    "from sklearn.ensemble import RandomForestClassifier , GradientBoostingClassifier\n",
    "from sklearn.linear_model import Perceptron,SGDClassifier\n",
    "\n",
    "# Modelling Helpers\n",
    "from sklearn.preprocessing import Imputer , Normalizer , scale\n",
    "from sklearn.model_selection import train_test_split\n",
    "from sklearn.cross_validation import KFold\n",
    "from sklearn.feature_selection import RFECV\n",
    "from sklearn.metrics import make_scorer, accuracy_score"
   ]
  },
  {
   "cell_type": "markdown",
   "metadata": {},
   "source": [
    "## 3.1 Splitting up the Training Data"
   ]
  },
  {
   "cell_type": "markdown",
   "metadata": {},
   "source": [
    "1. Separate the features (x) form the labels (y)\n",
    "2. Splitting validation and training data"
   ]
  },
  {
   "cell_type": "code",
   "execution_count": 30,
   "metadata": {},
   "outputs": [],
   "source": [
    "x_all = category_train_df.drop(['Survived'], axis = 1)\n",
    "y_all = category_train_df['Survived']\n",
    "\n",
    "# split 20% of the validataion, 80% of the training data\n",
    "num_test = 0.20 \n",
    "x_train, x_valid, y_train, y_valid = train_test_split(x_all, y_all, test_size = num_test)\n",
    "x_test = category_test_df"
   ]
  },
  {
   "cell_type": "code",
   "execution_count": 31,
   "metadata": {},
   "outputs": [
    {
     "name": "stdout",
     "output_type": "stream",
     "text": [
      "(891, 7) (891,)\n",
      "(712, 7) (179, 7) (712,) (179,) (418, 7)\n"
     ]
    }
   ],
   "source": [
    "# check the shape of each data set\n",
    "print(x_all.shape, y_all.shape)\n",
    "print(x_train.shape, x_valid.shape, y_train.shape, y_valid.shape, x_test.shape)"
   ]
  },
  {
   "cell_type": "markdown",
   "metadata": {},
   "source": [
    "## 3.2 Select Model"
   ]
  },
  {
   "cell_type": "markdown",
   "metadata": {},
   "source": [
    "According to the data:\n",
    "> type of the feature  \n",
    "> n of the data point \n",
    "\n",
    "http://scikit-learn.org/stable/tutorial/machine_learning_map/index.html"
   ]
  },
  {
   "cell_type": "markdown",
   "metadata": {},
   "source": [
    "Example of this Titanic data set:\n",
    "\n",
    "- a classification and regression problem, output (Survived or not)\n",
    "- it's a supervised learning\n",
    "\n",
    "- the model we can use:\n",
    ">Logistic Regression  \n",
    "KNN or k-Nearest Neighbors  \n",
    "Support Vector Machines  \n",
    "Gaussian Naive Bayes classifier  \n",
    "Decision Tree  \n",
    "Random Forest  \n",
    "Perceptron  \n",
    "\n",
    "there might be more, but the basic of code using sklearn is the same\n"
   ]
  },
  {
   "cell_type": "markdown",
   "metadata": {},
   "source": [
    "### 3.2.0 Code for ML"
   ]
  },
  {
   "cell_type": "markdown",
   "metadata": {},
   "source": [
    "Steps to follow:\n",
    "    (see the example from 3.2.1)"
   ]
  },
  {
   "cell_type": "markdown",
   "metadata": {},
   "source": [
    "1. Create a object contain the model choosen:   \n",
    "     name a variable and assign the choosen model for it:         "
   ]
  },
  {
   "cell_type": "code",
   "execution_count": null,
   "metadata": {},
   "outputs": [],
   "source": [
    "My_model = LogisticRegression()"
   ]
  },
  {
   "cell_type": "markdown",
   "metadata": {},
   "source": [
    "2. Fit the model with training data"
   ]
  },
  {
   "cell_type": "code",
   "execution_count": null,
   "metadata": {},
   "outputs": [],
   "source": [
    "My_model.fit(x_train, y_train)"
   ]
  },
  {
   "cell_type": "markdown",
   "metadata": {},
   "source": [
    "3. Using validateion set to check the performance: write in to function\n",
    "    + acc_valid = round(My_model.score(x_valid_set, y_valid_set)*100, 2)  \n",
    "    + acc_train = round(My_model.score(x_train_set, y_train_set)*100, 2)  \n",
    "    or \n",
    "    + y_train_pred = logreg.predict(x_train)  \n",
    "    + y_valid_pred = logreg.predict(x_valid)  \n",
    "    \n",
    "    + acc_log_train = accuracy_score(y_train, y_train_pred)  \n",
    "    + acc_log_valid = accuracy_score(y_valid, y_valid_pred)  "
   ]
  },
  {
   "cell_type": "code",
   "execution_count": 129,
   "metadata": {},
   "outputs": [],
   "source": [
    "def acc_check(model, x_train, y_train, x_valid, y_valid):\n",
    "    y_train_pred = model.predict(x_train)\n",
    "    y_valid_pred = model.predict(x_valid)\n",
    "\n",
    "    acc_log_train = accuracy_score(y_train, y_train_pred)\n",
    "    acc_log_valid = accuracy_score(y_valid, y_valid_pred)\n",
    "    \n",
    "    # print out accuracy\n",
    "    print('accuracy for training set: {}'.format(acc_log_train))\n",
    "    print('accuracy for validation set: {}'.format(acc_log_valid))\n",
    "    return acc_log_train, acc_log_valid"
   ]
  },
  {
   "cell_type": "markdown",
   "metadata": {},
   "source": [
    "4. Validate with KFold (write in a function)"
   ]
  },
  {
   "cell_type": "code",
   "execution_count": 186,
   "metadata": {},
   "outputs": [],
   "source": [
    "def run_kfold(model, x_all, y_all, n_folds = 10, print_each = False, print_head = 3):\n",
    "    kf = KFold(len(y_all), n_folds)\n",
    "    outcomes = []\n",
    "    fold = 0\n",
    "    for train_index, test_index in kf:\n",
    "        fold += 1\n",
    "        x_train, x_test = x_all.values[train_index], x_all.values[test_index]\n",
    "        y_train, y_test = y_all.values[train_index], y_all.values[test_index]\n",
    "        model.fit(x_train, y_train)\n",
    "        predictions = model.predict(x_test)\n",
    "        accuracy = accuracy_score(y_test, predictions)\n",
    "        outcomes.append(accuracy)\n",
    "        if print_each:\n",
    "            print(\"Fold {} accuracy: {}\".format(fold, accuracy))\n",
    "    mean_outcome = np.mean(outcomes)\n",
    "    print(outcomes[:print_head])\n",
    "    print(\"Mean Accuracy: {}\".format(mean_outcome))\n",
    "    return mean_outcome"
   ]
  },
  {
   "cell_type": "markdown",
   "metadata": {},
   "source": [
    "5. Predict the model with test data (write in a function)  \n",
    "will return a dataframe with ID and predicted value"
   ]
  },
  {
   "cell_type": "code",
   "execution_count": 132,
   "metadata": {},
   "outputs": [],
   "source": [
    "def model_pred(model, x_test, y_ID):\n",
    "    prediction = model.predict(x_test)\n",
    "    output = pd.DataFrame({'ID' : y_ID, 'Survived': prediction})\n",
    "    return output"
   ]
  },
  {
   "cell_type": "markdown",
   "metadata": {},
   "source": [
    "### 3.2.1 Logistic Regression\n",
    "Logistic regression measures the relationship between the categorical dependent variable (feature) and one or more independent variables (features) by estimating probabilities using a logistic function, which is the cumulative logistic distribution.  \n",
    "        \n",
    "Reference Wikipedia: https://en.wikipedia.org/wiki/Logistic_regression"
   ]
  },
  {
   "cell_type": "code",
   "execution_count": 146,
   "metadata": {},
   "outputs": [
    {
     "data": {
      "text/plain": [
       "LogisticRegression(C=1.0, class_weight=None, dual=False, fit_intercept=True,\n",
       "          intercept_scaling=1, max_iter=100, multi_class='ovr', n_jobs=1,\n",
       "          penalty='l2', random_state=None, solver='liblinear', tol=0.0001,\n",
       "          verbose=0, warm_start=False)"
      ]
     },
     "execution_count": 146,
     "metadata": {},
     "output_type": "execute_result"
    }
   ],
   "source": [
    "# Logistic Regression\n",
    "\n",
    "# 1. assign the model\n",
    "LogReg = LogisticRegression()\n",
    "\n",
    "# 2. fit the model\n",
    "LogReg.fit(x_train, y_train)"
   ]
  },
  {
   "cell_type": "code",
   "execution_count": 148,
   "metadata": {},
   "outputs": [
    {
     "name": "stdout",
     "output_type": "stream",
     "text": [
      "accuracy for training set: 0.800561797752809\n",
      "accuracy for validation set: 0.7318435754189944\n"
     ]
    }
   ],
   "source": [
    "# 3. check the accuracy\n",
    "acc_Log_train, acc_Log_valid = acc_check(LogReg, x_train, y_train, x_valid, y_valid)"
   ]
  },
  {
   "cell_type": "code",
   "execution_count": 187,
   "metadata": {},
   "outputs": [
    {
     "name": "stdout",
     "output_type": "stream",
     "text": [
      "[0.7888888888888889, 0.797752808988764, 0.7640449438202247]\n",
      "Mean Accuracy: 0.7788888888888889\n"
     ]
    }
   ],
   "source": [
    "# 4. validate with KFold\n",
    "mean_Log_kfold = run_kfold(LogReg, x_all, y_all)"
   ]
  },
  {
   "cell_type": "code",
   "execution_count": 150,
   "metadata": {},
   "outputs": [
    {
     "data": {
      "text/html": [
       "<div>\n",
       "<style scoped>\n",
       "    .dataframe tbody tr th:only-of-type {\n",
       "        vertical-align: middle;\n",
       "    }\n",
       "\n",
       "    .dataframe tbody tr th {\n",
       "        vertical-align: top;\n",
       "    }\n",
       "\n",
       "    .dataframe thead th {\n",
       "        text-align: right;\n",
       "    }\n",
       "</style>\n",
       "<table border=\"1\" class=\"dataframe\">\n",
       "  <thead>\n",
       "    <tr style=\"text-align: right;\">\n",
       "      <th></th>\n",
       "      <th>ID</th>\n",
       "      <th>Survived</th>\n",
       "    </tr>\n",
       "  </thead>\n",
       "  <tbody>\n",
       "    <tr>\n",
       "      <th>0</th>\n",
       "      <td>892</td>\n",
       "      <td>0</td>\n",
       "    </tr>\n",
       "    <tr>\n",
       "      <th>1</th>\n",
       "      <td>893</td>\n",
       "      <td>0</td>\n",
       "    </tr>\n",
       "    <tr>\n",
       "      <th>2</th>\n",
       "      <td>894</td>\n",
       "      <td>0</td>\n",
       "    </tr>\n",
       "    <tr>\n",
       "      <th>3</th>\n",
       "      <td>895</td>\n",
       "      <td>0</td>\n",
       "    </tr>\n",
       "    <tr>\n",
       "      <th>4</th>\n",
       "      <td>896</td>\n",
       "      <td>0</td>\n",
       "    </tr>\n",
       "  </tbody>\n",
       "</table>\n",
       "</div>"
      ],
      "text/plain": [
       "    ID  Survived\n",
       "0  892         0\n",
       "1  893         0\n",
       "2  894         0\n",
       "3  895         0\n",
       "4  896         0"
      ]
     },
     "execution_count": 150,
     "metadata": {},
     "output_type": "execute_result"
    }
   ],
   "source": [
    "# 5. predict the model with test data\n",
    "pred_Log_df = model_pred(LogReg, x_test, test_id)\n",
    "pred_Log_df.head()"
   ]
  },
  {
   "cell_type": "markdown",
   "metadata": {},
   "source": [
    "### 3.2.2 KNN or k-Nearest Neighbors"
   ]
  },
  {
   "cell_type": "markdown",
   "metadata": {},
   "source": [
    "In pattern recognition, the k-Nearest Neighbors algorithm (or k-NN for short) is a non-parametric method used for classification and regression. A sample is classified by a majority vote of its neighbors, with the sample being assigned to the class most common among its k nearest neighbors (k is a positive integer, typically small). If k = 1, then the object is simply assigned to the class of that single nearest neighbor.  \n",
    "\n",
    "Reference Wikipedia: https://en.wikipedia.org/wiki/K-nearest_neighbors_algorithm"
   ]
  },
  {
   "cell_type": "code",
   "execution_count": 151,
   "metadata": {},
   "outputs": [
    {
     "data": {
      "text/plain": [
       "KNeighborsClassifier(algorithm='auto', leaf_size=30, metric='minkowski',\n",
       "           metric_params=None, n_jobs=1, n_neighbors=3, p=2,\n",
       "           weights='uniform')"
      ]
     },
     "execution_count": 151,
     "metadata": {},
     "output_type": "execute_result"
    }
   ],
   "source": [
    "# name the model\n",
    "KNN = KNeighborsClassifier(n_neighbors = 3)\n",
    "\n",
    "# fit the model\n",
    "KNN.fit(x_train, y_train)"
   ]
  },
  {
   "cell_type": "code",
   "execution_count": 152,
   "metadata": {},
   "outputs": [
    {
     "name": "stdout",
     "output_type": "stream",
     "text": [
      "accuracy for training set: 0.851123595505618\n",
      "accuracy for validation set: 0.776536312849162\n"
     ]
    }
   ],
   "source": [
    "# check accuracy\n",
    "acc_KNN_train, acc_KNN_valid = acc_check(KNN, x_train, y_train, x_valid, y_valid)"
   ]
  },
  {
   "cell_type": "code",
   "execution_count": 188,
   "metadata": {},
   "outputs": [
    {
     "name": "stdout",
     "output_type": "stream",
     "text": [
      "[0.7111111111111111, 0.7752808988764045, 0.7191011235955056]\n",
      "Mean Accuracy: 0.7845942571785268\n"
     ]
    }
   ],
   "source": [
    "# valide with kfold\n",
    "mean_KNN_kfold = run_kfold(KNN, x_all, y_all)"
   ]
  },
  {
   "cell_type": "code",
   "execution_count": 154,
   "metadata": {},
   "outputs": [
    {
     "data": {
      "text/html": [
       "<div>\n",
       "<style scoped>\n",
       "    .dataframe tbody tr th:only-of-type {\n",
       "        vertical-align: middle;\n",
       "    }\n",
       "\n",
       "    .dataframe tbody tr th {\n",
       "        vertical-align: top;\n",
       "    }\n",
       "\n",
       "    .dataframe thead th {\n",
       "        text-align: right;\n",
       "    }\n",
       "</style>\n",
       "<table border=\"1\" class=\"dataframe\">\n",
       "  <thead>\n",
       "    <tr style=\"text-align: right;\">\n",
       "      <th></th>\n",
       "      <th>ID</th>\n",
       "      <th>Survived</th>\n",
       "    </tr>\n",
       "  </thead>\n",
       "  <tbody>\n",
       "    <tr>\n",
       "      <th>0</th>\n",
       "      <td>892</td>\n",
       "      <td>0</td>\n",
       "    </tr>\n",
       "    <tr>\n",
       "      <th>1</th>\n",
       "      <td>893</td>\n",
       "      <td>0</td>\n",
       "    </tr>\n",
       "    <tr>\n",
       "      <th>2</th>\n",
       "      <td>894</td>\n",
       "      <td>0</td>\n",
       "    </tr>\n",
       "    <tr>\n",
       "      <th>3</th>\n",
       "      <td>895</td>\n",
       "      <td>0</td>\n",
       "    </tr>\n",
       "    <tr>\n",
       "      <th>4</th>\n",
       "      <td>896</td>\n",
       "      <td>1</td>\n",
       "    </tr>\n",
       "  </tbody>\n",
       "</table>\n",
       "</div>"
      ],
      "text/plain": [
       "    ID  Survived\n",
       "0  892         0\n",
       "1  893         0\n",
       "2  894         0\n",
       "3  895         0\n",
       "4  896         1"
      ]
     },
     "execution_count": 154,
     "metadata": {},
     "output_type": "execute_result"
    }
   ],
   "source": [
    "# predict\n",
    "pred_KNN_df = model_pred(KNN, x_test, test_id)\n",
    "pred_KNN_df.head()"
   ]
  },
  {
   "cell_type": "markdown",
   "metadata": {},
   "source": [
    "### 3.2.3 SVM (Support Vector Machines)"
   ]
  },
  {
   "cell_type": "markdown",
   "metadata": {},
   "source": [
    "Support Vector Machines are supervised learning models with associated learning algorithms that analyze data used for classification and regression analysis. Given a set of training samples, each marked as belonging to one or the other of two categories, an SVM training algorithm builds a model that assigns new test samples to one category or the other, making it a non-probabilistic binary linear classifier. \n",
    "\n",
    "Reference Wikipedia: https://en.wikipedia.org/wiki/Support_vector_machine"
   ]
  },
  {
   "cell_type": "code",
   "execution_count": 155,
   "metadata": {},
   "outputs": [
    {
     "data": {
      "text/plain": [
       "SVC(C=1.0, cache_size=200, class_weight=None, coef0=0.0,\n",
       "  decision_function_shape='ovr', degree=3, gamma='auto', kernel='rbf',\n",
       "  max_iter=-1, probability=False, random_state=None, shrinking=True,\n",
       "  tol=0.001, verbose=False)"
      ]
     },
     "execution_count": 155,
     "metadata": {},
     "output_type": "execute_result"
    }
   ],
   "source": [
    "# name model\n",
    "SVM = SVC()\n",
    "\n",
    "# fit model\n",
    "SVM.fit(x_train, y_train)"
   ]
  },
  {
   "cell_type": "code",
   "execution_count": 156,
   "metadata": {},
   "outputs": [
    {
     "name": "stdout",
     "output_type": "stream",
     "text": [
      "accuracy for training set: 0.8412921348314607\n",
      "accuracy for validation set: 0.7597765363128491\n"
     ]
    }
   ],
   "source": [
    "# accoracy of the model\n",
    "acc_SVM_train, acc_SVM_valid = acc_check(SVM, x_train, y_train, x_valid, y_valid)"
   ]
  },
  {
   "cell_type": "code",
   "execution_count": 189,
   "metadata": {},
   "outputs": [
    {
     "name": "stdout",
     "output_type": "stream",
     "text": [
      "[0.8222222222222222, 0.8764044943820225, 0.7752808988764045]\n",
      "Mean Accuracy: 0.8260424469413232\n"
     ]
    }
   ],
   "source": [
    "# valide kfold\n",
    "mean_SVM_kfold = run_kfold(SVM, x_all, y_all)"
   ]
  },
  {
   "cell_type": "code",
   "execution_count": 158,
   "metadata": {
    "scrolled": true
   },
   "outputs": [
    {
     "data": {
      "text/html": [
       "<div>\n",
       "<style scoped>\n",
       "    .dataframe tbody tr th:only-of-type {\n",
       "        vertical-align: middle;\n",
       "    }\n",
       "\n",
       "    .dataframe tbody tr th {\n",
       "        vertical-align: top;\n",
       "    }\n",
       "\n",
       "    .dataframe thead th {\n",
       "        text-align: right;\n",
       "    }\n",
       "</style>\n",
       "<table border=\"1\" class=\"dataframe\">\n",
       "  <thead>\n",
       "    <tr style=\"text-align: right;\">\n",
       "      <th></th>\n",
       "      <th>ID</th>\n",
       "      <th>Survived</th>\n",
       "    </tr>\n",
       "  </thead>\n",
       "  <tbody>\n",
       "    <tr>\n",
       "      <th>0</th>\n",
       "      <td>892</td>\n",
       "      <td>0</td>\n",
       "    </tr>\n",
       "    <tr>\n",
       "      <th>1</th>\n",
       "      <td>893</td>\n",
       "      <td>0</td>\n",
       "    </tr>\n",
       "    <tr>\n",
       "      <th>2</th>\n",
       "      <td>894</td>\n",
       "      <td>0</td>\n",
       "    </tr>\n",
       "    <tr>\n",
       "      <th>3</th>\n",
       "      <td>895</td>\n",
       "      <td>0</td>\n",
       "    </tr>\n",
       "    <tr>\n",
       "      <th>4</th>\n",
       "      <td>896</td>\n",
       "      <td>1</td>\n",
       "    </tr>\n",
       "  </tbody>\n",
       "</table>\n",
       "</div>"
      ],
      "text/plain": [
       "    ID  Survived\n",
       "0  892         0\n",
       "1  893         0\n",
       "2  894         0\n",
       "3  895         0\n",
       "4  896         1"
      ]
     },
     "execution_count": 158,
     "metadata": {},
     "output_type": "execute_result"
    }
   ],
   "source": [
    "# predict\n",
    "pred_SVM_df = model_pred(SVM, x_test, test_id)\n",
    "pred_SVM_df.head()"
   ]
  },
  {
   "cell_type": "markdown",
   "metadata": {},
   "source": [
    "### 3.2.4 Gaussian Naive Bayes classifier"
   ]
  },
  {
   "cell_type": "markdown",
   "metadata": {},
   "source": [
    "In machine learning, naive Bayes classifiers are a family of simple probabilistic classifiers based on applying Bayes' theorem with strong (naive) independence assumptions between the features. Naive Bayes classifiers are highly scalable, requiring a number of parameters linear in the number of variables (features) in a learning problem.\n",
    "\n",
    "Reference Wikipedia: https://en.wikipedia.org/wiki/Naive_Bayes_classifier"
   ]
  },
  {
   "cell_type": "code",
   "execution_count": 159,
   "metadata": {},
   "outputs": [
    {
     "data": {
      "text/plain": [
       "GaussianNB(priors=None)"
      ]
     },
     "execution_count": 159,
     "metadata": {},
     "output_type": "execute_result"
    }
   ],
   "source": [
    "GauNB = GaussianNB()\n",
    "GauNB.fit(x_train, y_train)"
   ]
  },
  {
   "cell_type": "code",
   "execution_count": 160,
   "metadata": {},
   "outputs": [
    {
     "name": "stdout",
     "output_type": "stream",
     "text": [
      "accuracy for training set: 0.7823033707865169\n",
      "accuracy for validation set: 0.7150837988826816\n"
     ]
    }
   ],
   "source": [
    "acc_GauNB_train, acc_GauNB_valid = acc_check(GauNB, x_train, y_train, x_valid, y_valid)"
   ]
  },
  {
   "cell_type": "code",
   "execution_count": 190,
   "metadata": {},
   "outputs": [
    {
     "name": "stdout",
     "output_type": "stream",
     "text": [
      "[0.6555555555555556, 0.6629213483146067, 0.7865168539325843]\n",
      "Mean Accuracy: 0.7509488139825219\n"
     ]
    }
   ],
   "source": [
    "mean_GauNB_kfold = run_kfold(GauNB, x_all, y_all)"
   ]
  },
  {
   "cell_type": "code",
   "execution_count": 162,
   "metadata": {},
   "outputs": [
    {
     "data": {
      "text/html": [
       "<div>\n",
       "<style scoped>\n",
       "    .dataframe tbody tr th:only-of-type {\n",
       "        vertical-align: middle;\n",
       "    }\n",
       "\n",
       "    .dataframe tbody tr th {\n",
       "        vertical-align: top;\n",
       "    }\n",
       "\n",
       "    .dataframe thead th {\n",
       "        text-align: right;\n",
       "    }\n",
       "</style>\n",
       "<table border=\"1\" class=\"dataframe\">\n",
       "  <thead>\n",
       "    <tr style=\"text-align: right;\">\n",
       "      <th></th>\n",
       "      <th>ID</th>\n",
       "      <th>Survived</th>\n",
       "    </tr>\n",
       "  </thead>\n",
       "  <tbody>\n",
       "    <tr>\n",
       "      <th>0</th>\n",
       "      <td>892</td>\n",
       "      <td>0</td>\n",
       "    </tr>\n",
       "    <tr>\n",
       "      <th>1</th>\n",
       "      <td>893</td>\n",
       "      <td>1</td>\n",
       "    </tr>\n",
       "    <tr>\n",
       "      <th>2</th>\n",
       "      <td>894</td>\n",
       "      <td>0</td>\n",
       "    </tr>\n",
       "    <tr>\n",
       "      <th>3</th>\n",
       "      <td>895</td>\n",
       "      <td>0</td>\n",
       "    </tr>\n",
       "    <tr>\n",
       "      <th>4</th>\n",
       "      <td>896</td>\n",
       "      <td>1</td>\n",
       "    </tr>\n",
       "  </tbody>\n",
       "</table>\n",
       "</div>"
      ],
      "text/plain": [
       "    ID  Survived\n",
       "0  892         0\n",
       "1  893         1\n",
       "2  894         0\n",
       "3  895         0\n",
       "4  896         1"
      ]
     },
     "execution_count": 162,
     "metadata": {},
     "output_type": "execute_result"
    }
   ],
   "source": [
    "pred_GauNB_df = model_pred(GauNB, x_test, test_id)\n",
    "pred_GauNB_df.head()"
   ]
  },
  {
   "cell_type": "markdown",
   "metadata": {},
   "source": [
    "### 3.2.5 Decision Tree"
   ]
  },
  {
   "cell_type": "markdown",
   "metadata": {},
   "source": [
    "This model uses a decision tree as a predictive model which maps features (tree branches) to conclusions about the target value (tree leaves). Tree models where the target variable can take a finite set of values are called classification trees; in these tree structures, leaves represent class labels and branches represent conjunctions of features that lead to those class labels. Decision trees where the target variable can take continuous values (typically real numbers) are called regression trees. \n",
    "\n",
    "Reference Wikipedia: https://en.wikipedia.org/wiki/Decision_tree_learning"
   ]
  },
  {
   "cell_type": "code",
   "execution_count": 175,
   "metadata": {},
   "outputs": [
    {
     "data": {
      "text/plain": [
       "DecisionTreeClassifier(class_weight=None, criterion='gini', max_depth=None,\n",
       "            max_features=None, max_leaf_nodes=None,\n",
       "            min_impurity_decrease=0.0, min_impurity_split=None,\n",
       "            min_samples_leaf=1, min_samples_split=2,\n",
       "            min_weight_fraction_leaf=0.0, presort=False, random_state=None,\n",
       "            splitter='best')"
      ]
     },
     "execution_count": 175,
     "metadata": {},
     "output_type": "execute_result"
    }
   ],
   "source": [
    "DescisionTree = DecisionTreeClassifier()\n",
    "DescisionTree.fit(x_train, y_train)"
   ]
  },
  {
   "cell_type": "code",
   "execution_count": 176,
   "metadata": {},
   "outputs": [
    {
     "name": "stdout",
     "output_type": "stream",
     "text": [
      "accuracy for training set: 0.8848314606741573\n",
      "accuracy for validation set: 0.7653631284916201\n"
     ]
    }
   ],
   "source": [
    "acc_DescisionTree_train, acc_DescisionTree_valid = acc_check(DescisionTree, x_train, y_train, x_valid, y_valid)"
   ]
  },
  {
   "cell_type": "code",
   "execution_count": 191,
   "metadata": {},
   "outputs": [
    {
     "name": "stdout",
     "output_type": "stream",
     "text": [
      "[0.7333333333333333, 0.8202247191011236, 0.7415730337078652]\n",
      "Mean Accuracy: 0.8025468164794007\n"
     ]
    }
   ],
   "source": [
    "mean_DescisionTree_kfold = run_kfold(DescisionTree, x_all, y_all)"
   ]
  },
  {
   "cell_type": "code",
   "execution_count": 178,
   "metadata": {},
   "outputs": [
    {
     "data": {
      "text/html": [
       "<div>\n",
       "<style scoped>\n",
       "    .dataframe tbody tr th:only-of-type {\n",
       "        vertical-align: middle;\n",
       "    }\n",
       "\n",
       "    .dataframe tbody tr th {\n",
       "        vertical-align: top;\n",
       "    }\n",
       "\n",
       "    .dataframe thead th {\n",
       "        text-align: right;\n",
       "    }\n",
       "</style>\n",
       "<table border=\"1\" class=\"dataframe\">\n",
       "  <thead>\n",
       "    <tr style=\"text-align: right;\">\n",
       "      <th></th>\n",
       "      <th>ID</th>\n",
       "      <th>Survived</th>\n",
       "    </tr>\n",
       "  </thead>\n",
       "  <tbody>\n",
       "    <tr>\n",
       "      <th>0</th>\n",
       "      <td>892</td>\n",
       "      <td>0</td>\n",
       "    </tr>\n",
       "    <tr>\n",
       "      <th>1</th>\n",
       "      <td>893</td>\n",
       "      <td>0</td>\n",
       "    </tr>\n",
       "    <tr>\n",
       "      <th>2</th>\n",
       "      <td>894</td>\n",
       "      <td>0</td>\n",
       "    </tr>\n",
       "    <tr>\n",
       "      <th>3</th>\n",
       "      <td>895</td>\n",
       "      <td>0</td>\n",
       "    </tr>\n",
       "    <tr>\n",
       "      <th>4</th>\n",
       "      <td>896</td>\n",
       "      <td>1</td>\n",
       "    </tr>\n",
       "  </tbody>\n",
       "</table>\n",
       "</div>"
      ],
      "text/plain": [
       "    ID  Survived\n",
       "0  892         0\n",
       "1  893         0\n",
       "2  894         0\n",
       "3  895         0\n",
       "4  896         1"
      ]
     },
     "execution_count": 178,
     "metadata": {},
     "output_type": "execute_result"
    }
   ],
   "source": [
    "pred_DescisionTree_df = model_pred(DescisionTree, x_test, test_id)\n",
    "pred_DescisionTree_df.head()"
   ]
  },
  {
   "cell_type": "markdown",
   "metadata": {},
   "source": [
    "### 3.2.6 Random Forest"
   ]
  },
  {
   "cell_type": "markdown",
   "metadata": {},
   "source": [
    "Random Forests is one of the most popular. Random forests or random decision forests are an ensemble learning method for classification, regression and other tasks, that operate by constructing a multitude of decision trees (n_estimators=100) at training time and outputting the class that is the mode of the classes (classification) or mean prediction (regression) of the individual trees. \n",
    "\n",
    "Reference Wikipedia: https://en.wikipedia.org/wiki/Random_forest"
   ]
  },
  {
   "cell_type": "code",
   "execution_count": 179,
   "metadata": {},
   "outputs": [
    {
     "data": {
      "text/plain": [
       "RandomForestClassifier(bootstrap=True, class_weight=None, criterion='gini',\n",
       "            max_depth=None, max_features='auto', max_leaf_nodes=None,\n",
       "            min_impurity_decrease=0.0, min_impurity_split=None,\n",
       "            min_samples_leaf=1, min_samples_split=2,\n",
       "            min_weight_fraction_leaf=0.0, n_estimators=100, n_jobs=1,\n",
       "            oob_score=False, random_state=None, verbose=0,\n",
       "            warm_start=False)"
      ]
     },
     "execution_count": 179,
     "metadata": {},
     "output_type": "execute_result"
    }
   ],
   "source": [
    "Random_Forest = RandomForestClassifier(n_estimators=100)\n",
    "Random_Forest.fit(x_train, y_train)"
   ]
  },
  {
   "cell_type": "code",
   "execution_count": 180,
   "metadata": {},
   "outputs": [
    {
     "name": "stdout",
     "output_type": "stream",
     "text": [
      "accuracy for training set: 0.8848314606741573\n",
      "accuracy for validation set: 0.7541899441340782\n"
     ]
    }
   ],
   "source": [
    "acc_Random_Forest_train, acc_Random_Forest_valid = acc_check(Random_Forest, x_train, y_train, x_valid, y_valid)"
   ]
  },
  {
   "cell_type": "code",
   "execution_count": 198,
   "metadata": {},
   "outputs": [
    {
     "name": "stdout",
     "output_type": "stream",
     "text": [
      "[0.7222222222222222, 0.8426966292134831, 0.7752808988764045]\n",
      "Mean Accuracy: 0.8093008739076154\n"
     ]
    }
   ],
   "source": [
    "mean_Random_Forest_kfold = run_kfold(Random_Forest, x_all, y_all)"
   ]
  },
  {
   "cell_type": "code",
   "execution_count": 182,
   "metadata": {},
   "outputs": [
    {
     "data": {
      "text/html": [
       "<div>\n",
       "<style scoped>\n",
       "    .dataframe tbody tr th:only-of-type {\n",
       "        vertical-align: middle;\n",
       "    }\n",
       "\n",
       "    .dataframe tbody tr th {\n",
       "        vertical-align: top;\n",
       "    }\n",
       "\n",
       "    .dataframe thead th {\n",
       "        text-align: right;\n",
       "    }\n",
       "</style>\n",
       "<table border=\"1\" class=\"dataframe\">\n",
       "  <thead>\n",
       "    <tr style=\"text-align: right;\">\n",
       "      <th></th>\n",
       "      <th>ID</th>\n",
       "      <th>Survived</th>\n",
       "    </tr>\n",
       "  </thead>\n",
       "  <tbody>\n",
       "    <tr>\n",
       "      <th>0</th>\n",
       "      <td>892</td>\n",
       "      <td>0</td>\n",
       "    </tr>\n",
       "    <tr>\n",
       "      <th>1</th>\n",
       "      <td>893</td>\n",
       "      <td>0</td>\n",
       "    </tr>\n",
       "    <tr>\n",
       "      <th>2</th>\n",
       "      <td>894</td>\n",
       "      <td>0</td>\n",
       "    </tr>\n",
       "    <tr>\n",
       "      <th>3</th>\n",
       "      <td>895</td>\n",
       "      <td>0</td>\n",
       "    </tr>\n",
       "    <tr>\n",
       "      <th>4</th>\n",
       "      <td>896</td>\n",
       "      <td>0</td>\n",
       "    </tr>\n",
       "  </tbody>\n",
       "</table>\n",
       "</div>"
      ],
      "text/plain": [
       "    ID  Survived\n",
       "0  892         0\n",
       "1  893         0\n",
       "2  894         0\n",
       "3  895         0\n",
       "4  896         0"
      ]
     },
     "execution_count": 182,
     "metadata": {},
     "output_type": "execute_result"
    }
   ],
   "source": [
    "pred_Random_Forest_df = model_pred(Random_Forest, x_test, test_id)\n",
    "pred_Random_Forest_df.head()"
   ]
  },
  {
   "cell_type": "markdown",
   "metadata": {},
   "source": [
    "### 3.2.7 Perceptron"
   ]
  },
  {
   "cell_type": "markdown",
   "metadata": {},
   "source": [
    "The perceptron is an algorithm for supervised learning of binary classifiers (functions that can decide whether an input, represented by a vector of numbers, belongs to some specific class or not). It is a type of linear classifier, i.e. a classification algorithm that makes its predictions based on a linear predictor function combining a set of weights with the feature vector. The algorithm allows for online learning, in that it processes elements in the training set one at a time. \n",
    "\n",
    "Reference Wikipedia: https://en.wikipedia.org/wiki/Perceptron"
   ]
  },
  {
   "cell_type": "code",
   "execution_count": 171,
   "metadata": {},
   "outputs": [
    {
     "name": "stderr",
     "output_type": "stream",
     "text": [
      "C:\\Users\\ru04r\\Anaconda3\\lib\\site-packages\\sklearn\\linear_model\\stochastic_gradient.py:128: FutureWarning: max_iter and tol parameters have been added in <class 'sklearn.linear_model.perceptron.Perceptron'> in 0.19. If both are left unset, they default to max_iter=5 and tol=None. If tol is not None, max_iter defaults to max_iter=1000. From 0.21, default max_iter will be 1000, and default tol will be 1e-3.\n",
      "  \"and default tol will be 1e-3.\" % type(self), FutureWarning)\n"
     ]
    },
    {
     "data": {
      "text/plain": [
       "Perceptron(alpha=0.0001, class_weight=None, eta0=1.0, fit_intercept=True,\n",
       "      max_iter=None, n_iter=None, n_jobs=1, penalty=None, random_state=0,\n",
       "      shuffle=True, tol=None, verbose=0, warm_start=False)"
      ]
     },
     "execution_count": 171,
     "metadata": {},
     "output_type": "execute_result"
    }
   ],
   "source": [
    "Pcptron = Perceptron()\n",
    "Pcptron.fit(x_train, y_train)"
   ]
  },
  {
   "cell_type": "code",
   "execution_count": 172,
   "metadata": {},
   "outputs": [
    {
     "name": "stdout",
     "output_type": "stream",
     "text": [
      "accuracy for training set: 0.7808988764044944\n",
      "accuracy for validation set: 0.7206703910614525\n"
     ]
    }
   ],
   "source": [
    "acc_Pcptron_train, acc_Pcptron_valid = acc_check(Pcptron, x_train, y_train, x_valid, y_valid)"
   ]
  },
  {
   "cell_type": "code",
   "execution_count": 193,
   "metadata": {},
   "outputs": [
    {
     "name": "stdout",
     "output_type": "stream",
     "text": [
      "[0.6444444444444445, 0.5955056179775281, 0.7415730337078652]\n",
      "Mean Accuracy: 0.6138826466916354\n"
     ]
    },
    {
     "name": "stderr",
     "output_type": "stream",
     "text": [
      "C:\\Users\\ru04r\\Anaconda3\\lib\\site-packages\\sklearn\\linear_model\\stochastic_gradient.py:128: FutureWarning: max_iter and tol parameters have been added in <class 'sklearn.linear_model.perceptron.Perceptron'> in 0.19. If both are left unset, they default to max_iter=5 and tol=None. If tol is not None, max_iter defaults to max_iter=1000. From 0.21, default max_iter will be 1000, and default tol will be 1e-3.\n",
      "  \"and default tol will be 1e-3.\" % type(self), FutureWarning)\n"
     ]
    }
   ],
   "source": [
    "mean_Pcptron_kfold = run_kfold(Pcptron, x_all, y_all)"
   ]
  },
  {
   "cell_type": "code",
   "execution_count": 174,
   "metadata": {},
   "outputs": [
    {
     "data": {
      "text/html": [
       "<div>\n",
       "<style scoped>\n",
       "    .dataframe tbody tr th:only-of-type {\n",
       "        vertical-align: middle;\n",
       "    }\n",
       "\n",
       "    .dataframe tbody tr th {\n",
       "        vertical-align: top;\n",
       "    }\n",
       "\n",
       "    .dataframe thead th {\n",
       "        text-align: right;\n",
       "    }\n",
       "</style>\n",
       "<table border=\"1\" class=\"dataframe\">\n",
       "  <thead>\n",
       "    <tr style=\"text-align: right;\">\n",
       "      <th></th>\n",
       "      <th>ID</th>\n",
       "      <th>Survived</th>\n",
       "    </tr>\n",
       "  </thead>\n",
       "  <tbody>\n",
       "    <tr>\n",
       "      <th>0</th>\n",
       "      <td>892</td>\n",
       "      <td>1</td>\n",
       "    </tr>\n",
       "    <tr>\n",
       "      <th>1</th>\n",
       "      <td>893</td>\n",
       "      <td>1</td>\n",
       "    </tr>\n",
       "    <tr>\n",
       "      <th>2</th>\n",
       "      <td>894</td>\n",
       "      <td>1</td>\n",
       "    </tr>\n",
       "    <tr>\n",
       "      <th>3</th>\n",
       "      <td>895</td>\n",
       "      <td>1</td>\n",
       "    </tr>\n",
       "    <tr>\n",
       "      <th>4</th>\n",
       "      <td>896</td>\n",
       "      <td>1</td>\n",
       "    </tr>\n",
       "  </tbody>\n",
       "</table>\n",
       "</div>"
      ],
      "text/plain": [
       "    ID  Survived\n",
       "0  892         1\n",
       "1  893         1\n",
       "2  894         1\n",
       "3  895         1\n",
       "4  896         1"
      ]
     },
     "execution_count": 174,
     "metadata": {},
     "output_type": "execute_result"
    }
   ],
   "source": [
    "pred_Pcptron_df = model_pred(Pcptron, x_test, test_id)\n",
    "pred_Pcptron_df.head()"
   ]
  },
  {
   "cell_type": "markdown",
   "metadata": {},
   "source": [
    "## 3.3 Model comparsion/ evaluation"
   ]
  },
  {
   "cell_type": "markdown",
   "metadata": {},
   "source": [
    "Rank the evaluation of all the models to choose the best one for our problem.  \n",
    "As usual, use a dataframe to show the camparsion "
   ]
  },
  {
   "cell_type": "code",
   "execution_count": 199,
   "metadata": {},
   "outputs": [],
   "source": [
    "models = pd.DataFrame({\n",
    "    'Model': ['Logistic Regression', 'KNN', 'SVM', 'Naive Bayes', 'Decision Tree', 'Random Forest', 'Perceptron'],\n",
    "    'train_Score': [acc_Log_train, acc_KNN_train, acc_SVM_train, acc_GauNB_train, \n",
    "                    acc_DescisionTree_train, acc_Random_Forest_train, acc_Pcptron_train],\n",
    "    'valid_Score':[acc_Log_valid, acc_KNN_valid, acc_SVM_valid, acc_GauNB_valid, \n",
    "                    acc_DescisionTree_valid, acc_Random_Forest_valid, acc_Pcptron_valid],\n",
    "    'mean_valid': [mean_Log_kfold, mean_KNN_kfold, mean_SVM_kfold, mean_GauNB_kfold,\n",
    "                   mean_DescisionTree_kfold, mean_Random_Forest_kfold ,mean_Pcptron_kfold]\n",
    "})"
   ]
  },
  {
   "cell_type": "code",
   "execution_count": 200,
   "metadata": {},
   "outputs": [
    {
     "data": {
      "text/html": [
       "<div>\n",
       "<style scoped>\n",
       "    .dataframe tbody tr th:only-of-type {\n",
       "        vertical-align: middle;\n",
       "    }\n",
       "\n",
       "    .dataframe tbody tr th {\n",
       "        vertical-align: top;\n",
       "    }\n",
       "\n",
       "    .dataframe thead th {\n",
       "        text-align: right;\n",
       "    }\n",
       "</style>\n",
       "<table border=\"1\" class=\"dataframe\">\n",
       "  <thead>\n",
       "    <tr style=\"text-align: right;\">\n",
       "      <th></th>\n",
       "      <th>Model</th>\n",
       "      <th>train_Score</th>\n",
       "      <th>valid_Score</th>\n",
       "      <th>mean_valid</th>\n",
       "    </tr>\n",
       "  </thead>\n",
       "  <tbody>\n",
       "    <tr>\n",
       "      <th>6</th>\n",
       "      <td>Perceptron</td>\n",
       "      <td>0.780899</td>\n",
       "      <td>0.720670</td>\n",
       "      <td>0.613883</td>\n",
       "    </tr>\n",
       "    <tr>\n",
       "      <th>3</th>\n",
       "      <td>Naive Bayes</td>\n",
       "      <td>0.782303</td>\n",
       "      <td>0.715084</td>\n",
       "      <td>0.750949</td>\n",
       "    </tr>\n",
       "    <tr>\n",
       "      <th>0</th>\n",
       "      <td>Logistic Regression</td>\n",
       "      <td>0.800562</td>\n",
       "      <td>0.731844</td>\n",
       "      <td>0.778889</td>\n",
       "    </tr>\n",
       "    <tr>\n",
       "      <th>1</th>\n",
       "      <td>KNN</td>\n",
       "      <td>0.851124</td>\n",
       "      <td>0.776536</td>\n",
       "      <td>0.784594</td>\n",
       "    </tr>\n",
       "    <tr>\n",
       "      <th>4</th>\n",
       "      <td>Decision Tree</td>\n",
       "      <td>0.884831</td>\n",
       "      <td>0.765363</td>\n",
       "      <td>0.802547</td>\n",
       "    </tr>\n",
       "    <tr>\n",
       "      <th>5</th>\n",
       "      <td>Random Forest</td>\n",
       "      <td>0.884831</td>\n",
       "      <td>0.754190</td>\n",
       "      <td>0.809301</td>\n",
       "    </tr>\n",
       "    <tr>\n",
       "      <th>2</th>\n",
       "      <td>SVM</td>\n",
       "      <td>0.841292</td>\n",
       "      <td>0.759777</td>\n",
       "      <td>0.826042</td>\n",
       "    </tr>\n",
       "  </tbody>\n",
       "</table>\n",
       "</div>"
      ],
      "text/plain": [
       "                 Model  train_Score  valid_Score  mean_valid\n",
       "6           Perceptron     0.780899     0.720670    0.613883\n",
       "3          Naive Bayes     0.782303     0.715084    0.750949\n",
       "0  Logistic Regression     0.800562     0.731844    0.778889\n",
       "1                  KNN     0.851124     0.776536    0.784594\n",
       "4        Decision Tree     0.884831     0.765363    0.802547\n",
       "5        Random Forest     0.884831     0.754190    0.809301\n",
       "2                  SVM     0.841292     0.759777    0.826042"
      ]
     },
     "execution_count": 200,
     "metadata": {},
     "output_type": "execute_result"
    }
   ],
   "source": [
    "models.sort_values(by = 'mean_valid')"
   ]
  },
  {
   "cell_type": "markdown",
   "metadata": {},
   "source": [
    "# 4. Output to csv"
   ]
  },
  {
   "cell_type": "markdown",
   "metadata": {},
   "source": [
    "Base on the result above, chose the best model's outcome  \n",
    "Adjuest the column name  \n",
    "Write into csv  "
   ]
  },
  {
   "cell_type": "code",
   "execution_count": 203,
   "metadata": {},
   "outputs": [
    {
     "data": {
      "text/html": [
       "<div>\n",
       "<style scoped>\n",
       "    .dataframe tbody tr th:only-of-type {\n",
       "        vertical-align: middle;\n",
       "    }\n",
       "\n",
       "    .dataframe tbody tr th {\n",
       "        vertical-align: top;\n",
       "    }\n",
       "\n",
       "    .dataframe thead th {\n",
       "        text-align: right;\n",
       "    }\n",
       "</style>\n",
       "<table border=\"1\" class=\"dataframe\">\n",
       "  <thead>\n",
       "    <tr style=\"text-align: right;\">\n",
       "      <th></th>\n",
       "      <th>PassengerId</th>\n",
       "      <th>Survived</th>\n",
       "    </tr>\n",
       "  </thead>\n",
       "  <tbody>\n",
       "    <tr>\n",
       "      <th>0</th>\n",
       "      <td>892</td>\n",
       "      <td>0</td>\n",
       "    </tr>\n",
       "    <tr>\n",
       "      <th>1</th>\n",
       "      <td>893</td>\n",
       "      <td>0</td>\n",
       "    </tr>\n",
       "    <tr>\n",
       "      <th>2</th>\n",
       "      <td>894</td>\n",
       "      <td>0</td>\n",
       "    </tr>\n",
       "  </tbody>\n",
       "</table>\n",
       "</div>"
      ],
      "text/plain": [
       "   PassengerId  Survived\n",
       "0          892         0\n",
       "1          893         0\n",
       "2          894         0"
      ]
     },
     "execution_count": 203,
     "metadata": {},
     "output_type": "execute_result"
    }
   ],
   "source": [
    "output = pred_SVM_df.copy()\n",
    "output = output.rename(columns = {'ID': 'PassengerId'} )\n",
    "output.head(3)"
   ]
  },
  {
   "cell_type": "code",
   "execution_count": 204,
   "metadata": {},
   "outputs": [],
   "source": [
    "output.to_csv('titanic_pred.csv', index = False)"
   ]
  },
  {
   "cell_type": "markdown",
   "metadata": {},
   "source": [
    "------"
   ]
  },
  {
   "cell_type": "markdown",
   "metadata": {},
   "source": [
    "# 5. Using Keras to executive deep learning"
   ]
  },
  {
   "cell_type": "markdown",
   "metadata": {},
   "source": [
    "https://machinelearningmastery.com/tutorial-first-neural-network-python-keras/  \n",
    "https://machinelearningmastery.com/5-step-life-cycle-neural-network-models-keras/"
   ]
  },
  {
   "cell_type": "markdown",
   "metadata": {},
   "source": [
    "## 5.1 Import Keras"
   ]
  },
  {
   "cell_type": "code",
   "execution_count": 1,
   "metadata": {},
   "outputs": [
    {
     "name": "stderr",
     "output_type": "stream",
     "text": [
      "Using TensorFlow backend.\n"
     ]
    }
   ],
   "source": [
    "from keras.models import Sequential\n",
    "from keras.layers import Dense"
   ]
  },
  {
   "cell_type": "code",
   "execution_count": 32,
   "metadata": {},
   "outputs": [],
   "source": [
    "# random seed\n",
    "np.random.seed(7)"
   ]
  },
  {
   "cell_type": "markdown",
   "metadata": {},
   "source": [
    "+ The data set we have:\n",
    "> x_all, y_all : all the training data  \n",
    "> x_train, y_train : 80% of the training data  \n",
    "> x_valid, y_valid : 20% of the training data  \n",
    "> x_test (test_id) : data for predict"
   ]
  },
  {
   "cell_type": "code",
   "execution_count": 33,
   "metadata": {},
   "outputs": [
    {
     "data": {
      "text/html": [
       "<div>\n",
       "<style scoped>\n",
       "    .dataframe tbody tr th:only-of-type {\n",
       "        vertical-align: middle;\n",
       "    }\n",
       "\n",
       "    .dataframe tbody tr th {\n",
       "        vertical-align: top;\n",
       "    }\n",
       "\n",
       "    .dataframe thead th {\n",
       "        text-align: right;\n",
       "    }\n",
       "</style>\n",
       "<table border=\"1\" class=\"dataframe\">\n",
       "  <thead>\n",
       "    <tr style=\"text-align: right;\">\n",
       "      <th></th>\n",
       "      <th>Pclass</th>\n",
       "      <th>Sex</th>\n",
       "      <th>Age</th>\n",
       "      <th>Fare</th>\n",
       "      <th>Embarked</th>\n",
       "      <th>Title</th>\n",
       "      <th>IsAlone</th>\n",
       "    </tr>\n",
       "  </thead>\n",
       "  <tbody>\n",
       "    <tr>\n",
       "      <th>0</th>\n",
       "      <td>3</td>\n",
       "      <td>1</td>\n",
       "      <td>4</td>\n",
       "      <td>0</td>\n",
       "      <td>2</td>\n",
       "      <td>2</td>\n",
       "      <td>0</td>\n",
       "    </tr>\n",
       "    <tr>\n",
       "      <th>1</th>\n",
       "      <td>1</td>\n",
       "      <td>0</td>\n",
       "      <td>0</td>\n",
       "      <td>3</td>\n",
       "      <td>0</td>\n",
       "      <td>3</td>\n",
       "      <td>0</td>\n",
       "    </tr>\n",
       "    <tr>\n",
       "      <th>2</th>\n",
       "      <td>3</td>\n",
       "      <td>0</td>\n",
       "      <td>6</td>\n",
       "      <td>0</td>\n",
       "      <td>2</td>\n",
       "      <td>1</td>\n",
       "      <td>1</td>\n",
       "    </tr>\n",
       "  </tbody>\n",
       "</table>\n",
       "</div>"
      ],
      "text/plain": [
       "   Pclass  Sex  Age  Fare  Embarked  Title  IsAlone\n",
       "0       3    1    4     0         2      2        0\n",
       "1       1    0    0     3         0      3        0\n",
       "2       3    0    6     0         2      1        1"
      ]
     },
     "execution_count": 33,
     "metadata": {},
     "output_type": "execute_result"
    }
   ],
   "source": [
    "x_all.head(3)"
   ]
  },
  {
   "cell_type": "markdown",
   "metadata": {},
   "source": [
    "## 5.2 Define Model"
   ]
  },
  {
   "cell_type": "markdown",
   "metadata": {},
   "source": [
    "Create a Sequential model and add layers one at a time until we are happy with our network topology.  \n",
    "    \n",
    "+ creating the first layer \n",
    "> with the 'input_dim' argument and setting it to n for the n input variables\n",
    "> + in this example, we have 7 inputs\n",
    "    \n",
    "+ the number of layers and their types?\n",
    "> there are heuristics that we can use and often the best network structure is found through a process of trial and error experimentation.\n",
    "> + in this example, we will use a fully-connected network structure with three layers.\n",
    "\n",
    "+ connected layers are defined using the Dense class\n",
    "> specify the number of neurons in the layer as the first argument,   \n",
    "> the initialization method as the second argument as 'init'   \n",
    "> specify the activation function using the 'activation' argument\n",
    "> + in this example, we use the rectifier (‘relu‘) activation function on the first two layers and the sigmoid function in the output layer."
   ]
  },
  {
   "cell_type": "code",
   "execution_count": 34,
   "metadata": {},
   "outputs": [],
   "source": [
    "# create model\n",
    "model = Sequential()\n",
    "model.add(Dense(12, input_dim = 7, activation = 'relu'))\n",
    "model.add(Dense(8, activation = 'relu'))\n",
    "model.add(Dense(1, activation = 'sigmoid'))"
   ]
  },
  {
   "cell_type": "markdown",
   "metadata": {},
   "source": [
    "## 5.3 Compile Model"
   ]
  },
  {
   "cell_type": "markdown",
   "metadata": {},
   "source": [
    "Compiling the model uses the efficient numerical libraries under the covers (the so-called backend) such as Theano or TensorFlow. The backend automatically chooses the best way to represent the network for training and making predictions to run on your hardware, such as CPU or GPU or even distributed.  \n",
    "    \n",
    "When compiling, we must specify some additional properties required when training the network.\n",
    "\n",
    "+ elements needs to be specified  \n",
    "> loss function : to use to evaluate a set of weights   \n",
    "> optimizer : used to search through different weights for the network   \n",
    "> optional metrics :  to collect and report during training  \n"
   ]
  },
  {
   "cell_type": "markdown",
   "metadata": {},
   "source": [
    "> + in this case:\n",
    ">> we use logarithmic loss: which for a binary classification problem is defined in Keras as “binary_crossentropy“  \n",
    ">> use the efficient gradient descent algorithm “adam” for no other reason that it is an efficient default.  \n",
    ">> collect and report the classification accuracy as the metric"
   ]
  },
  {
   "cell_type": "code",
   "execution_count": 35,
   "metadata": {},
   "outputs": [],
   "source": [
    "# Complie model\n",
    "model.compile(loss = 'binary_crossentropy', optimizer = 'adam', metrics = ['accuracy'])"
   ]
  },
  {
   "cell_type": "markdown",
   "metadata": {},
   "source": [
    "## 5.4 Fit Model"
   ]
  },
  {
   "cell_type": "markdown",
   "metadata": {},
   "source": [
    "We can train or fit our model on our loaded data by calling the fit() function on the model.\n",
    "+ arguments:\n",
    "> nepochs: number of iterations  \n",
    "> batch_size: the number of instances that are evaluated before a weight update\n",
    "\n",
    "\n",
    "+ Note: If you try running this example in an IPython or Jupyter notebook you may get an error. The reason is the output progress bars during training. You can easily turn these off by setting verbose=0 in the call to model.fit()."
   ]
  },
  {
   "cell_type": "code",
   "execution_count": 36,
   "metadata": {},
   "outputs": [
    {
     "name": "stdout",
     "output_type": "stream",
     "text": [
      "Epoch 1/500\n",
      "712/712 [==============================] - 1s 2ms/step - loss: 0.6529 - acc: 0.6166\n",
      "Epoch 2/500\n",
      "712/712 [==============================] - 0s 97us/step - loss: 0.6237 - acc: 0.6208\n",
      "Epoch 3/500\n",
      "712/712 [==============================] - 0s 112us/step - loss: 0.5956 - acc: 0.6390\n",
      "Epoch 4/500\n",
      "712/712 [==============================] - 0s 67us/step - loss: 0.5795 - acc: 0.6728\n",
      "Epoch 5/500\n",
      "712/712 [==============================] - 0s 98us/step - loss: 0.5681 - acc: 0.7065\n",
      "Epoch 6/500\n",
      "712/712 [==============================] - 0s 95us/step - loss: 0.5590 - acc: 0.7219\n",
      "Epoch 7/500\n",
      "712/712 [==============================] - 0s 77us/step - loss: 0.5512 - acc: 0.7458\n",
      "Epoch 8/500\n",
      "712/712 [==============================] - 0s 98us/step - loss: 0.5434 - acc: 0.7303\n",
      "Epoch 9/500\n",
      "712/712 [==============================] - 0s 69us/step - loss: 0.5358 - acc: 0.7500\n",
      "Epoch 10/500\n",
      "712/712 [==============================] - 0s 69us/step - loss: 0.5299 - acc: 0.7542\n",
      "Epoch 11/500\n",
      "712/712 [==============================] - 0s 67us/step - loss: 0.5236 - acc: 0.7486\n",
      "Epoch 12/500\n",
      "712/712 [==============================] - 0s 66us/step - loss: 0.5183 - acc: 0.7570\n",
      "Epoch 13/500\n",
      "712/712 [==============================] - 0s 91us/step - loss: 0.5139 - acc: 0.7640\n",
      "Epoch 14/500\n",
      "712/712 [==============================] - 0s 77us/step - loss: 0.5098 - acc: 0.7669\n",
      "Epoch 15/500\n",
      "712/712 [==============================] - 0s 67us/step - loss: 0.5066 - acc: 0.7767\n",
      "Epoch 16/500\n",
      "712/712 [==============================] - 0s 118us/step - loss: 0.5022 - acc: 0.7697\n",
      "Epoch 17/500\n",
      "712/712 [==============================] - 0s 101us/step - loss: 0.4985 - acc: 0.7739\n",
      "Epoch 18/500\n",
      "712/712 [==============================] - 0s 78us/step - loss: 0.4962 - acc: 0.7823\n",
      "Epoch 19/500\n",
      "712/712 [==============================] - 0s 91us/step - loss: 0.4951 - acc: 0.7837\n",
      "Epoch 20/500\n",
      "712/712 [==============================] - 0s 94us/step - loss: 0.4920 - acc: 0.7851\n",
      "Epoch 21/500\n",
      "712/712 [==============================] - 0s 69us/step - loss: 0.4882 - acc: 0.7851\n",
      "Epoch 22/500\n",
      "712/712 [==============================] - 0s 97us/step - loss: 0.4867 - acc: 0.7879\n",
      "Epoch 23/500\n",
      "712/712 [==============================] - 0s 78us/step - loss: 0.4866 - acc: 0.7949\n",
      "Epoch 24/500\n",
      "712/712 [==============================] - 0s 97us/step - loss: 0.4823 - acc: 0.7879\n",
      "Epoch 25/500\n",
      "712/712 [==============================] - 0s 67us/step - loss: 0.4820 - acc: 0.7963\n",
      "Epoch 26/500\n",
      "712/712 [==============================] - 0s 94us/step - loss: 0.4794 - acc: 0.7935\n",
      "Epoch 27/500\n",
      "712/712 [==============================] - 0s 94us/step - loss: 0.4775 - acc: 0.7935\n",
      "Epoch 28/500\n",
      "712/712 [==============================] - 0s 92us/step - loss: 0.4744 - acc: 0.7935\n",
      "Epoch 29/500\n",
      "712/712 [==============================] - 0s 64us/step - loss: 0.4741 - acc: 0.8006\n",
      "Epoch 30/500\n",
      "712/712 [==============================] - 0s 66us/step - loss: 0.4724 - acc: 0.8034\n",
      "Epoch 31/500\n",
      "712/712 [==============================] - 0s 95us/step - loss: 0.4680 - acc: 0.8020\n",
      "Epoch 32/500\n",
      "712/712 [==============================] - 0s 74us/step - loss: 0.4632 - acc: 0.8034\n",
      "Epoch 33/500\n",
      "712/712 [==============================] - 0s 88us/step - loss: 0.4546 - acc: 0.8062\n",
      "Epoch 34/500\n",
      "712/712 [==============================] - 0s 94us/step - loss: 0.4484 - acc: 0.8020\n",
      "Epoch 35/500\n",
      "712/712 [==============================] - 0s 73us/step - loss: 0.4458 - acc: 0.8020\n",
      "Epoch 36/500\n",
      "712/712 [==============================] - 0s 95us/step - loss: 0.4436 - acc: 0.8020\n",
      "Epoch 37/500\n",
      "712/712 [==============================] - 0s 94us/step - loss: 0.4415 - acc: 0.7992\n",
      "Epoch 38/500\n",
      "712/712 [==============================] - 0s 69us/step - loss: 0.4391 - acc: 0.8034\n",
      "Epoch 39/500\n",
      "712/712 [==============================] - 0s 87us/step - loss: 0.4413 - acc: 0.8090\n",
      "Epoch 40/500\n",
      "712/712 [==============================] - 0s 73us/step - loss: 0.4404 - acc: 0.8048\n",
      "Epoch 41/500\n",
      "712/712 [==============================] - 0s 95us/step - loss: 0.4364 - acc: 0.8174\n",
      "Epoch 42/500\n",
      "712/712 [==============================] - 0s 69us/step - loss: 0.4355 - acc: 0.8090\n",
      "Epoch 43/500\n",
      "712/712 [==============================] - 0s 94us/step - loss: 0.4313 - acc: 0.8090\n",
      "Epoch 44/500\n",
      "712/712 [==============================] - 0s 64us/step - loss: 0.4318 - acc: 0.8076\n",
      "Epoch 45/500\n",
      "712/712 [==============================] - 0s 71us/step - loss: 0.4317 - acc: 0.8118\n",
      "Epoch 46/500\n",
      "712/712 [==============================] - 0s 115us/step - loss: 0.4305 - acc: 0.8118\n",
      "Epoch 47/500\n",
      "712/712 [==============================] - 0s 102us/step - loss: 0.4289 - acc: 0.8146\n",
      "Epoch 48/500\n",
      "712/712 [==============================] - 0s 70us/step - loss: 0.4275 - acc: 0.8132\n",
      "Epoch 49/500\n",
      "712/712 [==============================] - 0s 67us/step - loss: 0.4271 - acc: 0.8146\n",
      "Epoch 50/500\n",
      "712/712 [==============================] - 0s 99us/step - loss: 0.4255 - acc: 0.8174\n",
      "Epoch 51/500\n",
      "712/712 [==============================] - 0s 66us/step - loss: 0.4273 - acc: 0.8090\n",
      "Epoch 52/500\n",
      "712/712 [==============================] - 0s 94us/step - loss: 0.4244 - acc: 0.8174\n",
      "Epoch 53/500\n",
      "712/712 [==============================] - 0s 92us/step - loss: 0.4245 - acc: 0.8132\n",
      "Epoch 54/500\n",
      "712/712 [==============================] - 0s 97us/step - loss: 0.4235 - acc: 0.8132\n",
      "Epoch 55/500\n",
      "712/712 [==============================] - 0s 76us/step - loss: 0.4254 - acc: 0.8202\n",
      "Epoch 56/500\n",
      "712/712 [==============================] - 0s 83us/step - loss: 0.4225 - acc: 0.8160\n",
      "Epoch 57/500\n",
      "712/712 [==============================] - 0s 95us/step - loss: 0.4223 - acc: 0.8188\n",
      "Epoch 58/500\n",
      "712/712 [==============================] - 0s 91us/step - loss: 0.4217 - acc: 0.8160\n",
      "Epoch 59/500\n",
      "712/712 [==============================] - 0s 78us/step - loss: 0.4198 - acc: 0.8090\n",
      "Epoch 60/500\n",
      "712/712 [==============================] - 0s 95us/step - loss: 0.4203 - acc: 0.8272\n",
      "Epoch 61/500\n",
      "712/712 [==============================] - 0s 94us/step - loss: 0.4218 - acc: 0.8188\n",
      "Epoch 62/500\n",
      "712/712 [==============================] - 0s 69us/step - loss: 0.4198 - acc: 0.8118\n",
      "Epoch 63/500\n",
      "712/712 [==============================] - 0s 66us/step - loss: 0.4188 - acc: 0.8160\n",
      "Epoch 64/500\n",
      "712/712 [==============================] - 0s 101us/step - loss: 0.4176 - acc: 0.8202\n",
      "Epoch 65/500\n",
      "712/712 [==============================] - 0s 73us/step - loss: 0.4160 - acc: 0.8160\n",
      "Epoch 66/500\n",
      "712/712 [==============================] - 0s 74us/step - loss: 0.4176 - acc: 0.8230\n",
      "Epoch 67/500\n",
      "712/712 [==============================] - 0s 95us/step - loss: 0.4161 - acc: 0.8258\n",
      "Epoch 68/500\n",
      "712/712 [==============================] - 0s 98us/step - loss: 0.4176 - acc: 0.8202\n",
      "Epoch 69/500\n",
      "712/712 [==============================] - 0s 66us/step - loss: 0.4128 - acc: 0.8146\n",
      "Epoch 70/500\n",
      "712/712 [==============================] - 0s 77us/step - loss: 0.4177 - acc: 0.8160\n",
      "Epoch 71/500\n",
      "712/712 [==============================] - 0s 88us/step - loss: 0.4154 - acc: 0.8146\n",
      "Epoch 72/500\n",
      "712/712 [==============================] - 0s 101us/step - loss: 0.4152 - acc: 0.8301\n",
      "Epoch 73/500\n",
      "712/712 [==============================] - 0s 83us/step - loss: 0.4131 - acc: 0.8216\n",
      "Epoch 74/500\n",
      "712/712 [==============================] - 0s 98us/step - loss: 0.4181 - acc: 0.8230\n",
      "Epoch 75/500\n",
      "712/712 [==============================] - 0s 98us/step - loss: 0.4124 - acc: 0.8230\n",
      "Epoch 76/500\n",
      "712/712 [==============================] - 0s 97us/step - loss: 0.4128 - acc: 0.8244\n",
      "Epoch 77/500\n",
      "712/712 [==============================] - 0s 70us/step - loss: 0.4140 - acc: 0.8272\n",
      "Epoch 78/500\n",
      "712/712 [==============================] - 0s 62us/step - loss: 0.4137 - acc: 0.8272\n",
      "Epoch 79/500\n",
      "712/712 [==============================] - 0s 63us/step - loss: 0.4103 - acc: 0.8216\n",
      "Epoch 80/500\n",
      "712/712 [==============================] - 0s 101us/step - loss: 0.4114 - acc: 0.8202\n",
      "Epoch 81/500\n",
      "712/712 [==============================] - 0s 99us/step - loss: 0.4098 - acc: 0.8244\n",
      "Epoch 82/500\n",
      "712/712 [==============================] - 0s 66us/step - loss: 0.4095 - acc: 0.8272\n",
      "Epoch 83/500\n",
      "712/712 [==============================] - 0s 98us/step - loss: 0.4096 - acc: 0.8258\n",
      "Epoch 84/500\n",
      "712/712 [==============================] - 0s 94us/step - loss: 0.4088 - acc: 0.8301\n",
      "Epoch 85/500\n",
      "712/712 [==============================] - 0s 94us/step - loss: 0.4082 - acc: 0.8343\n",
      "Epoch 86/500\n",
      "712/712 [==============================] - 0s 80us/step - loss: 0.4107 - acc: 0.8230\n",
      "Epoch 87/500\n",
      "712/712 [==============================] - 0s 99us/step - loss: 0.4093 - acc: 0.8230\n",
      "Epoch 88/500\n",
      "712/712 [==============================] - 0s 97us/step - loss: 0.4065 - acc: 0.8329\n",
      "Epoch 89/500\n",
      "712/712 [==============================] - 0s 98us/step - loss: 0.4081 - acc: 0.8301\n",
      "Epoch 90/500\n",
      "712/712 [==============================] - 0s 101us/step - loss: 0.4054 - acc: 0.8272\n",
      "Epoch 91/500\n",
      "712/712 [==============================] - 0s 92us/step - loss: 0.4113 - acc: 0.8258\n",
      "Epoch 92/500\n",
      "712/712 [==============================] - 0s 78us/step - loss: 0.4055 - acc: 0.8371\n",
      "Epoch 93/500\n",
      "712/712 [==============================] - 0s 66us/step - loss: 0.4056 - acc: 0.8258\n",
      "Epoch 94/500\n",
      "712/712 [==============================] - 0s 95us/step - loss: 0.4062 - acc: 0.8301\n",
      "Epoch 95/500\n",
      "712/712 [==============================] - 0s 67us/step - loss: 0.4058 - acc: 0.8258\n",
      "Epoch 96/500\n",
      "712/712 [==============================] - 0s 97us/step - loss: 0.4063 - acc: 0.8272\n",
      "Epoch 97/500\n",
      "712/712 [==============================] - 0s 76us/step - loss: 0.4036 - acc: 0.8357\n",
      "Epoch 98/500\n",
      "712/712 [==============================] - 0s 91us/step - loss: 0.4070 - acc: 0.8272\n",
      "Epoch 99/500\n",
      "712/712 [==============================] - 0s 71us/step - loss: 0.4043 - acc: 0.8301\n",
      "Epoch 100/500\n",
      "712/712 [==============================] - 0s 97us/step - loss: 0.4035 - acc: 0.8244\n",
      "Epoch 101/500\n",
      "712/712 [==============================] - 0s 98us/step - loss: 0.4039 - acc: 0.8315\n",
      "Epoch 102/500\n",
      "712/712 [==============================] - 0s 113us/step - loss: 0.4034 - acc: 0.8287\n",
      "Epoch 103/500\n",
      "712/712 [==============================] - 0s 76us/step - loss: 0.4043 - acc: 0.8301\n",
      "Epoch 104/500\n",
      "712/712 [==============================] - 0s 90us/step - loss: 0.4004 - acc: 0.8329\n",
      "Epoch 105/500\n",
      "712/712 [==============================] - 0s 91us/step - loss: 0.4016 - acc: 0.8329\n",
      "Epoch 106/500\n",
      "712/712 [==============================] - 0s 83us/step - loss: 0.4026 - acc: 0.8329\n",
      "Epoch 107/500\n",
      "712/712 [==============================] - 0s 83us/step - loss: 0.4026 - acc: 0.8315\n",
      "Epoch 108/500\n",
      "712/712 [==============================] - 0s 71us/step - loss: 0.4032 - acc: 0.8343\n",
      "Epoch 109/500\n",
      "712/712 [==============================] - 0s 94us/step - loss: 0.4008 - acc: 0.8287\n",
      "Epoch 110/500\n",
      "712/712 [==============================] - 0s 76us/step - loss: 0.4019 - acc: 0.8287\n",
      "Epoch 111/500\n",
      "712/712 [==============================] - 0s 95us/step - loss: 0.4020 - acc: 0.8258\n",
      "Epoch 112/500\n",
      "712/712 [==============================] - 0s 88us/step - loss: 0.4013 - acc: 0.8315\n",
      "Epoch 113/500\n",
      "712/712 [==============================] - 0s 94us/step - loss: 0.4008 - acc: 0.8343\n",
      "Epoch 114/500\n",
      "712/712 [==============================] - 0s 67us/step - loss: 0.4066 - acc: 0.8202\n",
      "Epoch 115/500\n",
      "712/712 [==============================] - 0s 97us/step - loss: 0.3995 - acc: 0.8329\n",
      "Epoch 116/500\n",
      "712/712 [==============================] - 0s 102us/step - loss: 0.3999 - acc: 0.8287\n",
      "Epoch 117/500\n",
      "712/712 [==============================] - 0s 101us/step - loss: 0.3998 - acc: 0.8315\n",
      "Epoch 118/500\n",
      "712/712 [==============================] - 0s 92us/step - loss: 0.4013 - acc: 0.8315\n",
      "Epoch 119/500\n",
      "712/712 [==============================] - 0s 95us/step - loss: 0.3993 - acc: 0.8315\n",
      "Epoch 120/500\n",
      "712/712 [==============================] - 0s 102us/step - loss: 0.3984 - acc: 0.8230 0s - loss: 0.4449 - acc: 0.795\n",
      "Epoch 121/500\n",
      "712/712 [==============================] - 0s 85us/step - loss: 0.4000 - acc: 0.8301\n",
      "Epoch 122/500\n",
      "712/712 [==============================] - 0s 78us/step - loss: 0.3989 - acc: 0.8272\n",
      "Epoch 123/500\n",
      "712/712 [==============================] - 0s 84us/step - loss: 0.4002 - acc: 0.8272\n",
      "Epoch 124/500\n",
      "712/712 [==============================] - 0s 116us/step - loss: 0.3985 - acc: 0.8272\n",
      "Epoch 125/500\n",
      "712/712 [==============================] - 0s 90us/step - loss: 0.3981 - acc: 0.8357\n",
      "Epoch 126/500\n",
      "712/712 [==============================] - 0s 95us/step - loss: 0.4015 - acc: 0.8329\n",
      "Epoch 127/500\n",
      "712/712 [==============================] - 0s 113us/step - loss: 0.3981 - acc: 0.8315\n",
      "Epoch 128/500\n",
      "712/712 [==============================] - 0s 94us/step - loss: 0.3972 - acc: 0.8301\n",
      "Epoch 129/500\n",
      "712/712 [==============================] - 0s 133us/step - loss: 0.3961 - acc: 0.8329\n",
      "Epoch 130/500\n",
      "712/712 [==============================] - 0s 123us/step - loss: 0.3973 - acc: 0.8371\n",
      "Epoch 131/500\n",
      "712/712 [==============================] - 0s 84us/step - loss: 0.3950 - acc: 0.8413\n",
      "Epoch 132/500\n",
      "712/712 [==============================] - 0s 104us/step - loss: 0.3956 - acc: 0.8315\n",
      "Epoch 133/500\n",
      "712/712 [==============================] - 0s 74us/step - loss: 0.3966 - acc: 0.8371\n",
      "Epoch 134/500\n",
      "712/712 [==============================] - 0s 125us/step - loss: 0.3949 - acc: 0.8301\n",
      "Epoch 135/500\n",
      "712/712 [==============================] - 0s 99us/step - loss: 0.3958 - acc: 0.8357\n",
      "Epoch 136/500\n",
      "712/712 [==============================] - 0s 73us/step - loss: 0.3954 - acc: 0.8385\n",
      "Epoch 137/500\n",
      "712/712 [==============================] - 0s 98us/step - loss: 0.3948 - acc: 0.8315\n",
      "Epoch 138/500\n",
      "712/712 [==============================] - 0s 69us/step - loss: 0.3966 - acc: 0.8399\n",
      "Epoch 139/500\n",
      "712/712 [==============================] - 0s 85us/step - loss: 0.3946 - acc: 0.8301\n",
      "Epoch 140/500\n",
      "712/712 [==============================] - 0s 84us/step - loss: 0.3948 - acc: 0.8357\n",
      "Epoch 141/500\n",
      "712/712 [==============================] - 0s 95us/step - loss: 0.3953 - acc: 0.8357\n",
      "Epoch 142/500\n",
      "712/712 [==============================] - 0s 80us/step - loss: 0.3954 - acc: 0.8315\n",
      "Epoch 143/500\n",
      "712/712 [==============================] - 0s 104us/step - loss: 0.3953 - acc: 0.8315\n",
      "Epoch 144/500\n",
      "712/712 [==============================] - 0s 67us/step - loss: 0.3957 - acc: 0.8343\n",
      "Epoch 145/500\n",
      "712/712 [==============================] - 0s 69us/step - loss: 0.3937 - acc: 0.8357\n",
      "Epoch 146/500\n",
      "712/712 [==============================] - 0s 74us/step - loss: 0.3933 - acc: 0.8357\n",
      "Epoch 147/500\n",
      "712/712 [==============================] - 0s 71us/step - loss: 0.3934 - acc: 0.8385\n",
      "Epoch 148/500\n",
      "712/712 [==============================] - 0s 91us/step - loss: 0.3933 - acc: 0.8371\n",
      "Epoch 149/500\n",
      "712/712 [==============================] - 0s 97us/step - loss: 0.3942 - acc: 0.8399\n",
      "Epoch 150/500\n",
      "712/712 [==============================] - 0s 83us/step - loss: 0.3971 - acc: 0.8329\n",
      "Epoch 151/500\n",
      "712/712 [==============================] - 0s 85us/step - loss: 0.3941 - acc: 0.8357\n",
      "Epoch 152/500\n",
      "712/712 [==============================] - 0s 95us/step - loss: 0.3950 - acc: 0.8357\n",
      "Epoch 153/500\n",
      "712/712 [==============================] - 0s 71us/step - loss: 0.3928 - acc: 0.8272\n",
      "Epoch 154/500\n",
      "712/712 [==============================] - 0s 69us/step - loss: 0.3984 - acc: 0.8385\n",
      "Epoch 155/500\n",
      "712/712 [==============================] - 0s 95us/step - loss: 0.3928 - acc: 0.8399\n",
      "Epoch 156/500\n",
      "712/712 [==============================] - 0s 84us/step - loss: 0.3936 - acc: 0.8343\n",
      "Epoch 157/500\n",
      "712/712 [==============================] - 0s 78us/step - loss: 0.3952 - acc: 0.8315\n",
      "Epoch 158/500\n",
      "712/712 [==============================] - 0s 91us/step - loss: 0.3931 - acc: 0.8357\n",
      "Epoch 159/500\n",
      "712/712 [==============================] - 0s 77us/step - loss: 0.3916 - acc: 0.8399\n",
      "Epoch 160/500\n",
      "712/712 [==============================] - 0s 71us/step - loss: 0.3910 - acc: 0.8399\n",
      "Epoch 161/500\n",
      "712/712 [==============================] - 0s 78us/step - loss: 0.3958 - acc: 0.8301\n",
      "Epoch 162/500\n",
      "712/712 [==============================] - 0s 91us/step - loss: 0.3913 - acc: 0.8413\n",
      "Epoch 163/500\n",
      "712/712 [==============================] - 0s 69us/step - loss: 0.3919 - acc: 0.8343\n",
      "Epoch 164/500\n",
      "712/712 [==============================] - 0s 99us/step - loss: 0.3927 - acc: 0.8385\n",
      "Epoch 165/500\n",
      "712/712 [==============================] - 0s 70us/step - loss: 0.3911 - acc: 0.8385\n",
      "Epoch 166/500\n"
     ]
    },
    {
     "name": "stdout",
     "output_type": "stream",
     "text": [
      "712/712 [==============================] - 0s 104us/step - loss: 0.3909 - acc: 0.8385\n",
      "Epoch 167/500\n",
      "712/712 [==============================] - 0s 69us/step - loss: 0.3886 - acc: 0.8357\n",
      "Epoch 168/500\n",
      "712/712 [==============================] - 0s 115us/step - loss: 0.3899 - acc: 0.8427\n",
      "Epoch 169/500\n",
      "712/712 [==============================] - 0s 95us/step - loss: 0.3909 - acc: 0.8371\n",
      "Epoch 170/500\n",
      "712/712 [==============================] - 0s 102us/step - loss: 0.3911 - acc: 0.8315\n",
      "Epoch 171/500\n",
      "712/712 [==============================] - 0s 71us/step - loss: 0.3905 - acc: 0.8385\n",
      "Epoch 172/500\n",
      "712/712 [==============================] - 0s 162us/step - loss: 0.3893 - acc: 0.8469\n",
      "Epoch 173/500\n",
      "712/712 [==============================] - 0s 73us/step - loss: 0.3901 - acc: 0.8413\n",
      "Epoch 174/500\n",
      "712/712 [==============================] - 0s 70us/step - loss: 0.3907 - acc: 0.8441\n",
      "Epoch 175/500\n",
      "712/712 [==============================] - 0s 71us/step - loss: 0.3907 - acc: 0.8357\n",
      "Epoch 176/500\n",
      "712/712 [==============================] - 0s 91us/step - loss: 0.3915 - acc: 0.8399\n",
      "Epoch 177/500\n",
      "712/712 [==============================] - 0s 73us/step - loss: 0.3919 - acc: 0.8301\n",
      "Epoch 178/500\n",
      "712/712 [==============================] - 0s 70us/step - loss: 0.3899 - acc: 0.8441\n",
      "Epoch 179/500\n",
      "712/712 [==============================] - 0s 111us/step - loss: 0.3931 - acc: 0.8371\n",
      "Epoch 180/500\n",
      "712/712 [==============================] - 0s 76us/step - loss: 0.3906 - acc: 0.8343\n",
      "Epoch 181/500\n",
      "712/712 [==============================] - 0s 67us/step - loss: 0.3891 - acc: 0.8371\n",
      "Epoch 182/500\n",
      "712/712 [==============================] - 0s 104us/step - loss: 0.3902 - acc: 0.8427\n",
      "Epoch 183/500\n",
      "712/712 [==============================] - 0s 67us/step - loss: 0.3890 - acc: 0.8385\n",
      "Epoch 184/500\n",
      "712/712 [==============================] - 0s 91us/step - loss: 0.3905 - acc: 0.8399\n",
      "Epoch 185/500\n",
      "712/712 [==============================] - 0s 98us/step - loss: 0.3911 - acc: 0.8399\n",
      "Epoch 186/500\n",
      "712/712 [==============================] - 0s 95us/step - loss: 0.3889 - acc: 0.8385\n",
      "Epoch 187/500\n",
      "712/712 [==============================] - 0s 85us/step - loss: 0.3916 - acc: 0.8399\n",
      "Epoch 188/500\n",
      "712/712 [==============================] - 0s 84us/step - loss: 0.3914 - acc: 0.8413\n",
      "Epoch 189/500\n",
      "712/712 [==============================] - 0s 94us/step - loss: 0.3871 - acc: 0.8399\n",
      "Epoch 190/500\n",
      "712/712 [==============================] - 0s 63us/step - loss: 0.3894 - acc: 0.8315\n",
      "Epoch 191/500\n",
      "712/712 [==============================] - 0s 99us/step - loss: 0.3893 - acc: 0.8357\n",
      "Epoch 192/500\n",
      "712/712 [==============================] - 0s 101us/step - loss: 0.3914 - acc: 0.8357\n",
      "Epoch 193/500\n",
      "712/712 [==============================] - 0s 97us/step - loss: 0.3879 - acc: 0.8357\n",
      "Epoch 194/500\n",
      "712/712 [==============================] - 0s 73us/step - loss: 0.3873 - acc: 0.8343\n",
      "Epoch 195/500\n",
      "712/712 [==============================] - 0s 97us/step - loss: 0.3878 - acc: 0.8399\n",
      "Epoch 196/500\n",
      "712/712 [==============================] - 0s 99us/step - loss: 0.3871 - acc: 0.8399\n",
      "Epoch 197/500\n",
      "712/712 [==============================] - 0s 101us/step - loss: 0.3897 - acc: 0.8441\n",
      "Epoch 198/500\n",
      "712/712 [==============================] - 0s 95us/step - loss: 0.3872 - acc: 0.8441\n",
      "Epoch 199/500\n",
      "712/712 [==============================] - 0s 105us/step - loss: 0.3895 - acc: 0.8399\n",
      "Epoch 200/500\n",
      "712/712 [==============================] - 0s 105us/step - loss: 0.3876 - acc: 0.8441\n",
      "Epoch 201/500\n",
      "712/712 [==============================] - 0s 80us/step - loss: 0.3875 - acc: 0.8287\n",
      "Epoch 202/500\n",
      "712/712 [==============================] - 0s 84us/step - loss: 0.3863 - acc: 0.8385\n",
      "Epoch 203/500\n",
      "712/712 [==============================] - 0s 83us/step - loss: 0.3871 - acc: 0.8357\n",
      "Epoch 204/500\n",
      "712/712 [==============================] - 0s 83us/step - loss: 0.3862 - acc: 0.8399\n",
      "Epoch 205/500\n",
      "712/712 [==============================] - 0s 94us/step - loss: 0.3880 - acc: 0.8371\n",
      "Epoch 206/500\n",
      "712/712 [==============================] - 0s 98us/step - loss: 0.3862 - acc: 0.8413\n",
      "Epoch 207/500\n",
      "712/712 [==============================] - 0s 73us/step - loss: 0.3877 - acc: 0.8399\n",
      "Epoch 208/500\n",
      "712/712 [==============================] - 0s 69us/step - loss: 0.3863 - acc: 0.8399\n",
      "Epoch 209/500\n",
      "712/712 [==============================] - 0s 67us/step - loss: 0.3909 - acc: 0.8385\n",
      "Epoch 210/500\n",
      "712/712 [==============================] - 0s 98us/step - loss: 0.3871 - acc: 0.8399\n",
      "Epoch 211/500\n",
      "712/712 [==============================] - 0s 70us/step - loss: 0.3852 - acc: 0.8301\n",
      "Epoch 212/500\n",
      "712/712 [==============================] - 0s 80us/step - loss: 0.3883 - acc: 0.8329\n",
      "Epoch 213/500\n",
      "712/712 [==============================] - 0s 97us/step - loss: 0.3844 - acc: 0.8413\n",
      "Epoch 214/500\n",
      "712/712 [==============================] - 0s 95us/step - loss: 0.3850 - acc: 0.8413\n",
      "Epoch 215/500\n",
      "712/712 [==============================] - 0s 97us/step - loss: 0.3847 - acc: 0.8413\n",
      "Epoch 216/500\n",
      "712/712 [==============================] - 0s 97us/step - loss: 0.3867 - acc: 0.8329\n",
      "Epoch 217/500\n",
      "712/712 [==============================] - 0s 91us/step - loss: 0.3834 - acc: 0.8469\n",
      "Epoch 218/500\n",
      "712/712 [==============================] - 0s 108us/step - loss: 0.3878 - acc: 0.8301\n",
      "Epoch 219/500\n",
      "712/712 [==============================] - 0s 69us/step - loss: 0.3846 - acc: 0.8399\n",
      "Epoch 220/500\n",
      "712/712 [==============================] - 0s 98us/step - loss: 0.3950 - acc: 0.8399\n",
      "Epoch 221/500\n",
      "712/712 [==============================] - 0s 99us/step - loss: 0.3844 - acc: 0.8441\n",
      "Epoch 222/500\n",
      "712/712 [==============================] - 0s 102us/step - loss: 0.3865 - acc: 0.8371\n",
      "Epoch 223/500\n",
      "712/712 [==============================] - 0s 92us/step - loss: 0.3836 - acc: 0.8413\n",
      "Epoch 224/500\n",
      "712/712 [==============================] - 0s 77us/step - loss: 0.3856 - acc: 0.8301\n",
      "Epoch 225/500\n",
      "712/712 [==============================] - 0s 94us/step - loss: 0.3823 - acc: 0.8413\n",
      "Epoch 226/500\n",
      "712/712 [==============================] - 0s 94us/step - loss: 0.3835 - acc: 0.8385\n",
      "Epoch 227/500\n",
      "712/712 [==============================] - 0s 112us/step - loss: 0.3845 - acc: 0.8413\n",
      "Epoch 228/500\n",
      "712/712 [==============================] - 0s 102us/step - loss: 0.3882 - acc: 0.8469\n",
      "Epoch 229/500\n",
      "712/712 [==============================] - 0s 66us/step - loss: 0.3858 - acc: 0.8343\n",
      "Epoch 230/500\n",
      "712/712 [==============================] - 0s 97us/step - loss: 0.3846 - acc: 0.8413\n",
      "Epoch 231/500\n",
      "712/712 [==============================] - 0s 97us/step - loss: 0.3860 - acc: 0.8455\n",
      "Epoch 232/500\n",
      "712/712 [==============================] - 0s 73us/step - loss: 0.3824 - acc: 0.8469\n",
      "Epoch 233/500\n",
      "712/712 [==============================] - 0s 69us/step - loss: 0.3858 - acc: 0.8329\n",
      "Epoch 234/500\n",
      "712/712 [==============================] - 0s 98us/step - loss: 0.3824 - acc: 0.8385\n",
      "Epoch 235/500\n",
      "712/712 [==============================] - 0s 87us/step - loss: 0.3876 - acc: 0.8399\n",
      "Epoch 236/500\n",
      "712/712 [==============================] - 0s 87us/step - loss: 0.3853 - acc: 0.8371\n",
      "Epoch 237/500\n",
      "712/712 [==============================] - 0s 84us/step - loss: 0.3836 - acc: 0.8357\n",
      "Epoch 238/500\n",
      "712/712 [==============================] - 0s 95us/step - loss: 0.3815 - acc: 0.8455\n",
      "Epoch 239/500\n",
      "712/712 [==============================] - 0s 66us/step - loss: 0.3832 - acc: 0.8357\n",
      "Epoch 240/500\n",
      "712/712 [==============================] - 0s 69us/step - loss: 0.3829 - acc: 0.8427\n",
      "Epoch 241/500\n",
      "712/712 [==============================] - 0s 74us/step - loss: 0.3810 - acc: 0.8329\n",
      "Epoch 242/500\n",
      "712/712 [==============================] - 0s 73us/step - loss: 0.3843 - acc: 0.8385\n",
      "Epoch 243/500\n",
      "712/712 [==============================] - 0s 92us/step - loss: 0.3830 - acc: 0.8287\n",
      "Epoch 244/500\n",
      "712/712 [==============================] - 0s 105us/step - loss: 0.3829 - acc: 0.8441\n",
      "Epoch 245/500\n",
      "712/712 [==============================] - 0s 71us/step - loss: 0.3789 - acc: 0.8371\n",
      "Epoch 246/500\n",
      "712/712 [==============================] - 0s 92us/step - loss: 0.3810 - acc: 0.8357\n",
      "Epoch 247/500\n",
      "712/712 [==============================] - 0s 97us/step - loss: 0.3861 - acc: 0.8329\n",
      "Epoch 248/500\n",
      "712/712 [==============================] - 0s 78us/step - loss: 0.3819 - acc: 0.8427\n",
      "Epoch 249/500\n",
      "712/712 [==============================] - 0s 102us/step - loss: 0.3825 - acc: 0.8413\n",
      "Epoch 250/500\n",
      "712/712 [==============================] - 0s 71us/step - loss: 0.3811 - acc: 0.8441\n",
      "Epoch 251/500\n",
      "712/712 [==============================] - 0s 97us/step - loss: 0.3813 - acc: 0.8399\n",
      "Epoch 252/500\n",
      "712/712 [==============================] - 0s 94us/step - loss: 0.3830 - acc: 0.8343\n",
      "Epoch 253/500\n",
      "712/712 [==============================] - 0s 95us/step - loss: 0.3846 - acc: 0.8413\n",
      "Epoch 254/500\n",
      "712/712 [==============================] - 0s 95us/step - loss: 0.3800 - acc: 0.8385\n",
      "Epoch 255/500\n",
      "712/712 [==============================] - 0s 101us/step - loss: 0.3819 - acc: 0.8399\n",
      "Epoch 256/500\n",
      "712/712 [==============================] - 0s 99us/step - loss: 0.3820 - acc: 0.8357\n",
      "Epoch 257/500\n",
      "712/712 [==============================] - 0s 98us/step - loss: 0.3789 - acc: 0.8385\n",
      "Epoch 258/500\n",
      "712/712 [==============================] - 0s 98us/step - loss: 0.3789 - acc: 0.8357\n",
      "Epoch 259/500\n",
      "712/712 [==============================] - 0s 92us/step - loss: 0.3821 - acc: 0.8385\n",
      "Epoch 260/500\n",
      "712/712 [==============================] - 0s 70us/step - loss: 0.3812 - acc: 0.8385\n",
      "Epoch 261/500\n",
      "712/712 [==============================] - 0s 102us/step - loss: 0.3788 - acc: 0.8413\n",
      "Epoch 262/500\n",
      "712/712 [==============================] - 0s 90us/step - loss: 0.3832 - acc: 0.8385\n",
      "Epoch 263/500\n",
      "712/712 [==============================] - 0s 98us/step - loss: 0.3821 - acc: 0.8343\n",
      "Epoch 264/500\n",
      "712/712 [==============================] - 0s 84us/step - loss: 0.3790 - acc: 0.8511\n",
      "Epoch 265/500\n",
      "712/712 [==============================] - 0s 91us/step - loss: 0.3802 - acc: 0.8469\n",
      "Epoch 266/500\n",
      "712/712 [==============================] - 0s 69us/step - loss: 0.3796 - acc: 0.8329\n",
      "Epoch 267/500\n",
      "712/712 [==============================] - 0s 71us/step - loss: 0.3829 - acc: 0.8357\n",
      "Epoch 268/500\n",
      "712/712 [==============================] - 0s 95us/step - loss: 0.3812 - acc: 0.8399\n",
      "Epoch 269/500\n",
      "712/712 [==============================] - 0s 71us/step - loss: 0.3823 - acc: 0.8399\n",
      "Epoch 270/500\n",
      "712/712 [==============================] - 0s 74us/step - loss: 0.3773 - acc: 0.8441\n",
      "Epoch 271/500\n",
      "712/712 [==============================] - 0s 71us/step - loss: 0.3801 - acc: 0.8455\n",
      "Epoch 272/500\n",
      "712/712 [==============================] - 0s 98us/step - loss: 0.3775 - acc: 0.8441\n",
      "Epoch 273/500\n",
      "712/712 [==============================] - 0s 67us/step - loss: 0.3817 - acc: 0.8371\n",
      "Epoch 274/500\n",
      "712/712 [==============================] - 0s 97us/step - loss: 0.3776 - acc: 0.8413\n",
      "Epoch 275/500\n",
      "712/712 [==============================] - 0s 76us/step - loss: 0.3783 - acc: 0.8413\n",
      "Epoch 276/500\n",
      "712/712 [==============================] - 0s 91us/step - loss: 0.3804 - acc: 0.8315\n",
      "Epoch 277/500\n",
      "712/712 [==============================] - 0s 92us/step - loss: 0.3796 - acc: 0.8315\n",
      "Epoch 278/500\n",
      "712/712 [==============================] - 0s 73us/step - loss: 0.3785 - acc: 0.8441\n",
      "Epoch 279/500\n",
      "712/712 [==============================] - 0s 92us/step - loss: 0.3784 - acc: 0.8371\n",
      "Epoch 280/500\n",
      "712/712 [==============================] - 0s 97us/step - loss: 0.3775 - acc: 0.8357\n",
      "Epoch 281/500\n",
      "712/712 [==============================] - 0s 94us/step - loss: 0.3782 - acc: 0.8385\n",
      "Epoch 282/500\n",
      "712/712 [==============================] - 0s 63us/step - loss: 0.3808 - acc: 0.8329\n",
      "Epoch 283/500\n",
      "712/712 [==============================] - 0s 115us/step - loss: 0.3809 - acc: 0.8413\n",
      "Epoch 284/500\n",
      "712/712 [==============================] - 0s 101us/step - loss: 0.3796 - acc: 0.8357\n",
      "Epoch 285/500\n",
      "712/712 [==============================] - 0s 94us/step - loss: 0.3786 - acc: 0.8455\n",
      "Epoch 286/500\n",
      "712/712 [==============================] - 0s 80us/step - loss: 0.3794 - acc: 0.8469\n",
      "Epoch 287/500\n",
      "712/712 [==============================] - 0s 94us/step - loss: 0.3784 - acc: 0.8441\n",
      "Epoch 288/500\n",
      "712/712 [==============================] - 0s 92us/step - loss: 0.3782 - acc: 0.8315\n",
      "Epoch 289/500\n",
      "712/712 [==============================] - 0s 92us/step - loss: 0.3754 - acc: 0.8427\n",
      "Epoch 290/500\n",
      "712/712 [==============================] - 0s 80us/step - loss: 0.3781 - acc: 0.8469\n",
      "Epoch 291/500\n",
      "712/712 [==============================] - 0s 94us/step - loss: 0.3778 - acc: 0.8427\n",
      "Epoch 292/500\n",
      "712/712 [==============================] - 0s 69us/step - loss: 0.3778 - acc: 0.8469\n",
      "Epoch 293/500\n",
      "712/712 [==============================] - 0s 116us/step - loss: 0.3777 - acc: 0.8413\n",
      "Epoch 294/500\n",
      "712/712 [==============================] - 0s 95us/step - loss: 0.3796 - acc: 0.8385\n",
      "Epoch 295/500\n",
      "712/712 [==============================] - 0s 77us/step - loss: 0.3791 - acc: 0.8441\n",
      "Epoch 296/500\n",
      "712/712 [==============================] - 0s 78us/step - loss: 0.3770 - acc: 0.8427\n",
      "Epoch 297/500\n",
      "712/712 [==============================] - 0s 92us/step - loss: 0.3780 - acc: 0.8385\n",
      "Epoch 298/500\n",
      "712/712 [==============================] - 0s 66us/step - loss: 0.3803 - acc: 0.8385\n",
      "Epoch 299/500\n",
      "712/712 [==============================] - 0s 97us/step - loss: 0.3756 - acc: 0.8357\n",
      "Epoch 300/500\n",
      "712/712 [==============================] - 0s 71us/step - loss: 0.3755 - acc: 0.8441\n",
      "Epoch 301/500\n",
      "712/712 [==============================] - 0s 113us/step - loss: 0.3807 - acc: 0.8371\n",
      "Epoch 302/500\n",
      "712/712 [==============================] - 0s 71us/step - loss: 0.3764 - acc: 0.8427\n",
      "Epoch 303/500\n",
      "712/712 [==============================] - 0s 101us/step - loss: 0.3744 - acc: 0.8427\n",
      "Epoch 304/500\n",
      "712/712 [==============================] - 0s 112us/step - loss: 0.3802 - acc: 0.8441\n",
      "Epoch 305/500\n",
      "712/712 [==============================] - 0s 70us/step - loss: 0.3786 - acc: 0.8357\n",
      "Epoch 306/500\n",
      "712/712 [==============================] - 0s 64us/step - loss: 0.3763 - acc: 0.8413\n",
      "Epoch 307/500\n",
      "712/712 [==============================] - 0s 69us/step - loss: 0.3762 - acc: 0.8357\n",
      "Epoch 308/500\n",
      "712/712 [==============================] - 0s 90us/step - loss: 0.3759 - acc: 0.8399\n",
      "Epoch 309/500\n",
      "712/712 [==============================] - 0s 78us/step - loss: 0.3750 - acc: 0.8469\n",
      "Epoch 310/500\n",
      "712/712 [==============================] - 0s 101us/step - loss: 0.3739 - acc: 0.8371\n",
      "Epoch 311/500\n",
      "712/712 [==============================] - 0s 132us/step - loss: 0.3808 - acc: 0.8329\n",
      "Epoch 312/500\n",
      "712/712 [==============================] - 0s 95us/step - loss: 0.3771 - acc: 0.8357\n",
      "Epoch 313/500\n",
      "712/712 [==============================] - 0s 119us/step - loss: 0.3763 - acc: 0.8357\n",
      "Epoch 314/500\n",
      "712/712 [==============================] - 0s 77us/step - loss: 0.3762 - acc: 0.8399\n",
      "Epoch 315/500\n",
      "712/712 [==============================] - 0s 99us/step - loss: 0.3740 - acc: 0.8441\n",
      "Epoch 316/500\n",
      "712/712 [==============================] - 0s 94us/step - loss: 0.3803 - acc: 0.8441\n",
      "Epoch 317/500\n",
      "712/712 [==============================] - 0s 81us/step - loss: 0.3747 - acc: 0.8343\n",
      "Epoch 318/500\n",
      "712/712 [==============================] - 0s 92us/step - loss: 0.3774 - acc: 0.8329\n",
      "Epoch 319/500\n",
      "712/712 [==============================] - 0s 81us/step - loss: 0.3729 - acc: 0.8399\n",
      "Epoch 320/500\n",
      "712/712 [==============================] - 0s 71us/step - loss: 0.3802 - acc: 0.8343\n",
      "Epoch 321/500\n",
      "712/712 [==============================] - 0s 126us/step - loss: 0.3743 - acc: 0.8511\n",
      "Epoch 322/500\n",
      "712/712 [==============================] - 0s 92us/step - loss: 0.3756 - acc: 0.8455\n",
      "Epoch 323/500\n",
      "712/712 [==============================] - 0s 80us/step - loss: 0.3753 - acc: 0.8385\n",
      "Epoch 324/500\n",
      "712/712 [==============================] - 0s 95us/step - loss: 0.3763 - acc: 0.8399\n",
      "Epoch 325/500\n",
      "712/712 [==============================] - 0s 74us/step - loss: 0.3768 - acc: 0.8399\n",
      "Epoch 326/500\n",
      "712/712 [==============================] - 0s 95us/step - loss: 0.3761 - acc: 0.8399\n",
      "Epoch 327/500\n",
      "712/712 [==============================] - 0s 71us/step - loss: 0.3763 - acc: 0.8427\n",
      "Epoch 328/500\n",
      "712/712 [==============================] - 0s 94us/step - loss: 0.3780 - acc: 0.8329\n",
      "Epoch 329/500\n",
      "712/712 [==============================] - 0s 66us/step - loss: 0.3752 - acc: 0.8399\n",
      "Epoch 330/500\n"
     ]
    },
    {
     "name": "stdout",
     "output_type": "stream",
     "text": [
      "712/712 [==============================] - 0s 95us/step - loss: 0.3752 - acc: 0.8343\n",
      "Epoch 331/500\n",
      "712/712 [==============================] - 0s 67us/step - loss: 0.3722 - acc: 0.8385\n",
      "Epoch 332/500\n",
      "712/712 [==============================] - 0s 101us/step - loss: 0.3763 - acc: 0.8399\n",
      "Epoch 333/500\n",
      "712/712 [==============================] - 0s 112us/step - loss: 0.3734 - acc: 0.8385\n",
      "Epoch 334/500\n",
      "712/712 [==============================] - 0s 104us/step - loss: 0.3745 - acc: 0.8371\n",
      "Epoch 335/500\n",
      "712/712 [==============================] - 0s 90us/step - loss: 0.3747 - acc: 0.8427\n",
      "Epoch 336/500\n",
      "712/712 [==============================] - 0s 91us/step - loss: 0.3737 - acc: 0.8413\n",
      "Epoch 337/500\n",
      "712/712 [==============================] - 0s 70us/step - loss: 0.3762 - acc: 0.8441\n",
      "Epoch 338/500\n",
      "712/712 [==============================] - 0s 71us/step - loss: 0.3736 - acc: 0.8413\n",
      "Epoch 339/500\n",
      "712/712 [==============================] - 0s 80us/step - loss: 0.3752 - acc: 0.8469\n",
      "Epoch 340/500\n",
      "712/712 [==============================] - 0s 105us/step - loss: 0.3759 - acc: 0.8427\n",
      "Epoch 341/500\n",
      "712/712 [==============================] - 0s 98us/step - loss: 0.3759 - acc: 0.8315\n",
      "Epoch 342/500\n",
      "712/712 [==============================] - 0s 91us/step - loss: 0.3764 - acc: 0.8469\n",
      "Epoch 343/500\n",
      "712/712 [==============================] - 0s 78us/step - loss: 0.3762 - acc: 0.8399\n",
      "Epoch 344/500\n",
      "712/712 [==============================] - 0s 69us/step - loss: 0.3718 - acc: 0.8427\n",
      "Epoch 345/500\n",
      "712/712 [==============================] - 0s 99us/step - loss: 0.3725 - acc: 0.8371\n",
      "Epoch 346/500\n",
      "712/712 [==============================] - 0s 69us/step - loss: 0.3715 - acc: 0.8413\n",
      "Epoch 347/500\n",
      "712/712 [==============================] - 0s 66us/step - loss: 0.3726 - acc: 0.8441\n",
      "Epoch 348/500\n",
      "712/712 [==============================] - 0s 85us/step - loss: 0.3718 - acc: 0.8399\n",
      "Epoch 349/500\n",
      "712/712 [==============================] - 0s 106us/step - loss: 0.3741 - acc: 0.8427\n",
      "Epoch 350/500\n",
      "712/712 [==============================] - 0s 99us/step - loss: 0.3722 - acc: 0.8343\n",
      "Epoch 351/500\n",
      "712/712 [==============================] - 0s 90us/step - loss: 0.3734 - acc: 0.8441\n",
      "Epoch 352/500\n",
      "712/712 [==============================] - 0s 71us/step - loss: 0.3724 - acc: 0.8399\n",
      "Epoch 353/500\n",
      "712/712 [==============================] - 0s 99us/step - loss: 0.3719 - acc: 0.8371\n",
      "Epoch 354/500\n",
      "712/712 [==============================] - 0s 95us/step - loss: 0.3695 - acc: 0.8329\n",
      "Epoch 355/500\n",
      "712/712 [==============================] - 0s 73us/step - loss: 0.3720 - acc: 0.8525\n",
      "Epoch 356/500\n",
      "712/712 [==============================] - 0s 98us/step - loss: 0.3720 - acc: 0.8413\n",
      "Epoch 357/500\n",
      "712/712 [==============================] - 0s 99us/step - loss: 0.3710 - acc: 0.8399\n",
      "Epoch 358/500\n",
      "712/712 [==============================] - 0s 97us/step - loss: 0.3731 - acc: 0.8357\n",
      "Epoch 359/500\n",
      "712/712 [==============================] - 0s 71us/step - loss: 0.3711 - acc: 0.8413\n",
      "Epoch 360/500\n",
      "712/712 [==============================] - 0s 87us/step - loss: 0.3645 - acc: 0.8511\n",
      "Epoch 361/500\n",
      "712/712 [==============================] - 0s 97us/step - loss: 0.3760 - acc: 0.8497\n",
      "Epoch 362/500\n",
      "712/712 [==============================] - 0s 98us/step - loss: 0.3716 - acc: 0.8385\n",
      "Epoch 363/500\n",
      "712/712 [==============================] - 0s 97us/step - loss: 0.3729 - acc: 0.8455\n",
      "Epoch 364/500\n",
      "712/712 [==============================] - 0s 71us/step - loss: 0.3705 - acc: 0.8441\n",
      "Epoch 365/500\n",
      "712/712 [==============================] - 0s 76us/step - loss: 0.3701 - acc: 0.8357\n",
      "Epoch 366/500\n",
      "712/712 [==============================] - 0s 94us/step - loss: 0.3703 - acc: 0.8441\n",
      "Epoch 367/500\n",
      "712/712 [==============================] - 0s 67us/step - loss: 0.3711 - acc: 0.8455\n",
      "Epoch 368/500\n",
      "712/712 [==============================] - 0s 98us/step - loss: 0.3738 - acc: 0.8455\n",
      "Epoch 369/500\n",
      "712/712 [==============================] - 0s 73us/step - loss: 0.3700 - acc: 0.8427\n",
      "Epoch 370/500\n",
      "712/712 [==============================] - 0s 108us/step - loss: 0.3720 - acc: 0.8399\n",
      "Epoch 371/500\n",
      "712/712 [==============================] - 0s 90us/step - loss: 0.3700 - acc: 0.8455\n",
      "Epoch 372/500\n",
      "712/712 [==============================] - 0s 66us/step - loss: 0.3703 - acc: 0.8413\n",
      "Epoch 373/500\n",
      "712/712 [==============================] - 0s 73us/step - loss: 0.3707 - acc: 0.8399\n",
      "Epoch 374/500\n",
      "712/712 [==============================] - 0s 97us/step - loss: 0.3697 - acc: 0.8343\n",
      "Epoch 375/500\n",
      "712/712 [==============================] - 0s 94us/step - loss: 0.3715 - acc: 0.8343\n",
      "Epoch 376/500\n",
      "712/712 [==============================] - 0s 66us/step - loss: 0.3695 - acc: 0.8455\n",
      "Epoch 377/500\n",
      "712/712 [==============================] - 0s 69us/step - loss: 0.3732 - acc: 0.8427\n",
      "Epoch 378/500\n",
      "712/712 [==============================] - 0s 71us/step - loss: 0.3698 - acc: 0.8427\n",
      "Epoch 379/500\n",
      "712/712 [==============================] - 0s 95us/step - loss: 0.3714 - acc: 0.8413\n",
      "Epoch 380/500\n",
      "712/712 [==============================] - 0s 78us/step - loss: 0.3698 - acc: 0.8385\n",
      "Epoch 381/500\n",
      "712/712 [==============================] - 0s 106us/step - loss: 0.3673 - acc: 0.8427\n",
      "Epoch 382/500\n",
      "712/712 [==============================] - 0s 97us/step - loss: 0.3697 - acc: 0.8469\n",
      "Epoch 383/500\n",
      "712/712 [==============================] - 0s 94us/step - loss: 0.3710 - acc: 0.8385\n",
      "Epoch 384/500\n",
      "712/712 [==============================] - 0s 67us/step - loss: 0.3715 - acc: 0.8329\n",
      "Epoch 385/500\n",
      "712/712 [==============================] - 0s 97us/step - loss: 0.3698 - acc: 0.8483\n",
      "Epoch 386/500\n",
      "712/712 [==============================] - 0s 102us/step - loss: 0.3708 - acc: 0.8441\n",
      "Epoch 387/500\n",
      "712/712 [==============================] - 0s 94us/step - loss: 0.3678 - acc: 0.8441\n",
      "Epoch 388/500\n",
      "712/712 [==============================] - 0s 78us/step - loss: 0.3680 - acc: 0.8413\n",
      "Epoch 389/500\n",
      "712/712 [==============================] - 0s 98us/step - loss: 0.3677 - acc: 0.8371\n",
      "Epoch 390/500\n",
      "712/712 [==============================] - 0s 81us/step - loss: 0.3678 - acc: 0.8441\n",
      "Epoch 391/500\n",
      "712/712 [==============================] - 0s 98us/step - loss: 0.3664 - acc: 0.8427\n",
      "Epoch 392/500\n",
      "712/712 [==============================] - 0s 92us/step - loss: 0.3695 - acc: 0.8272\n",
      "Epoch 393/500\n",
      "712/712 [==============================] - 0s 73us/step - loss: 0.3665 - acc: 0.8427\n",
      "Epoch 394/500\n",
      "712/712 [==============================] - 0s 98us/step - loss: 0.3670 - acc: 0.8427\n",
      "Epoch 395/500\n",
      "712/712 [==============================] - 0s 69us/step - loss: 0.3697 - acc: 0.8441\n",
      "Epoch 396/500\n",
      "712/712 [==============================] - 0s 81us/step - loss: 0.3689 - acc: 0.8441\n",
      "Epoch 397/500\n",
      "712/712 [==============================] - 0s 70us/step - loss: 0.3689 - acc: 0.8427\n",
      "Epoch 398/500\n",
      "712/712 [==============================] - 0s 85us/step - loss: 0.3643 - acc: 0.8427\n",
      "Epoch 399/500\n",
      "712/712 [==============================] - 0s 105us/step - loss: 0.3676 - acc: 0.8455\n",
      "Epoch 400/500\n",
      "712/712 [==============================] - 0s 97us/step - loss: 0.3663 - acc: 0.8441\n",
      "Epoch 401/500\n",
      "712/712 [==============================] - 0s 81us/step - loss: 0.3709 - acc: 0.8371\n",
      "Epoch 402/500\n",
      "712/712 [==============================] - 0s 122us/step - loss: 0.3657 - acc: 0.8427\n",
      "Epoch 403/500\n",
      "712/712 [==============================] - 0s 98us/step - loss: 0.3669 - acc: 0.8413\n",
      "Epoch 404/500\n",
      "712/712 [==============================] - 0s 105us/step - loss: 0.3659 - acc: 0.8427\n",
      "Epoch 405/500\n",
      "712/712 [==============================] - 0s 91us/step - loss: 0.3683 - acc: 0.8511\n",
      "Epoch 406/500\n",
      "712/712 [==============================] - 0s 77us/step - loss: 0.3665 - acc: 0.8413\n",
      "Epoch 407/500\n",
      "712/712 [==============================] - 0s 71us/step - loss: 0.3644 - acc: 0.8413\n",
      "Epoch 408/500\n",
      "712/712 [==============================] - 0s 73us/step - loss: 0.3660 - acc: 0.8427\n",
      "Epoch 409/500\n",
      "712/712 [==============================] - 0s 99us/step - loss: 0.3673 - acc: 0.8357\n",
      "Epoch 410/500\n",
      "712/712 [==============================] - 0s 102us/step - loss: 0.3714 - acc: 0.8413\n",
      "Epoch 411/500\n",
      "712/712 [==============================] - 0s 80us/step - loss: 0.3673 - acc: 0.8427\n",
      "Epoch 412/500\n",
      "712/712 [==============================] - 0s 97us/step - loss: 0.3633 - acc: 0.8385\n",
      "Epoch 413/500\n",
      "712/712 [==============================] - 0s 69us/step - loss: 0.3657 - acc: 0.8455\n",
      "Epoch 414/500\n",
      "712/712 [==============================] - 0s 101us/step - loss: 0.3667 - acc: 0.8427\n",
      "Epoch 415/500\n",
      "712/712 [==============================] - 0s 69us/step - loss: 0.3632 - acc: 0.8413\n",
      "Epoch 416/500\n",
      "712/712 [==============================] - 0s 84us/step - loss: 0.3638 - acc: 0.8441\n",
      "Epoch 417/500\n",
      "712/712 [==============================] - 0s 109us/step - loss: 0.3660 - acc: 0.8371\n",
      "Epoch 418/500\n",
      "712/712 [==============================] - 0s 102us/step - loss: 0.3641 - acc: 0.8399\n",
      "Epoch 419/500\n",
      "712/712 [==============================] - 0s 95us/step - loss: 0.3660 - acc: 0.8413\n",
      "Epoch 420/500\n",
      "712/712 [==============================] - 0s 71us/step - loss: 0.3644 - acc: 0.8441\n",
      "Epoch 421/500\n",
      "712/712 [==============================] - 0s 97us/step - loss: 0.3640 - acc: 0.8399\n",
      "Epoch 422/500\n",
      "712/712 [==============================] - 0s 73us/step - loss: 0.3653 - acc: 0.8357\n",
      "Epoch 423/500\n",
      "712/712 [==============================] - 0s 108us/step - loss: 0.3637 - acc: 0.8483\n",
      "Epoch 424/500\n",
      "712/712 [==============================] - 0s 108us/step - loss: 0.3634 - acc: 0.8371\n",
      "Epoch 425/500\n",
      "712/712 [==============================] - 0s 111us/step - loss: 0.3652 - acc: 0.8441\n",
      "Epoch 426/500\n",
      "712/712 [==============================] - 0s 102us/step - loss: 0.3627 - acc: 0.8497\n",
      "Epoch 427/500\n",
      "712/712 [==============================] - 0s 97us/step - loss: 0.3612 - acc: 0.8441\n",
      "Epoch 428/500\n",
      "712/712 [==============================] - 0s 70us/step - loss: 0.3666 - acc: 0.8413\n",
      "Epoch 429/500\n",
      "712/712 [==============================] - 0s 69us/step - loss: 0.3612 - acc: 0.8427\n",
      "Epoch 430/500\n",
      "712/712 [==============================] - 0s 69us/step - loss: 0.3635 - acc: 0.8413\n",
      "Epoch 431/500\n",
      "712/712 [==============================] - 0s 76us/step - loss: 0.3602 - acc: 0.8427\n",
      "Epoch 432/500\n",
      "712/712 [==============================] - 0s 108us/step - loss: 0.3616 - acc: 0.8441\n",
      "Epoch 433/500\n",
      "712/712 [==============================] - 0s 104us/step - loss: 0.3664 - acc: 0.8399\n",
      "Epoch 434/500\n",
      "712/712 [==============================] - 0s 95us/step - loss: 0.3609 - acc: 0.8427\n",
      "Epoch 435/500\n",
      "712/712 [==============================] - 0s 95us/step - loss: 0.3645 - acc: 0.8441\n",
      "Epoch 436/500\n",
      "712/712 [==============================] - 0s 71us/step - loss: 0.3631 - acc: 0.8469\n",
      "Epoch 437/500\n",
      "712/712 [==============================] - 0s 127us/step - loss: 0.3605 - acc: 0.8399\n",
      "Epoch 438/500\n",
      "712/712 [==============================] - 0s 104us/step - loss: 0.3630 - acc: 0.8413\n",
      "Epoch 439/500\n",
      "712/712 [==============================] - 0s 88us/step - loss: 0.3628 - acc: 0.8357\n",
      "Epoch 440/500\n",
      "712/712 [==============================] - 0s 101us/step - loss: 0.3605 - acc: 0.8385\n",
      "Epoch 441/500\n",
      "712/712 [==============================] - 0s 99us/step - loss: 0.3613 - acc: 0.8427\n",
      "Epoch 442/500\n",
      "712/712 [==============================] - 0s 101us/step - loss: 0.3606 - acc: 0.8441\n",
      "Epoch 443/500\n",
      "712/712 [==============================] - 0s 90us/step - loss: 0.3615 - acc: 0.8497\n",
      "Epoch 444/500\n",
      "712/712 [==============================] - 0s 106us/step - loss: 0.3629 - acc: 0.8357\n",
      "Epoch 445/500\n",
      "712/712 [==============================] - 0s 73us/step - loss: 0.3632 - acc: 0.8413\n",
      "Epoch 446/500\n",
      "712/712 [==============================] - 0s 95us/step - loss: 0.3628 - acc: 0.8469\n",
      "Epoch 447/500\n",
      "712/712 [==============================] - 0s 74us/step - loss: 0.3618 - acc: 0.8497\n",
      "Epoch 448/500\n",
      "712/712 [==============================] - 0s 111us/step - loss: 0.3616 - acc: 0.8399\n",
      "Epoch 449/500\n",
      "712/712 [==============================] - 0s 101us/step - loss: 0.3625 - acc: 0.8371\n",
      "Epoch 450/500\n",
      "712/712 [==============================] - 0s 104us/step - loss: 0.3632 - acc: 0.8483\n",
      "Epoch 451/500\n",
      "712/712 [==============================] - 0s 112us/step - loss: 0.3636 - acc: 0.8497\n",
      "Epoch 452/500\n",
      "712/712 [==============================] - 0s 80us/step - loss: 0.3646 - acc: 0.8357\n",
      "Epoch 453/500\n",
      "712/712 [==============================] - 0s 105us/step - loss: 0.3597 - acc: 0.8497\n",
      "Epoch 454/500\n",
      "712/712 [==============================] - 0s 77us/step - loss: 0.3639 - acc: 0.8343\n",
      "Epoch 455/500\n",
      "712/712 [==============================] - 0s 94us/step - loss: 0.3613 - acc: 0.8371\n",
      "Epoch 456/500\n",
      "712/712 [==============================] - 0s 77us/step - loss: 0.3575 - acc: 0.8441\n",
      "Epoch 457/500\n",
      "712/712 [==============================] - 0s 70us/step - loss: 0.3583 - acc: 0.8399\n",
      "Epoch 458/500\n",
      "712/712 [==============================] - 0s 111us/step - loss: 0.3599 - acc: 0.8511\n",
      "Epoch 459/500\n",
      "712/712 [==============================] - 0s 101us/step - loss: 0.3612 - acc: 0.8469\n",
      "Epoch 460/500\n",
      "712/712 [==============================] - 0s 106us/step - loss: 0.3587 - acc: 0.8441\n",
      "Epoch 461/500\n",
      "712/712 [==============================] - 0s 80us/step - loss: 0.3613 - acc: 0.8483\n",
      "Epoch 462/500\n",
      "712/712 [==============================] - 0s 69us/step - loss: 0.3595 - acc: 0.8413\n",
      "Epoch 463/500\n",
      "712/712 [==============================] - 0s 67us/step - loss: 0.3604 - acc: 0.8371\n",
      "Epoch 464/500\n",
      "712/712 [==============================] - 0s 67us/step - loss: 0.3606 - acc: 0.8371\n",
      "Epoch 465/500\n",
      "712/712 [==============================] - 0s 101us/step - loss: 0.3583 - acc: 0.8399\n",
      "Epoch 466/500\n",
      "712/712 [==============================] - 0s 80us/step - loss: 0.3585 - acc: 0.8455\n",
      "Epoch 467/500\n",
      "712/712 [==============================] - 0s 95us/step - loss: 0.3575 - acc: 0.8511\n",
      "Epoch 468/500\n",
      "712/712 [==============================] - 0s 130us/step - loss: 0.3578 - acc: 0.8427\n",
      "Epoch 469/500\n",
      "712/712 [==============================] - 0s 87us/step - loss: 0.3624 - acc: 0.8497\n",
      "Epoch 470/500\n",
      "712/712 [==============================] - 0s 102us/step - loss: 0.3579 - acc: 0.8399\n",
      "Epoch 471/500\n",
      "712/712 [==============================] - 0s 77us/step - loss: 0.3582 - acc: 0.8497\n",
      "Epoch 472/500\n",
      "712/712 [==============================] - 0s 66us/step - loss: 0.3579 - acc: 0.8427\n",
      "Epoch 473/500\n",
      "712/712 [==============================] - 0s 81us/step - loss: 0.3569 - acc: 0.8469\n",
      "Epoch 474/500\n",
      "712/712 [==============================] - 0s 90us/step - loss: 0.3534 - acc: 0.8441\n",
      "Epoch 475/500\n",
      "712/712 [==============================] - 0s 104us/step - loss: 0.3637 - acc: 0.8511\n",
      "Epoch 476/500\n",
      "712/712 [==============================] - 0s 91us/step - loss: 0.3603 - acc: 0.8427\n",
      "Epoch 477/500\n",
      "712/712 [==============================] - 0s 90us/step - loss: 0.3556 - acc: 0.8343\n",
      "Epoch 478/500\n",
      "712/712 [==============================] - 0s 104us/step - loss: 0.3591 - acc: 0.8427\n",
      "Epoch 479/500\n",
      "712/712 [==============================] - 0s 76us/step - loss: 0.3587 - acc: 0.8455\n",
      "Epoch 480/500\n",
      "712/712 [==============================] - 0s 70us/step - loss: 0.3585 - acc: 0.8511\n",
      "Epoch 481/500\n",
      "712/712 [==============================] - 0s 98us/step - loss: 0.3552 - acc: 0.8441\n",
      "Epoch 482/500\n",
      "712/712 [==============================] - 0s 70us/step - loss: 0.3589 - acc: 0.8413\n",
      "Epoch 483/500\n",
      "712/712 [==============================] - 0s 95us/step - loss: 0.3547 - acc: 0.8469\n",
      "Epoch 484/500\n",
      "712/712 [==============================] - 0s 81us/step - loss: 0.3592 - acc: 0.8469\n",
      "Epoch 485/500\n",
      "712/712 [==============================] - 0s 94us/step - loss: 0.3598 - acc: 0.8469\n",
      "Epoch 486/500\n",
      "712/712 [==============================] - 0s 71us/step - loss: 0.3609 - acc: 0.8441\n",
      "Epoch 487/500\n",
      "712/712 [==============================] - 0s 88us/step - loss: 0.3551 - acc: 0.8483\n",
      "Epoch 488/500\n",
      "712/712 [==============================] - 0s 81us/step - loss: 0.3555 - acc: 0.8441\n",
      "Epoch 489/500\n",
      "712/712 [==============================] - 0s 74us/step - loss: 0.3566 - acc: 0.8413\n",
      "Epoch 490/500\n",
      "712/712 [==============================] - 0s 113us/step - loss: 0.3586 - acc: 0.8455\n",
      "Epoch 491/500\n",
      "712/712 [==============================] - 0s 91us/step - loss: 0.3584 - acc: 0.8455\n",
      "Epoch 492/500\n",
      "712/712 [==============================] - 0s 71us/step - loss: 0.3580 - acc: 0.8441\n",
      "Epoch 493/500\n",
      "712/712 [==============================] - 0s 69us/step - loss: 0.3591 - acc: 0.8385\n",
      "Epoch 494/500\n"
     ]
    },
    {
     "name": "stdout",
     "output_type": "stream",
     "text": [
      "712/712 [==============================] - 0s 90us/step - loss: 0.3547 - acc: 0.8525\n",
      "Epoch 495/500\n",
      "712/712 [==============================] - 0s 106us/step - loss: 0.3596 - acc: 0.8441\n",
      "Epoch 496/500\n",
      "712/712 [==============================] - 0s 70us/step - loss: 0.3528 - acc: 0.8441\n",
      "Epoch 497/500\n",
      "712/712 [==============================] - 0s 126us/step - loss: 0.3577 - acc: 0.8427\n",
      "Epoch 498/500\n",
      "712/712 [==============================] - 0s 91us/step - loss: 0.3647 - acc: 0.8371\n",
      "Epoch 499/500\n",
      "712/712 [==============================] - 0s 77us/step - loss: 0.3578 - acc: 0.8441\n",
      "Epoch 500/500\n",
      "712/712 [==============================] - 0s 94us/step - loss: 0.3586 - acc: 0.8413\n"
     ]
    },
    {
     "data": {
      "text/plain": [
       "<keras.callbacks.History at 0x26719e9c0b8>"
      ]
     },
     "execution_count": 36,
     "metadata": {},
     "output_type": "execute_result"
    }
   ],
   "source": [
    "# Fit the model\n",
    "model.fit(x_train, y_train, epochs = 500, batch_size = 10)"
   ]
  },
  {
   "cell_type": "markdown",
   "metadata": {},
   "source": [
    "## 5.5 Evaluate Model"
   ]
  },
  {
   "cell_type": "markdown",
   "metadata": {},
   "source": [
    "evaluate your model using the evaluate() function "
   ]
  },
  {
   "cell_type": "code",
   "execution_count": 38,
   "metadata": {},
   "outputs": [
    {
     "name": "stdout",
     "output_type": "stream",
     "text": [
      "179/179 [==============================] - 0s 351us/step\n"
     ]
    }
   ],
   "source": [
    "# evaluate the model\n",
    "scores = model.evaluate(x_valid, y_valid)"
   ]
  },
  {
   "cell_type": "code",
   "execution_count": 42,
   "metadata": {},
   "outputs": [],
   "source": [
    "def run_nn_kfold(model, x_all, y_all, n_folds = 10, print_each = False, print_head = 3):\n",
    "    kf = KFold(len(y_all), n_folds)\n",
    "    outcomes = []\n",
    "    fold = 0\n",
    "    for train_index, test_index in kf:\n",
    "        fold += 1\n",
    "        x_train, x_test = x_all.values[train_index], x_all.values[test_index]\n",
    "        y_train, y_test = y_all.values[train_index], y_all.values[test_index]\n",
    "        scores = model.evaluate(x_train, y_train)\n",
    "        outcomes.append(scores[1])\n",
    "        if print_each:\n",
    "            print(\"Fold {} accuracy: {}\".format(fold, scores[1]))\n",
    "    mean_outcome = np.mean(outcomes)\n",
    "    print(outcomes[:print_head])\n",
    "    print(\"Mean Accuracy: {}\".format(mean_outcome))\n",
    "    return mean_outcome"
   ]
  },
  {
   "cell_type": "code",
   "execution_count": 43,
   "metadata": {},
   "outputs": [
    {
     "name": "stdout",
     "output_type": "stream",
     "text": [
      "801/801 [==============================] - 0s 40us/step\n",
      "802/802 [==============================] - 0s 11us/step\n",
      "802/802 [==============================] - 0s 12us/step\n",
      "802/802 [==============================] - 0s 11us/step\n",
      "802/802 [==============================] - 0s 26us/step\n",
      "802/802 [==============================] - 0s 15us/step\n",
      "802/802 [==============================] - 0s 11us/step\n",
      "802/802 [==============================] - 0s 11us/step\n",
      "802/802 [==============================] - 0s 11us/step\n",
      "802/802 [==============================] - 0s 26us/step\n",
      "[0.8439450686641697, 0.8366583541147132, 0.8491271820448878]\n",
      "Mean Accuracy: 0.8428733098589356\n"
     ]
    },
    {
     "data": {
      "text/plain": [
       "0.8428733098589356"
      ]
     },
     "execution_count": 43,
     "metadata": {},
     "output_type": "execute_result"
    }
   ],
   "source": [
    "run_nn_kfold(model, x_all, y_all)"
   ]
  },
  {
   "cell_type": "markdown",
   "metadata": {},
   "source": [
    "## 5.6 Make Predictions"
   ]
  },
  {
   "cell_type": "markdown",
   "metadata": {},
   "source": [
    "calling model.predict()"
   ]
  },
  {
   "cell_type": "code",
   "execution_count": 59,
   "metadata": {},
   "outputs": [],
   "source": [
    "def model_pred(model, x_test, y_ID):\n",
    "    prediction = model.predict(x_test)\n",
    "    prediction = [int(round(x[0])) for x in prediction]\n",
    "    output = pd.DataFrame({'ID' : y_ID, 'Survived': prediction})\n",
    "    return output"
   ]
  },
  {
   "cell_type": "code",
   "execution_count": 60,
   "metadata": {},
   "outputs": [
    {
     "data": {
      "text/html": [
       "<div>\n",
       "<style scoped>\n",
       "    .dataframe tbody tr th:only-of-type {\n",
       "        vertical-align: middle;\n",
       "    }\n",
       "\n",
       "    .dataframe tbody tr th {\n",
       "        vertical-align: top;\n",
       "    }\n",
       "\n",
       "    .dataframe thead th {\n",
       "        text-align: right;\n",
       "    }\n",
       "</style>\n",
       "<table border=\"1\" class=\"dataframe\">\n",
       "  <thead>\n",
       "    <tr style=\"text-align: right;\">\n",
       "      <th></th>\n",
       "      <th>ID</th>\n",
       "      <th>Survived</th>\n",
       "    </tr>\n",
       "  </thead>\n",
       "  <tbody>\n",
       "    <tr>\n",
       "      <th>0</th>\n",
       "      <td>892</td>\n",
       "      <td>0</td>\n",
       "    </tr>\n",
       "    <tr>\n",
       "      <th>1</th>\n",
       "      <td>893</td>\n",
       "      <td>0</td>\n",
       "    </tr>\n",
       "    <tr>\n",
       "      <th>2</th>\n",
       "      <td>894</td>\n",
       "      <td>0</td>\n",
       "    </tr>\n",
       "    <tr>\n",
       "      <th>3</th>\n",
       "      <td>895</td>\n",
       "      <td>0</td>\n",
       "    </tr>\n",
       "    <tr>\n",
       "      <th>4</th>\n",
       "      <td>896</td>\n",
       "      <td>0</td>\n",
       "    </tr>\n",
       "  </tbody>\n",
       "</table>\n",
       "</div>"
      ],
      "text/plain": [
       "    ID  Survived\n",
       "0  892         0\n",
       "1  893         0\n",
       "2  894         0\n",
       "3  895         0\n",
       "4  896         0"
      ]
     },
     "execution_count": 60,
     "metadata": {},
     "output_type": "execute_result"
    }
   ],
   "source": [
    "# calculate predictions\n",
    "pred_nn_df = model_pred(model, x_test, test_id)\n",
    "pred_nn_df.head()"
   ]
  },
  {
   "cell_type": "markdown",
   "metadata": {},
   "source": [
    "## 5.7 Output"
   ]
  },
  {
   "cell_type": "code",
   "execution_count": 61,
   "metadata": {},
   "outputs": [
    {
     "data": {
      "text/html": [
       "<div>\n",
       "<style scoped>\n",
       "    .dataframe tbody tr th:only-of-type {\n",
       "        vertical-align: middle;\n",
       "    }\n",
       "\n",
       "    .dataframe tbody tr th {\n",
       "        vertical-align: top;\n",
       "    }\n",
       "\n",
       "    .dataframe thead th {\n",
       "        text-align: right;\n",
       "    }\n",
       "</style>\n",
       "<table border=\"1\" class=\"dataframe\">\n",
       "  <thead>\n",
       "    <tr style=\"text-align: right;\">\n",
       "      <th></th>\n",
       "      <th>PassengerId</th>\n",
       "      <th>Survived</th>\n",
       "    </tr>\n",
       "  </thead>\n",
       "  <tbody>\n",
       "    <tr>\n",
       "      <th>0</th>\n",
       "      <td>892</td>\n",
       "      <td>0</td>\n",
       "    </tr>\n",
       "    <tr>\n",
       "      <th>1</th>\n",
       "      <td>893</td>\n",
       "      <td>0</td>\n",
       "    </tr>\n",
       "    <tr>\n",
       "      <th>2</th>\n",
       "      <td>894</td>\n",
       "      <td>0</td>\n",
       "    </tr>\n",
       "  </tbody>\n",
       "</table>\n",
       "</div>"
      ],
      "text/plain": [
       "   PassengerId  Survived\n",
       "0          892         0\n",
       "1          893         0\n",
       "2          894         0"
      ]
     },
     "execution_count": 61,
     "metadata": {},
     "output_type": "execute_result"
    }
   ],
   "source": [
    "output = pred_nn_df.copy()\n",
    "output = output.rename(columns = {'ID': 'PassengerId'} )\n",
    "output.head(3)"
   ]
  },
  {
   "cell_type": "code",
   "execution_count": 62,
   "metadata": {},
   "outputs": [],
   "source": [
    "output.to_csv('titanic_nn_pred.csv', index = False)"
   ]
  }
 ],
 "metadata": {
  "kernelspec": {
   "display_name": "Python 3",
   "language": "python",
   "name": "python3"
  },
  "language_info": {
   "codemirror_mode": {
    "name": "ipython",
    "version": 3
   },
   "file_extension": ".py",
   "mimetype": "text/x-python",
   "name": "python",
   "nbconvert_exporter": "python",
   "pygments_lexer": "ipython3",
   "version": "3.6.6"
  }
 },
 "nbformat": 4,
 "nbformat_minor": 2
}
